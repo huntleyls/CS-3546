{
 "cells": [
  {
   "cell_type": "code",
   "execution_count": 1,
   "id": "63cfab3c",
   "metadata": {},
   "outputs": [],
   "source": [
    "import pandas as pd\n",
    "import ipaddress\n",
    "import matplotlib.pyplot as plt"
   ]
  },
  {
   "cell_type": "markdown",
   "id": "e6bb778e",
   "metadata": {},
   "source": [
    "# CIDR Block (Classless Inter Domain Range)"
   ]
  },
  {
   "cell_type": "code",
   "execution_count": null,
   "id": "3682aea2",
   "metadata": {},
   "outputs": [],
   "source": [
    "\n",
    "IP_add_list= [str(ip) for ip in ipaddress.IPv4Network('192.0.2.0/24')]  # generating te list of all IPs in CIDR block\n",
    "#print (IP_add_list)\n",
    "input_ip = input('IP Address: ') \n",
    "if input_ip in IP_add_list:\n",
    "    print (\"IP in given CIDR block\")\n",
    "else:\n",
    "    print(\"IP not in the given CIDR block\")"
   ]
  },
  {
   "cell_type": "code",
   "execution_count": null,
   "id": "1fa386a7",
   "metadata": {},
   "outputs": [],
   "source": [
    "#print(IP_add_list)"
   ]
  },
  {
   "cell_type": "code",
   "execution_count": null,
   "id": "ffac8003",
   "metadata": {},
   "outputs": [],
   "source": [
    "def ip_is_in_cidr(ip_add, cidr):\n",
    "    IP_add_list= [str(ip) for ip in ipaddress.IPv4Network(cidr)]\n",
    "    if ip_add in IP_add_list:\n",
    "        return True\n",
    "    else:\n",
    "        return False"
   ]
  },
  {
   "cell_type": "code",
   "execution_count": null,
   "id": "b930dbe8",
   "metadata": {},
   "outputs": [],
   "source": [
    "ip_is_in_cidr(\"192.0.2.15\", \"192.0.2.0/29\")"
   ]
  },
  {
   "cell_type": "code",
   "execution_count": null,
   "id": "7b2d3afe",
   "metadata": {},
   "outputs": [],
   "source": [
    "ip_reputation_df = pd.read_csv(\"AlienVault_IP_reputation.csv\")"
   ]
  },
  {
   "cell_type": "code",
   "execution_count": null,
   "id": "9b90bd5f",
   "metadata": {},
   "outputs": [],
   "source": []
  },
  {
   "cell_type": "code",
   "execution_count": null,
   "id": "e477dbd9",
   "metadata": {},
   "outputs": [],
   "source": [
    "lat_list = []\n",
    "long_list= []\n",
    "\n",
    "for coord in ip_reputation_df['Coords']:\n",
    "    lat_long = coord.split(',')\n",
    "    lat= lat_long[0]\n",
    "    lon = lat_long[1]\n",
    "    lat_list.append(float(lat))\n",
    "    long_list.append(float(lon))\n",
    "\n",
    "ip_reputation_df['lat'] = lat_list\n",
    "ip_reputation_df['lon'] = long_list\n"
   ]
  },
  {
   "cell_type": "code",
   "execution_count": null,
   "id": "e7baff60",
   "metadata": {},
   "outputs": [],
   "source": [
    "ip_reputation_df.shape"
   ]
  },
  {
   "cell_type": "code",
   "execution_count": null,
   "id": "245c2463",
   "metadata": {
    "scrolled": true
   },
   "outputs": [],
   "source": [
    "ip_reputation_df"
   ]
  },
  {
   "cell_type": "code",
   "execution_count": null,
   "id": "f3f78760",
   "metadata": {},
   "outputs": [],
   "source": [
    "ip_reputation_df.info()"
   ]
  },
  {
   "cell_type": "code",
   "execution_count": null,
   "id": "af6edf01",
   "metadata": {},
   "outputs": [],
   "source": [
    "ip_reputation_df['Country'].value_counts()\n",
    "#ip_reputation_df['Country'].value_counts(normalize=True)[:10].plot(kind='barh')"
   ]
  },
  {
   "cell_type": "code",
   "execution_count": null,
   "id": "2c295540",
   "metadata": {},
   "outputs": [],
   "source": [
    "!pip install gmplot"
   ]
  },
  {
   "cell_type": "code",
   "execution_count": null,
   "id": "dda33f34",
   "metadata": {},
   "outputs": [],
   "source": [
    "import gmplot # Google map package\n",
    "  \n",
    "latitude_list = ip_reputation_df[\"lat\"]\n",
    "longitude_list = ip_reputation_df[\"lon\"]\n",
    "\n",
    "gmap = gmplot.GoogleMapPlotter(0, 0, 2)  #lat, long, zoom_level\n",
    "gmap.heatmap(latitude_list, longitude_list)\n",
    "#gmap.scatter(latitude_list, longitude_list, c='r', marker=True)\n",
    "gmap.draw(r\"c:\\users\\ahsanpritommm\\desktop\\www_ip_heatmap.html\")"
   ]
  },
  {
   "cell_type": "code",
   "execution_count": null,
   "id": "08925a13",
   "metadata": {},
   "outputs": [],
   "source": []
  },
  {
   "cell_type": "code",
   "execution_count": null,
   "id": "85ae38bd",
   "metadata": {},
   "outputs": [],
   "source": [
    "\n"
   ]
  },
  {
   "cell_type": "code",
   "execution_count": null,
   "id": "2d8a644c",
   "metadata": {},
   "outputs": [],
   "source": [
    "# installation for country code conversion\n",
    "#!pip install pycountry-convert"
   ]
  },
  {
   "cell_type": "code",
   "execution_count": null,
   "id": "823702f0",
   "metadata": {},
   "outputs": [],
   "source": [
    "import pycountry"
   ]
  },
  {
   "cell_type": "code",
   "execution_count": null,
   "id": "28ae9fb8",
   "metadata": {},
   "outputs": [],
   "source": [
    "#list(pycountry.countries)"
   ]
  },
  {
   "cell_type": "code",
   "execution_count": null,
   "id": "e2f96c53",
   "metadata": {},
   "outputs": [],
   "source": [
    "pycountry.countries.lookup('bd')"
   ]
  },
  {
   "cell_type": "code",
   "execution_count": null,
   "id": "8cf7c920",
   "metadata": {},
   "outputs": [],
   "source": [
    "pycountry.countries.lookup('bd').name"
   ]
  },
  {
   "cell_type": "code",
   "execution_count": null,
   "id": "bd90162f",
   "metadata": {},
   "outputs": [],
   "source": [
    "country_name_list=[]\n",
    "country_code_list= []\n",
    "for cc in ip_reputation_df['Country']:\n",
    "    cc= str(cc).lower()\n",
    "    if not (cc=='nan'):\n",
    "        country_name = pycountry.countries.lookup(cc).name\n",
    "        country_name_list.append(country_name)\n",
    "    else:\n",
    "        country_name_list.append('nan')\n",
    "\n",
    "ip_reputation_df['country_name']= country_name_list\n"
   ]
  },
  {
   "cell_type": "code",
   "execution_count": null,
   "id": "94fba8e0",
   "metadata": {},
   "outputs": [],
   "source": [
    "ip_reputation_df"
   ]
  },
  {
   "cell_type": "code",
   "execution_count": null,
   "id": "43f03dee",
   "metadata": {},
   "outputs": [],
   "source": [
    "ip_reputation_df['country_name'].value_counts()"
   ]
  },
  {
   "cell_type": "code",
   "execution_count": null,
   "id": "ba4d1162",
   "metadata": {},
   "outputs": [],
   "source": [
    "ip_reputation_df['Type'].value_counts()"
   ]
  },
  {
   "cell_type": "code",
   "execution_count": null,
   "id": "ae514211",
   "metadata": {},
   "outputs": [],
   "source": [
    "ip_reputation_df['Risk'].value_counts()"
   ]
  },
  {
   "cell_type": "code",
   "execution_count": null,
   "id": "3347802b",
   "metadata": {},
   "outputs": [],
   "source": [
    "ip_reputation_df['Reliability'].value_counts()"
   ]
  },
  {
   "cell_type": "code",
   "execution_count": null,
   "id": "9f8c878d",
   "metadata": {},
   "outputs": [],
   "source": [
    "# Further Analysis Questions:\n",
    "#In class Activities: \n",
    "##Q1: What is the distribution of Risk scores for \"Germany\" geo-located IPs? \n",
    "    #Q1.1: How it is different from the US geo-located IPs? (Hint: Ideally two bar graphs can be used)  \n",
    "##Q2: What is the distribution of Reliability scores for \"Brazil\" geo-located IPs? \n",
    "    #Q2.1: How it is different from the \"Chinese\" geo-located IPs? (Hint: Same as Q1)\n",
    "##Q3. What are top 5 maliciousness within \"US\" geo-located IPs versus \"Chinese\" geo-located IPs? \n",
    "    ##Q3.1 Are they same of different? "
   ]
  },
  {
   "cell_type": "code",
   "execution_count": null,
   "id": "897253e3",
   "metadata": {},
   "outputs": [],
   "source": []
  },
  {
   "cell_type": "code",
   "execution_count": null,
   "id": "c4b8f85f",
   "metadata": {},
   "outputs": [],
   "source": []
  },
  {
   "cell_type": "code",
   "execution_count": null,
   "id": "242d4b9e",
   "metadata": {},
   "outputs": [],
   "source": []
  },
  {
   "cell_type": "code",
   "execution_count": null,
   "id": "6e4038ec",
   "metadata": {},
   "outputs": [],
   "source": []
  },
  {
   "cell_type": "code",
   "execution_count": null,
   "id": "8830bfd5",
   "metadata": {},
   "outputs": [],
   "source": []
  }
 ],
 "metadata": {
  "kernelspec": {
   "display_name": "Python 3 (ipykernel)",
   "language": "python",
   "name": "python3"
  },
  "language_info": {
   "codemirror_mode": {
    "name": "ipython",
    "version": 3
   },
   "file_extension": ".py",
   "mimetype": "text/x-python",
   "name": "python",
   "nbconvert_exporter": "python",
   "pygments_lexer": "ipython3",
   "version": "3.9.13"
  }
 },
 "nbformat": 4,
 "nbformat_minor": 5
}
