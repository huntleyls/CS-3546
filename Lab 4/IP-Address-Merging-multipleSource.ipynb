{
 "cells": [
  {
   "cell_type": "code",
   "execution_count": null,
   "id": "63cfab3c",
   "metadata": {},
   "outputs": [],
   "source": [
    "import pandas as pd\n",
    "import ipaddress\n",
    "import matplotlib.pyplot as plt\n",
    "import re"
   ]
  },
  {
   "cell_type": "markdown",
   "id": "e6bb778e",
   "metadata": {},
   "source": [
    "# CIDR Block (Classless Inter Domain routing)"
   ]
  },
  {
   "cell_type": "code",
   "execution_count": null,
   "id": "3682aea2",
   "metadata": {},
   "outputs": [],
   "source": [
    "\n",
    "IP_add_list= [str(ip) for ip in ipaddress.IPv4Network('192.0.2.0/25')]  # generating te list of all IPs in CIDR block\n",
    "print (IP_add_list)\n",
    "#input_ip = input('IP Address: ') \n",
    "#if input_ip in IP_add_list:\n",
    " #   print (\"IP in given CIDR block\")\n",
    "#else:\n",
    " #   print(\"IP not in the given CIDR block\")"
   ]
  },
  {
   "cell_type": "code",
   "execution_count": null,
   "id": "1fa386a7",
   "metadata": {},
   "outputs": [],
   "source": [
    "#print(IP_add_list)"
   ]
  },
  {
   "cell_type": "code",
   "execution_count": null,
   "id": "ffac8003",
   "metadata": {},
   "outputs": [],
   "source": [
    "def ip_is_in_cidr(ip_add, cidr):\n",
    "    #IP_add_list= [str(ip) for ip in ipaddress.IPv4Network(cidr)]\n",
    "    if ip_add in IP_add_list:\n",
    "        return True\n",
    "    else:\n",
    "        return False"
   ]
  },
  {
   "cell_type": "code",
   "execution_count": null,
   "id": "b930dbe8",
   "metadata": {},
   "outputs": [],
   "source": [
    "ip_is_in_cidr(\"192.0.2.32\", \"54.0.0.0/8\")"
   ]
  },
  {
   "cell_type": "code",
   "execution_count": null,
   "id": "04958d3e",
   "metadata": {},
   "outputs": [],
   "source": [
    "my_cidr_IP_list = [str(ip) for ip in ipaddress.IPv4Network(\"54.0.0.0/8\")]"
   ]
  },
  {
   "cell_type": "code",
   "execution_count": null,
   "id": "aa2ae29c",
   "metadata": {},
   "outputs": [],
   "source": [
    "len(IP_add_list_in54subnet)"
   ]
  },
  {
   "cell_type": "code",
   "execution_count": null,
   "id": "f90d6365",
   "metadata": {},
   "outputs": [],
   "source": [
    "def ip_is_in_cidr(ip_add, my_cidr_IP_list):\n",
    "    #IP_add_list= [str(ip) for ip in ipaddress.IPv4Network(cidr)]\n",
    "    if ip_add in IP_add_list:\n",
    "        return True\n",
    "    else:\n",
    "        return False"
   ]
  },
  {
   "cell_type": "code",
   "execution_count": null,
   "id": "7b2d3afe",
   "metadata": {},
   "outputs": [],
   "source": [
    "ip_reputation_df = pd.read_csv(\"AlienVault_IP_reputation.csv\")"
   ]
  },
  {
   "cell_type": "code",
   "execution_count": null,
   "id": "9b90bd5f",
   "metadata": {},
   "outputs": [],
   "source": [
    "ip_reputation_df"
   ]
  },
  {
   "cell_type": "code",
   "execution_count": null,
   "id": "1f50b34e",
   "metadata": {},
   "outputs": [],
   "source": [
    "#Drop Columns if not interested \n",
    "ip_reputation_df = ip_reputation_df.drop(columns=['Unnamed: 0'], axis=1)"
   ]
  },
  {
   "cell_type": "code",
   "execution_count": null,
   "id": "ae754404",
   "metadata": {},
   "outputs": [],
   "source": [
    "ip_reputation_df"
   ]
  },
  {
   "cell_type": "code",
   "execution_count": null,
   "id": "e477dbd9",
   "metadata": {},
   "outputs": [],
   "source": [
    "# Code for changing the formatting of Corrdinates (making 2 cols Lat and Long)\n",
    "lat_list = []\n",
    "long_list= []\n",
    "\n",
    "for coord in ip_reputation_df['Coords']:\n",
    "    lat_long = coord.split(',')\n",
    "    lat= lat_long[0]\n",
    "    lon = lat_long[1]\n",
    "    lat_list.append(float(lat))\n",
    "    long_list.append(float(lon))\n",
    "\n",
    "ip_reputation_df['lat'] = lat_list\n",
    "ip_reputation_df['lon'] = long_list\n"
   ]
  },
  {
   "cell_type": "code",
   "execution_count": null,
   "id": "e7baff60",
   "metadata": {},
   "outputs": [],
   "source": [
    "ip_reputation_df.shape"
   ]
  },
  {
   "cell_type": "code",
   "execution_count": null,
   "id": "245c2463",
   "metadata": {
    "scrolled": true
   },
   "outputs": [],
   "source": [
    "ip_reputation_df"
   ]
  },
  {
   "cell_type": "code",
   "execution_count": null,
   "id": "f3f78760",
   "metadata": {},
   "outputs": [],
   "source": [
    "ip_reputation_df.info()"
   ]
  },
  {
   "cell_type": "code",
   "execution_count": null,
   "id": "af6edf01",
   "metadata": {},
   "outputs": [],
   "source": [
    "ip_reputation_df['Country'].value_counts()\n",
    "#ip_reputation_df['Country'].value_counts(normalize=True)[:10].plot(kind='barh')"
   ]
  },
  {
   "cell_type": "code",
   "execution_count": null,
   "id": "2c295540",
   "metadata": {},
   "outputs": [],
   "source": [
    "#installing gmplot\n",
    "#!pip install gmplot"
   ]
  },
  {
   "cell_type": "raw",
   "id": "ec029009",
   "metadata": {},
   "source": [
    "import gmplot # Google map package\n",
    "  \n",
    "latitude_list = ip_reputation_df[\"lat\"]\n",
    "longitude_list = ip_reputation_df[\"lon\"]\n",
    "\n",
    "gmap = gmplot.GoogleMapPlotter(0, 0, 2)  #lat, long, zoom_level\n",
    "gmap.heatmap(latitude_list, longitude_list)\n",
    "#gmap.scatter(latitude_list, longitude_list, c='r', marker=True)\n",
    "gmap.draw(r\"/Users/ahsanpritommm/Documents/heat-map-IP.html\")"
   ]
  },
  {
   "cell_type": "code",
   "execution_count": null,
   "id": "2d8a644c",
   "metadata": {},
   "outputs": [],
   "source": [
    "# installation for country code conversion\n",
    "#!pip install pycountry-convert"
   ]
  },
  {
   "cell_type": "raw",
   "id": "ed242389",
   "metadata": {},
   "source": [
    "import pycountry"
   ]
  },
  {
   "cell_type": "code",
   "execution_count": null,
   "id": "28ae9fb8",
   "metadata": {},
   "outputs": [],
   "source": [
    "#list(pycountry.countries)"
   ]
  },
  {
   "cell_type": "raw",
   "id": "a955819f",
   "metadata": {},
   "source": [
    "pycountry.countries.lookup('bd')"
   ]
  },
  {
   "cell_type": "code",
   "execution_count": null,
   "id": "8cf7c920",
   "metadata": {},
   "outputs": [],
   "source": [
    "pycountry.countries.lookup('bd').name"
   ]
  },
  {
   "cell_type": "code",
   "execution_count": null,
   "id": "bd90162f",
   "metadata": {},
   "outputs": [],
   "source": [
    "#Code for converting country code to Country name\n",
    "country_name_list=[]\n",
    "country_code_list= []\n",
    "for cc in ip_reputation_df['Country']:\n",
    "    cc= str(cc).lower()\n",
    "    if not (cc=='nan'):\n",
    "        country_name = pycountry.countries.lookup(cc).name\n",
    "        country_name_list.append(country_name)\n",
    "    else:\n",
    "        country_name_list.append('nan')\n",
    "\n",
    "ip_reputation_df['country_name']= country_name_list\n"
   ]
  },
  {
   "cell_type": "code",
   "execution_count": null,
   "id": "94fba8e0",
   "metadata": {},
   "outputs": [],
   "source": [
    "ip_reputation_df"
   ]
  },
  {
   "cell_type": "code",
   "execution_count": null,
   "id": "43f03dee",
   "metadata": {},
   "outputs": [],
   "source": [
    "country_df = ip_reputation_df['country_name'].value_counts()"
   ]
  },
  {
   "cell_type": "code",
   "execution_count": null,
   "id": "e57999ae",
   "metadata": {},
   "outputs": [],
   "source": [
    "country_df.to_csv(\"country_name_dis.csv\")"
   ]
  },
  {
   "cell_type": "code",
   "execution_count": null,
   "id": "ba4d1162",
   "metadata": {},
   "outputs": [],
   "source": [
    "ip_reputation_df['Type'].value_counts()"
   ]
  },
  {
   "cell_type": "code",
   "execution_count": null,
   "id": "ae514211",
   "metadata": {},
   "outputs": [],
   "source": [
    "ip_reputation_df['Risk'].value_counts()"
   ]
  },
  {
   "cell_type": "code",
   "execution_count": null,
   "id": "3347802b",
   "metadata": {},
   "outputs": [],
   "source": [
    "ip_reputation_df['Reliability'].value_counts()"
   ]
  },
  {
   "cell_type": "code",
   "execution_count": null,
   "id": "9f8c878d",
   "metadata": {},
   "outputs": [],
   "source": [
    "# Further Analysis Questions:\n",
    "#In class Activities: \n",
    "##Q1: What is the distribution of Risk scores for \"Germany\" geo-located IPs? \n",
    "    #Q1.1: How it is different from the US geo-located IPs? (Hint: Ideally two bar graphs can be used)  \n",
    "##Q2: What is the distribution of Reliability scores for \"Brazil\" geo-located IPs? \n",
    "    #Q2.1: How it is different from the \"Chinese\" geo-located IPs? (Hint: Same as Q1)\n",
    "##Q3. What are top 5 maliciousness within \"US\" geo-located IPs versus \"Chinese\" geo-located IPs? \n",
    "    ##Q3.1 Are they same of different? "
   ]
  },
  {
   "cell_type": "code",
   "execution_count": null,
   "id": "897253e3",
   "metadata": {},
   "outputs": [],
   "source": [
    "# Code for iterating the IP column, and check if the IP is in a certain CIDR block\n",
    "target_subnet= \"5.34.246.0/24\"\n",
    "ip_in_target_subnet_list=[]\n",
    "for ip_add in ip_reputation_df['IP']:\n",
    "    if ip_is_in_cidr(ip_add, target_subnet):\n",
    "        ip_in_target_subnet_list.append(ip_add)\n",
    "\n",
    "print(len(ip_in_target_subnet_list))\n",
    "    \n"
   ]
  },
  {
   "cell_type": "code",
   "execution_count": null,
   "id": "74e3ed78",
   "metadata": {},
   "outputs": [],
   "source": [
    "# removing leading zeros in any string\n",
    "\n",
    "def deleteLeadingZeros(inputString):\n",
    "   # traversing through the length of the string\n",
    "   for k in range(len(inputString)):\n",
    "      # checking whether the current character of a string is not 0\n",
    "      if inputString[k] != '0':\n",
    "         # getting the remaining string using slicing\n",
    "         outputString= inputString[k::]\n",
    "         # returning resultant string after removing leading 0s\n",
    "         return outputString\n",
    "   # returning 0 if there are no leading 0s found in the entire string\n",
    "   return \"0\""
   ]
  },
  {
   "cell_type": "code",
   "execution_count": null,
   "id": "838d558c",
   "metadata": {},
   "outputs": [],
   "source": [
    "output_string = deleteLeadingZeros(\"053/8\")\n",
    "print(output_string)"
   ]
  },
  {
   "cell_type": "code",
   "execution_count": null,
   "id": "2c30a044",
   "metadata": {},
   "outputs": [],
   "source": [
    "# load the IPV4 address space data - start class here ... 28 Feb, 2023\n",
    "ip_address_space_df = pd.read_csv(\"ipv4-address-space.csv\")"
   ]
  },
  {
   "cell_type": "code",
   "execution_count": null,
   "id": "953f61cc",
   "metadata": {},
   "outputs": [],
   "source": [
    "ip_address_space_df.shape"
   ]
  },
  {
   "cell_type": "code",
   "execution_count": null,
   "id": "fd48fbc0",
   "metadata": {},
   "outputs": [],
   "source": [
    "ip_address_space_df.head(5)"
   ]
  },
  {
   "cell_type": "code",
   "execution_count": null,
   "id": "5ecc2680",
   "metadata": {},
   "outputs": [],
   "source": [
    "ip_address_space_df[\"Status [1]\"].value_counts()\n",
    "# Legacy networks have a single global IP address range that cannot be divided into subnets. \n",
    "# Reference: https://en.wikipedia.org/wiki/List_of_assigned_/8_IPv4_address_blocks"
   ]
  },
  {
   "cell_type": "markdown",
   "id": "1e97b2ba",
   "metadata": {},
   "source": [
    "# Approach 1 for correct subnet addressing"
   ]
  },
  {
   "cell_type": "code",
   "execution_count": null,
   "id": "209eeaff",
   "metadata": {},
   "outputs": [],
   "source": [
    "#Q: Can we convert the prefix into an actual standard subnet address (8 bits subnets).\n",
    "# E,g,. 004/8 => 4.0.0.0/8    or 015/8 => 15.0.0.0/8 \n",
    "# approach 1\n",
    "subnet_address8bits_list= []\n",
    "for subnet_prefix in ip_address_space_df['Prefix']:\n",
    "    cleaner_subnet_prefix = deleteLeadingZeros(subnet_prefix) # removing leading 0's\n",
    "    #print(cleaner_subnet_prefix)\n",
    "    if cleaner_subnet_prefix ==\"/8\":\n",
    "        cleaner_subnet_prefix = \"0/8\"\n",
    "    temp_subnet_fix = cleaner_subnet_prefix.split(\"/\")\n",
    "    #print(temp_subnet_fix)\n",
    "    actual_subnet_address = temp_subnet_fix[0]+ \".0.0.0/8\"\n",
    "    #print(actual_subnet_address)\n",
    "    subnet_address8bits_list.append(actual_subnet_address)\n",
    "ip_address_space_df[\"subnet_8\"] = subnet_address8bits_list"
   ]
  },
  {
   "cell_type": "markdown",
   "id": "6983f7cf",
   "metadata": {},
   "source": [
    "# Approach 2 for correct subnet addressing"
   ]
  },
  {
   "cell_type": "code",
   "execution_count": null,
   "id": "5ac37558",
   "metadata": {},
   "outputs": [],
   "source": [
    "# Step 1: remoing leading 0s\n",
    "ip_address_space_df[\"subnet_8\"] = ip_address_space_df[\"Prefix\"].str.lstrip('0')\n",
    "# Step 2: finding the first octet\n",
    "ip_address_space_df[\"subnet_8\"] = ip_address_space_df[\"subnet_8\"].str.split(\"/\").str[:1].str.join(\".\") \n",
    "# step 3: Conditional concatination in pandas dataframe [fixing all 0 part]\n",
    "ip_address_space_df[\"subnet_8\"] = [\"0.0.0.0/8\" if x==\"\" else x + \".0.0.0/8\" for x in ip_address_space_df[\"subnet_8\"]]\n"
   ]
  },
  {
   "cell_type": "markdown",
   "id": "0751ccd1",
   "metadata": {},
   "source": [
    "# Creating the Subnet column in the IP Reputation dataset"
   ]
  },
  {
   "cell_type": "code",
   "execution_count": null,
   "id": "6e4038ec",
   "metadata": {},
   "outputs": [],
   "source": [
    "# Add 8 bit subnet for the original dataset\n",
    "#Create a \"subnet_8\" column like the one in the IPv4 address space dataset above. \n",
    "\n",
    "#print(\"The number of 8 bits unique subnets in the dataset is:\",total_unique_subnets)\n"
   ]
  },
  {
   "cell_type": "markdown",
   "id": "f9320db1",
   "metadata": {},
   "source": [
    "# Group By method to calclate risk or reliablity of each subnets"
   ]
  },
  {
   "cell_type": "code",
   "execution_count": null,
   "id": "94f41cf4",
   "metadata": {},
   "outputs": [],
   "source": [
    "#subnet_8bits_risk = ip_reputation_df.groupby(\"subnet_8\")[\"Risk\"].agg([\"mean\", \"count\"]).reset_index()\n",
    "#subnet_8bits_risk.columns = [\"subnet_8\", \"subnet_risk\", \"count\"]\n",
    "#subnet_8bits_risk = subnet_risk[[\"subnet_8\", \"subnet_risk\"]]\n",
    "#subnet_8bits_risk"
   ]
  },
  {
   "cell_type": "code",
   "execution_count": null,
   "id": "8830bfd5",
   "metadata": {},
   "outputs": [],
   "source": [
    "#ip_reputation_df"
   ]
  },
  {
   "cell_type": "code",
   "execution_count": null,
   "id": "7f320573",
   "metadata": {},
   "outputs": [],
   "source": [
    "# merge() expects 2 dfs, and the specific columns [there can be multiple columns to merge on]\n",
    "# hint: new_merged_df = pd.merge(df1, df2, on=['col_name'])\n",
    "# Q: Can we merge the 10K IP reputation data with the IPv4 dataset on the \"subnet_8\" column.\n"
   ]
  },
  {
   "cell_type": "code",
   "execution_count": null,
   "id": "dfc9febd",
   "metadata": {},
   "outputs": [],
   "source": [
    "#merged_IP_df"
   ]
  },
  {
   "cell_type": "code",
   "execution_count": null,
   "id": "b32781f7",
   "metadata": {},
   "outputs": [],
   "source": [
    "merged_IP_df['Designation'].value_counts()"
   ]
  },
  {
   "cell_type": "markdown",
   "id": "ea3809b8",
   "metadata": {},
   "source": [
    "# Correlation Analysis (Pearson) between numeric columns"
   ]
  },
  {
   "cell_type": "code",
   "execution_count": null,
   "id": "b67a55dd",
   "metadata": {},
   "outputs": [],
   "source": [
    "# correlation analysis between 2 pandas column\n",
    "# Correlatoin interpretation: \n",
    "#If postive corr-coeff then it means: if one increase the other increase, if one variable decrease \n",
    "# the other decrease as well. \n",
    "#If negative corr-coeff then it means: if one increase the other decrease, if one variable decrease \n",
    "# the other increase. \n",
    "# If close to +1 or -1 then 'strong' correlatoin. If close to 0 then 'weak' correlation.\n",
    "\n",
    "# approach 1\n",
    "corr = merged_IP_df['Risk'].corr(merged_IP_df['Reliability'])"
   ]
  },
  {
   "cell_type": "code",
   "execution_count": null,
   "id": "7505ea25",
   "metadata": {},
   "outputs": [],
   "source": [
    "round(corr, 2)"
   ]
  },
  {
   "cell_type": "code",
   "execution_count": null,
   "id": "49452479",
   "metadata": {},
   "outputs": [],
   "source": [
    "corr_col_data = merged_IP_df[['Risk', 'Reliability']]"
   ]
  },
  {
   "cell_type": "code",
   "execution_count": null,
   "id": "6e21b72d",
   "metadata": {},
   "outputs": [],
   "source": [
    "correlation = corr_col_data.corr(method='pearson')"
   ]
  },
  {
   "cell_type": "code",
   "execution_count": null,
   "id": "a39df22c",
   "metadata": {},
   "outputs": [],
   "source": [
    "correlation"
   ]
  },
  {
   "cell_type": "code",
   "execution_count": null,
   "id": "fd88e87e",
   "metadata": {},
   "outputs": [],
   "source": [
    "# scatterplot to observe data  distribution\n",
    "import seaborn as sns\n",
    "sns.scatterplot(x='Risk', y= 'Reliability', data= merged_IP_df)"
   ]
  },
  {
   "cell_type": "code",
   "execution_count": null,
   "id": "cd2ac31f",
   "metadata": {},
   "outputs": [],
   "source": [
    "# adding the best fit (linear model) line to see the trend \n",
    "sns.lmplot(x='Risk', y= 'Reliability', data= merged_IP_df)"
   ]
  },
  {
   "cell_type": "code",
   "execution_count": null,
   "id": "cb25b355",
   "metadata": {},
   "outputs": [],
   "source": [
    "# adding the best fit (linear model) line to see the trend While having 3 dimension (color is helping the \n",
    "#3rd dimension)\n",
    "sns.lmplot(x='Risk', y= 'Reliability', hue='Designation', data= merged_IP_df)"
   ]
  },
  {
   "cell_type": "code",
   "execution_count": null,
   "id": "f678ba8c",
   "metadata": {},
   "outputs": [],
   "source": [
    "#pearson correlation coefficient along with p-value\n",
    "from scipy import stats\n",
    "stats.pearsonr(merged_IP_df['Risk'],merged_IP_df['Reliability'])"
   ]
  },
  {
   "cell_type": "code",
   "execution_count": null,
   "id": "8a2c35f0",
   "metadata": {},
   "outputs": [],
   "source": [
    "# scatter plot matrix [all numeric variable's pairwise scatterplot and bar graphs]\n",
    "sns.pairplot(merged_IP_df)"
   ]
  },
  {
   "cell_type": "markdown",
   "id": "04d6f233",
   "metadata": {},
   "source": [
    "# Working with the Zeus Botnets Data "
   ]
  },
  {
   "cell_type": "code",
   "execution_count": null,
   "id": "9a70901b",
   "metadata": {},
   "outputs": [],
   "source": [
    "#Zeus Bot (Zbot): is a crimeware kit (malware) that steals credentials from various online services like social\n",
    "# networks, online banking accounts, FTP accounts, email accounts, and websites ...\n",
    "\n",
    "zbot_df = pd.read_csv(\"zeus-book.csv\")\n",
    "# skiprows skip the first n lines from the csv file"
   ]
  },
  {
   "cell_type": "code",
   "execution_count": null,
   "id": "78190cc0",
   "metadata": {},
   "outputs": [],
   "source": [
    "#zbot_df.head(3)"
   ]
  },
  {
   "cell_type": "code",
   "execution_count": null,
   "id": "2df1d6f8",
   "metadata": {},
   "outputs": [],
   "source": [
    "# adding Column name \"IP\" for the Zbot data"
   ]
  },
  {
   "cell_type": "code",
   "execution_count": null,
   "id": "8ba4e604",
   "metadata": {},
   "outputs": [],
   "source": [
    "#zbot_df.shape"
   ]
  },
  {
   "cell_type": "code",
   "execution_count": null,
   "id": "92d7cb07",
   "metadata": {},
   "outputs": [],
   "source": [
    "# Create a 8 bits Subnet address col \"subnet_8\" for the Zbot data"
   ]
  },
  {
   "cell_type": "code",
   "execution_count": null,
   "id": "c082ef90",
   "metadata": {},
   "outputs": [],
   "source": [
    "# create a new dataframe by merging the previously merged \n",
    "#dataset (IPV4 address space + IP reputation data) with the Zbot on 'subnet_8' column? \n",
    "\n"
   ]
  },
  {
   "cell_type": "code",
   "execution_count": null,
   "id": "fad754f5",
   "metadata": {},
   "outputs": [],
   "source": [
    "# Q: Can we merge bot with the previously merged data on column \"IP\"?     \n",
    "# report the number of IPs for in the original 10K reputation dataset that is also a Z-botnet \n",
    "#address? \n"
   ]
  },
  {
   "cell_type": "code",
   "execution_count": null,
   "id": "99798a14",
   "metadata": {},
   "outputs": [],
   "source": []
  },
  {
   "cell_type": "code",
   "execution_count": null,
   "id": "69cf61d7",
   "metadata": {},
   "outputs": [],
   "source": [
    "#!pip install igraph"
   ]
  },
  {
   "cell_type": "code",
   "execution_count": null,
   "id": "9e53d4b6",
   "metadata": {},
   "outputs": [],
   "source": [
    "# For the extra tasks\n",
    "import igraph as ig"
   ]
  },
  {
   "cell_type": "code",
   "execution_count": null,
   "id": "f633c27f",
   "metadata": {},
   "outputs": [],
   "source": [
    "# creating empty graph\n",
    "g= ig.Graph(directed= True)\n",
    "#mygraph = ig.Graph.DataFrame(merged_IP_df)\n",
    "#g = ig.Graph.TupleList(merged_IP_df.itertuples(index=False), directed=True, weights=False, edge_attrs=\"Risk\")"
   ]
  },
  {
   "cell_type": "code",
   "execution_count": null,
   "id": "2491daff",
   "metadata": {},
   "outputs": [],
   "source": [
    "# Add number of vertices in graph\n",
    "g.add_vertices(3)"
   ]
  },
  {
   "cell_type": "code",
   "execution_count": null,
   "id": "e9968e63",
   "metadata": {},
   "outputs": [],
   "source": [
    "# add actual vertex/node in the graph ...as a list\n",
    "g.vs['IP'] = zbot_merge_with_IP_repu['IP']"
   ]
  },
  {
   "cell_type": "code",
   "execution_count": null,
   "id": "20807f99",
   "metadata": {},
   "outputs": [],
   "source": [
    "g.vs['IP']"
   ]
  },
  {
   "cell_type": "code",
   "execution_count": null,
   "id": "3c85ee4a",
   "metadata": {},
   "outputs": [],
   "source": []
  },
  {
   "cell_type": "code",
   "execution_count": null,
   "id": "ba9e8949",
   "metadata": {},
   "outputs": [],
   "source": []
  },
  {
   "cell_type": "code",
   "execution_count": null,
   "id": "c7b70d8e",
   "metadata": {},
   "outputs": [],
   "source": []
  },
  {
   "cell_type": "code",
   "execution_count": null,
   "id": "dcf4d2c8",
   "metadata": {},
   "outputs": [],
   "source": []
  },
  {
   "cell_type": "code",
   "execution_count": null,
   "id": "08a32da8",
   "metadata": {},
   "outputs": [],
   "source": [
    "#Q1. How many of the ZEUS botnet address in the IP reputation dataset (10K)? \n",
    "#Q2 Can you create the Zbot df with all the other information (Country, Designation, lat, long ...)? \n",
    "#Q3. How many Zbot from US? How many from RU?\n",
    "#Q4. Can we draw a cluster graphs based on countries group? \n"
   ]
  },
  {
   "cell_type": "code",
   "execution_count": null,
   "id": "d0ff5461",
   "metadata": {},
   "outputs": [],
   "source": []
  },
  {
   "cell_type": "code",
   "execution_count": null,
   "id": "1ed4d106",
   "metadata": {},
   "outputs": [],
   "source": [
    "merged_IP_df[\"country_name\"].value_counts()"
   ]
  },
  {
   "cell_type": "code",
   "execution_count": null,
   "id": "459c3100",
   "metadata": {},
   "outputs": [],
   "source": [
    "group_output = merged_IP_df.groupby([\"country_name\"])[\"IP\"].count()"
   ]
  },
  {
   "cell_type": "code",
   "execution_count": null,
   "id": "969e0102",
   "metadata": {},
   "outputs": [],
   "source": [
    "group_output.index"
   ]
  },
  {
   "cell_type": "code",
   "execution_count": null,
   "id": "c58915e6",
   "metadata": {},
   "outputs": [],
   "source": [
    "group_output.values"
   ]
  },
  {
   "cell_type": "code",
   "execution_count": null,
   "id": "0cfc7c07",
   "metadata": {},
   "outputs": [],
   "source": [
    "merged_IP_df[\"country_name\"].nunique()"
   ]
  },
  {
   "cell_type": "code",
   "execution_count": null,
   "id": "66ad8813",
   "metadata": {},
   "outputs": [],
   "source": []
  }
 ],
 "metadata": {
  "kernelspec": {
   "display_name": "Python 3 (ipykernel)",
   "language": "python",
   "name": "python3"
  },
  "language_info": {
   "codemirror_mode": {
    "name": "ipython",
    "version": 3
   },
   "file_extension": ".py",
   "mimetype": "text/x-python",
   "name": "python",
   "nbconvert_exporter": "python",
   "pygments_lexer": "ipython3",
   "version": "3.9.13"
  }
 },
 "nbformat": 4,
 "nbformat_minor": 5
}
