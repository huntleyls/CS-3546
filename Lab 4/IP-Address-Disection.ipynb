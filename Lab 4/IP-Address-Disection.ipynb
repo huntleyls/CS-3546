{
 "cells": [
  {
   "cell_type": "code",
   "execution_count": 104,
   "id": "63cfab3c",
   "metadata": {},
   "outputs": [],
   "source": [
    "import pandas as pd\n",
    "import ipaddress\n",
    "import matplotlib.pyplot as plt"
   ]
  },
  {
   "cell_type": "markdown",
   "id": "e6bb778e",
   "metadata": {},
   "source": [
    "# CIDR Block (Classless Inter Domain Range)"
   ]
  },
  {
   "cell_type": "code",
   "execution_count": null,
   "id": "3682aea2",
   "metadata": {},
   "outputs": [],
   "source": [
    "\n",
    "IP_add_list= [str(ip) for ip in ipaddress.IPv4Network('192.0.2.0/24')]  # generating te list of all IPs in CIDR block\n",
    "#print (IP_add_list)\n",
    "input_ip = input('IP Address: ') \n",
    "if input_ip in IP_add_list:\n",
    "    print (\"IP in given CIDR block\")\n",
    "else:\n",
    "    print(\"IP not in the given CIDR block\")"
   ]
  },
  {
   "cell_type": "code",
   "execution_count": null,
   "id": "1fa386a7",
   "metadata": {},
   "outputs": [],
   "source": [
    "#print(IP_add_list)"
   ]
  },
  {
   "cell_type": "code",
   "execution_count": null,
   "id": "ffac8003",
   "metadata": {},
   "outputs": [],
   "source": [
    "def ip_is_in_cidr(ip_add, cidr):\n",
    "    IP_add_list= [str(ip) for ip in ipaddress.IPv4Network(cidr)]\n",
    "    if ip_add in IP_add_list:\n",
    "        return True\n",
    "    else:\n",
    "        return False"
   ]
  },
  {
   "cell_type": "code",
   "execution_count": null,
   "id": "b930dbe8",
   "metadata": {},
   "outputs": [],
   "source": [
    "ip_is_in_cidr(\"192.0.2.15\", \"192.0.2.0/29\")"
   ]
  },
  {
   "cell_type": "code",
   "execution_count": 251,
   "id": "7b2d3afe",
   "metadata": {},
   "outputs": [],
   "source": [
    "ip_reputation_df = pd.read_csv(\"AlienVault_IP_reputation.csv\")"
   ]
  },
  {
   "cell_type": "code",
   "execution_count": 243,
   "id": "9b90bd5f",
   "metadata": {},
   "outputs": [],
   "source": []
  },
  {
   "cell_type": "code",
   "execution_count": 252,
   "id": "e477dbd9",
   "metadata": {},
   "outputs": [],
   "source": [
    "lat_list = []\n",
    "long_list= []\n",
    "\n",
    "for coord in ip_reputation_df['Coords']:\n",
    "    lat_long = coord.split(',')\n",
    "    lat= lat_long[0]\n",
    "    lon = lat_long[1]\n",
    "    lat_list.append(float(lat))\n",
    "    long_list.append(float(lon))\n",
    "\n",
    "ip_reputation_df['lat'] = lat_list\n",
    "ip_reputation_df['lon'] = long_list\n"
   ]
  },
  {
   "cell_type": "code",
   "execution_count": 254,
   "id": "e7baff60",
   "metadata": {},
   "outputs": [
    {
     "data": {
      "text/plain": [
       "(10000, 10)"
      ]
     },
     "execution_count": 254,
     "metadata": {},
     "output_type": "execute_result"
    }
   ],
   "source": [
    "ip_reputation_df.shape"
   ]
  },
  {
   "cell_type": "code",
   "execution_count": 255,
   "id": "245c2463",
   "metadata": {
    "scrolled": true
   },
   "outputs": [
    {
     "data": {
      "text/html": [
       "<div>\n",
       "<style scoped>\n",
       "    .dataframe tbody tr th:only-of-type {\n",
       "        vertical-align: middle;\n",
       "    }\n",
       "\n",
       "    .dataframe tbody tr th {\n",
       "        vertical-align: top;\n",
       "    }\n",
       "\n",
       "    .dataframe thead th {\n",
       "        text-align: right;\n",
       "    }\n",
       "</style>\n",
       "<table border=\"1\" class=\"dataframe\">\n",
       "  <thead>\n",
       "    <tr style=\"text-align: right;\">\n",
       "      <th></th>\n",
       "      <th>Unnamed: 0</th>\n",
       "      <th>IP</th>\n",
       "      <th>Reliability</th>\n",
       "      <th>Risk</th>\n",
       "      <th>Type</th>\n",
       "      <th>Country</th>\n",
       "      <th>Locale</th>\n",
       "      <th>Coords</th>\n",
       "      <th>lat</th>\n",
       "      <th>lon</th>\n",
       "    </tr>\n",
       "  </thead>\n",
       "  <tbody>\n",
       "    <tr>\n",
       "      <th>0</th>\n",
       "      <td>0</td>\n",
       "      <td>222.76.212.189</td>\n",
       "      <td>4</td>\n",
       "      <td>2</td>\n",
       "      <td>Scanning Host</td>\n",
       "      <td>cn</td>\n",
       "      <td>Xiamen</td>\n",
       "      <td>24.4797992706,118.08190155</td>\n",
       "      <td>24.479799</td>\n",
       "      <td>118.081902</td>\n",
       "    </tr>\n",
       "    <tr>\n",
       "      <th>1</th>\n",
       "      <td>1</td>\n",
       "      <td>222.76.212.185</td>\n",
       "      <td>4</td>\n",
       "      <td>2</td>\n",
       "      <td>Scanning Host</td>\n",
       "      <td>cn</td>\n",
       "      <td>Xiamen</td>\n",
       "      <td>24.4797992706,118.08190155</td>\n",
       "      <td>24.479799</td>\n",
       "      <td>118.081902</td>\n",
       "    </tr>\n",
       "    <tr>\n",
       "      <th>2</th>\n",
       "      <td>2</td>\n",
       "      <td>222.76.212.186</td>\n",
       "      <td>4</td>\n",
       "      <td>2</td>\n",
       "      <td>Scanning Host</td>\n",
       "      <td>cn</td>\n",
       "      <td>Xiamen</td>\n",
       "      <td>24.4797992706,118.08190155</td>\n",
       "      <td>24.479799</td>\n",
       "      <td>118.081902</td>\n",
       "    </tr>\n",
       "    <tr>\n",
       "      <th>3</th>\n",
       "      <td>3</td>\n",
       "      <td>5.34.246.67</td>\n",
       "      <td>6</td>\n",
       "      <td>3</td>\n",
       "      <td>Spamming</td>\n",
       "      <td>us</td>\n",
       "      <td>NaN</td>\n",
       "      <td>38.0,-97.0</td>\n",
       "      <td>38.000000</td>\n",
       "      <td>-97.000000</td>\n",
       "    </tr>\n",
       "    <tr>\n",
       "      <th>4</th>\n",
       "      <td>4</td>\n",
       "      <td>178.94.97.176</td>\n",
       "      <td>4</td>\n",
       "      <td>5</td>\n",
       "      <td>Scanning Host</td>\n",
       "      <td>ua</td>\n",
       "      <td>Merefa</td>\n",
       "      <td>49.8230018616,36.0507011414</td>\n",
       "      <td>49.823002</td>\n",
       "      <td>36.050701</td>\n",
       "    </tr>\n",
       "    <tr>\n",
       "      <th>...</th>\n",
       "      <td>...</td>\n",
       "      <td>...</td>\n",
       "      <td>...</td>\n",
       "      <td>...</td>\n",
       "      <td>...</td>\n",
       "      <td>...</td>\n",
       "      <td>...</td>\n",
       "      <td>...</td>\n",
       "      <td>...</td>\n",
       "      <td>...</td>\n",
       "    </tr>\n",
       "    <tr>\n",
       "      <th>9995</th>\n",
       "      <td>9995</td>\n",
       "      <td>86.35.30.70</td>\n",
       "      <td>4</td>\n",
       "      <td>3</td>\n",
       "      <td>Scanning Host</td>\n",
       "      <td>ro</td>\n",
       "      <td>Caransebes</td>\n",
       "      <td>45.4166984558,22.2166996002</td>\n",
       "      <td>45.416698</td>\n",
       "      <td>22.216700</td>\n",
       "    </tr>\n",
       "    <tr>\n",
       "      <th>9996</th>\n",
       "      <td>9996</td>\n",
       "      <td>86.35.30.71</td>\n",
       "      <td>4</td>\n",
       "      <td>3</td>\n",
       "      <td>Scanning Host</td>\n",
       "      <td>ro</td>\n",
       "      <td>Caransebes</td>\n",
       "      <td>45.4166984558,22.2166996002</td>\n",
       "      <td>45.416698</td>\n",
       "      <td>22.216700</td>\n",
       "    </tr>\n",
       "    <tr>\n",
       "      <th>9997</th>\n",
       "      <td>9997</td>\n",
       "      <td>86.35.30.72</td>\n",
       "      <td>4</td>\n",
       "      <td>3</td>\n",
       "      <td>Scanning Host</td>\n",
       "      <td>ro</td>\n",
       "      <td>Caransebes</td>\n",
       "      <td>45.4166984558,22.2166996002</td>\n",
       "      <td>45.416698</td>\n",
       "      <td>22.216700</td>\n",
       "    </tr>\n",
       "    <tr>\n",
       "      <th>9998</th>\n",
       "      <td>9998</td>\n",
       "      <td>86.35.30.73</td>\n",
       "      <td>4</td>\n",
       "      <td>3</td>\n",
       "      <td>Scanning Host</td>\n",
       "      <td>ro</td>\n",
       "      <td>Caransebes</td>\n",
       "      <td>45.4166984558,22.2166996002</td>\n",
       "      <td>45.416698</td>\n",
       "      <td>22.216700</td>\n",
       "    </tr>\n",
       "    <tr>\n",
       "      <th>9999</th>\n",
       "      <td>9999</td>\n",
       "      <td>86.35.30.74</td>\n",
       "      <td>4</td>\n",
       "      <td>3</td>\n",
       "      <td>Scanning Host</td>\n",
       "      <td>ro</td>\n",
       "      <td>Caransebes</td>\n",
       "      <td>45.4166984558,22.2166996002</td>\n",
       "      <td>45.416698</td>\n",
       "      <td>22.216700</td>\n",
       "    </tr>\n",
       "  </tbody>\n",
       "</table>\n",
       "<p>10000 rows × 10 columns</p>\n",
       "</div>"
      ],
      "text/plain": [
       "      Unnamed: 0              IP  Reliability  Risk           Type Country  \\\n",
       "0              0  222.76.212.189            4     2  Scanning Host      cn   \n",
       "1              1  222.76.212.185            4     2  Scanning Host      cn   \n",
       "2              2  222.76.212.186            4     2  Scanning Host      cn   \n",
       "3              3     5.34.246.67            6     3       Spamming      us   \n",
       "4              4   178.94.97.176            4     5  Scanning Host      ua   \n",
       "...          ...             ...          ...   ...            ...     ...   \n",
       "9995        9995     86.35.30.70            4     3  Scanning Host      ro   \n",
       "9996        9996     86.35.30.71            4     3  Scanning Host      ro   \n",
       "9997        9997     86.35.30.72            4     3  Scanning Host      ro   \n",
       "9998        9998     86.35.30.73            4     3  Scanning Host      ro   \n",
       "9999        9999     86.35.30.74            4     3  Scanning Host      ro   \n",
       "\n",
       "          Locale                       Coords        lat         lon  \n",
       "0         Xiamen   24.4797992706,118.08190155  24.479799  118.081902  \n",
       "1         Xiamen   24.4797992706,118.08190155  24.479799  118.081902  \n",
       "2         Xiamen   24.4797992706,118.08190155  24.479799  118.081902  \n",
       "3            NaN                   38.0,-97.0  38.000000  -97.000000  \n",
       "4         Merefa  49.8230018616,36.0507011414  49.823002   36.050701  \n",
       "...          ...                          ...        ...         ...  \n",
       "9995  Caransebes  45.4166984558,22.2166996002  45.416698   22.216700  \n",
       "9996  Caransebes  45.4166984558,22.2166996002  45.416698   22.216700  \n",
       "9997  Caransebes  45.4166984558,22.2166996002  45.416698   22.216700  \n",
       "9998  Caransebes  45.4166984558,22.2166996002  45.416698   22.216700  \n",
       "9999  Caransebes  45.4166984558,22.2166996002  45.416698   22.216700  \n",
       "\n",
       "[10000 rows x 10 columns]"
      ]
     },
     "execution_count": 255,
     "metadata": {},
     "output_type": "execute_result"
    }
   ],
   "source": [
    "ip_reputation_df"
   ]
  },
  {
   "cell_type": "code",
   "execution_count": 256,
   "id": "f3f78760",
   "metadata": {},
   "outputs": [
    {
     "name": "stdout",
     "output_type": "stream",
     "text": [
      "<class 'pandas.core.frame.DataFrame'>\n",
      "RangeIndex: 10000 entries, 0 to 9999\n",
      "Data columns (total 10 columns):\n",
      " #   Column       Non-Null Count  Dtype  \n",
      "---  ------       --------------  -----  \n",
      " 0   Unnamed: 0   10000 non-null  int64  \n",
      " 1   IP           10000 non-null  object \n",
      " 2   Reliability  10000 non-null  int64  \n",
      " 3   Risk         10000 non-null  int64  \n",
      " 4   Type         10000 non-null  object \n",
      " 5   Country      9659 non-null   object \n",
      " 6   Locale       7137 non-null   object \n",
      " 7   Coords       10000 non-null  object \n",
      " 8   lat          10000 non-null  float64\n",
      " 9   lon          10000 non-null  float64\n",
      "dtypes: float64(2), int64(3), object(5)\n",
      "memory usage: 781.4+ KB\n"
     ]
    }
   ],
   "source": [
    "ip_reputation_df.info()"
   ]
  },
  {
   "cell_type": "code",
   "execution_count": 257,
   "id": "af6edf01",
   "metadata": {},
   "outputs": [
    {
     "data": {
      "text/plain": [
       "us    2194\n",
       "cn    2125\n",
       "de     428\n",
       "br     393\n",
       "nl     350\n",
       "      ... \n",
       "be       1\n",
       "il       1\n",
       "ee       1\n",
       "az       1\n",
       "kz       1\n",
       "Name: Country, Length: 73, dtype: int64"
      ]
     },
     "execution_count": 257,
     "metadata": {},
     "output_type": "execute_result"
    }
   ],
   "source": [
    "ip_reputation_df['Country'].value_counts()\n",
    "#ip_reputation_df['Country'].value_counts(normalize=True)[:10].plot(kind='barh')"
   ]
  },
  {
   "cell_type": "code",
   "execution_count": 97,
   "id": "2c295540",
   "metadata": {},
   "outputs": [
    {
     "name": "stdout",
     "output_type": "stream",
     "text": [
      "Collecting gmplot\n",
      "  Downloading gmplot-1.4.1-py3-none-any.whl (164 kB)\n",
      "     -------------------------------------- 164.7/164.7 kB 5.0 MB/s eta 0:00:00\n",
      "Requirement already satisfied: requests in c:\\users\\ahsanpritommm\\anaconda3\\lib\\site-packages (from gmplot) (2.28.1)\n",
      "Requirement already satisfied: idna<4,>=2.5 in c:\\users\\ahsanpritommm\\anaconda3\\lib\\site-packages (from requests->gmplot) (3.3)\n",
      "Requirement already satisfied: charset-normalizer<3,>=2 in c:\\users\\ahsanpritommm\\anaconda3\\lib\\site-packages (from requests->gmplot) (2.0.4)\n",
      "Requirement already satisfied: certifi>=2017.4.17 in c:\\users\\ahsanpritommm\\anaconda3\\lib\\site-packages (from requests->gmplot) (2022.9.14)\n",
      "Requirement already satisfied: urllib3<1.27,>=1.21.1 in c:\\users\\ahsanpritommm\\anaconda3\\lib\\site-packages (from requests->gmplot) (1.26.11)\n",
      "Installing collected packages: gmplot\n",
      "Successfully installed gmplot-1.4.1\n"
     ]
    }
   ],
   "source": [
    "!pip install gmplot"
   ]
  },
  {
   "cell_type": "code",
   "execution_count": 248,
   "id": "dda33f34",
   "metadata": {},
   "outputs": [],
   "source": [
    "import gmplot # Google map package\n",
    "  \n",
    "latitude_list = ip_reputation_df[\"lat\"]\n",
    "longitude_list = ip_reputation_df[\"lon\"]\n",
    "\n",
    "gmap = gmplot.GoogleMapPlotter(0, 0, 2)  #lat, long, zoom_level\n",
    "gmap.heatmap(latitude_list, longitude_list)\n",
    "#gmap.scatter(latitude_list, longitude_list, c='r', marker=True)\n",
    "gmap.draw(r\"c:\\users\\ahsanpritommm\\desktop\\www_ip_heatmap.html\")"
   ]
  },
  {
   "cell_type": "code",
   "execution_count": null,
   "id": "08925a13",
   "metadata": {},
   "outputs": [],
   "source": []
  },
  {
   "cell_type": "code",
   "execution_count": 94,
   "id": "85ae38bd",
   "metadata": {},
   "outputs": [],
   "source": [
    "\n"
   ]
  },
  {
   "cell_type": "code",
   "execution_count": null,
   "id": "2d8a644c",
   "metadata": {},
   "outputs": [],
   "source": [
    "# installation for country code conversion\n",
    "#!pip install pycountry-convert"
   ]
  },
  {
   "cell_type": "code",
   "execution_count": 168,
   "id": "823702f0",
   "metadata": {},
   "outputs": [],
   "source": [
    "import pycountry"
   ]
  },
  {
   "cell_type": "code",
   "execution_count": 190,
   "id": "28ae9fb8",
   "metadata": {},
   "outputs": [],
   "source": [
    "#list(pycountry.countries)"
   ]
  },
  {
   "cell_type": "code",
   "execution_count": 193,
   "id": "e2f96c53",
   "metadata": {},
   "outputs": [
    {
     "data": {
      "text/plain": [
       "Country(alpha_2='BD', alpha_3='BGD', flag='🇧🇩', name='Bangladesh', numeric='050', official_name=\"People's Republic of Bangladesh\")"
      ]
     },
     "execution_count": 193,
     "metadata": {},
     "output_type": "execute_result"
    }
   ],
   "source": [
    "pycountry.countries.lookup('bd')"
   ]
  },
  {
   "cell_type": "code",
   "execution_count": 258,
   "id": "8cf7c920",
   "metadata": {},
   "outputs": [
    {
     "data": {
      "text/plain": [
       "'Bangladesh'"
      ]
     },
     "execution_count": 258,
     "metadata": {},
     "output_type": "execute_result"
    }
   ],
   "source": [
    "pycountry.countries.lookup('bd').name"
   ]
  },
  {
   "cell_type": "code",
   "execution_count": 259,
   "id": "bd90162f",
   "metadata": {},
   "outputs": [],
   "source": [
    "country_name_list=[]\n",
    "country_code_list= []\n",
    "for cc in ip_reputation_df['Country']:\n",
    "    cc= str(cc).lower()\n",
    "    if not (cc=='nan'):\n",
    "        country_name = pycountry.countries.lookup(cc).name\n",
    "        country_name_list.append(country_name)\n",
    "    else:\n",
    "        country_name_list.append('nan')\n",
    "\n",
    "ip_reputation_df['country_name']= country_name_list\n"
   ]
  },
  {
   "cell_type": "code",
   "execution_count": 260,
   "id": "94fba8e0",
   "metadata": {},
   "outputs": [
    {
     "data": {
      "text/html": [
       "<div>\n",
       "<style scoped>\n",
       "    .dataframe tbody tr th:only-of-type {\n",
       "        vertical-align: middle;\n",
       "    }\n",
       "\n",
       "    .dataframe tbody tr th {\n",
       "        vertical-align: top;\n",
       "    }\n",
       "\n",
       "    .dataframe thead th {\n",
       "        text-align: right;\n",
       "    }\n",
       "</style>\n",
       "<table border=\"1\" class=\"dataframe\">\n",
       "  <thead>\n",
       "    <tr style=\"text-align: right;\">\n",
       "      <th></th>\n",
       "      <th>Unnamed: 0</th>\n",
       "      <th>IP</th>\n",
       "      <th>Reliability</th>\n",
       "      <th>Risk</th>\n",
       "      <th>Type</th>\n",
       "      <th>Country</th>\n",
       "      <th>Locale</th>\n",
       "      <th>Coords</th>\n",
       "      <th>lat</th>\n",
       "      <th>lon</th>\n",
       "      <th>country_name</th>\n",
       "    </tr>\n",
       "  </thead>\n",
       "  <tbody>\n",
       "    <tr>\n",
       "      <th>0</th>\n",
       "      <td>0</td>\n",
       "      <td>222.76.212.189</td>\n",
       "      <td>4</td>\n",
       "      <td>2</td>\n",
       "      <td>Scanning Host</td>\n",
       "      <td>cn</td>\n",
       "      <td>Xiamen</td>\n",
       "      <td>24.4797992706,118.08190155</td>\n",
       "      <td>24.479799</td>\n",
       "      <td>118.081902</td>\n",
       "      <td>China</td>\n",
       "    </tr>\n",
       "    <tr>\n",
       "      <th>1</th>\n",
       "      <td>1</td>\n",
       "      <td>222.76.212.185</td>\n",
       "      <td>4</td>\n",
       "      <td>2</td>\n",
       "      <td>Scanning Host</td>\n",
       "      <td>cn</td>\n",
       "      <td>Xiamen</td>\n",
       "      <td>24.4797992706,118.08190155</td>\n",
       "      <td>24.479799</td>\n",
       "      <td>118.081902</td>\n",
       "      <td>China</td>\n",
       "    </tr>\n",
       "    <tr>\n",
       "      <th>2</th>\n",
       "      <td>2</td>\n",
       "      <td>222.76.212.186</td>\n",
       "      <td>4</td>\n",
       "      <td>2</td>\n",
       "      <td>Scanning Host</td>\n",
       "      <td>cn</td>\n",
       "      <td>Xiamen</td>\n",
       "      <td>24.4797992706,118.08190155</td>\n",
       "      <td>24.479799</td>\n",
       "      <td>118.081902</td>\n",
       "      <td>China</td>\n",
       "    </tr>\n",
       "    <tr>\n",
       "      <th>3</th>\n",
       "      <td>3</td>\n",
       "      <td>5.34.246.67</td>\n",
       "      <td>6</td>\n",
       "      <td>3</td>\n",
       "      <td>Spamming</td>\n",
       "      <td>us</td>\n",
       "      <td>NaN</td>\n",
       "      <td>38.0,-97.0</td>\n",
       "      <td>38.000000</td>\n",
       "      <td>-97.000000</td>\n",
       "      <td>United States</td>\n",
       "    </tr>\n",
       "    <tr>\n",
       "      <th>4</th>\n",
       "      <td>4</td>\n",
       "      <td>178.94.97.176</td>\n",
       "      <td>4</td>\n",
       "      <td>5</td>\n",
       "      <td>Scanning Host</td>\n",
       "      <td>ua</td>\n",
       "      <td>Merefa</td>\n",
       "      <td>49.8230018616,36.0507011414</td>\n",
       "      <td>49.823002</td>\n",
       "      <td>36.050701</td>\n",
       "      <td>Ukraine</td>\n",
       "    </tr>\n",
       "    <tr>\n",
       "      <th>...</th>\n",
       "      <td>...</td>\n",
       "      <td>...</td>\n",
       "      <td>...</td>\n",
       "      <td>...</td>\n",
       "      <td>...</td>\n",
       "      <td>...</td>\n",
       "      <td>...</td>\n",
       "      <td>...</td>\n",
       "      <td>...</td>\n",
       "      <td>...</td>\n",
       "      <td>...</td>\n",
       "    </tr>\n",
       "    <tr>\n",
       "      <th>9995</th>\n",
       "      <td>9995</td>\n",
       "      <td>86.35.30.70</td>\n",
       "      <td>4</td>\n",
       "      <td>3</td>\n",
       "      <td>Scanning Host</td>\n",
       "      <td>ro</td>\n",
       "      <td>Caransebes</td>\n",
       "      <td>45.4166984558,22.2166996002</td>\n",
       "      <td>45.416698</td>\n",
       "      <td>22.216700</td>\n",
       "      <td>Romania</td>\n",
       "    </tr>\n",
       "    <tr>\n",
       "      <th>9996</th>\n",
       "      <td>9996</td>\n",
       "      <td>86.35.30.71</td>\n",
       "      <td>4</td>\n",
       "      <td>3</td>\n",
       "      <td>Scanning Host</td>\n",
       "      <td>ro</td>\n",
       "      <td>Caransebes</td>\n",
       "      <td>45.4166984558,22.2166996002</td>\n",
       "      <td>45.416698</td>\n",
       "      <td>22.216700</td>\n",
       "      <td>Romania</td>\n",
       "    </tr>\n",
       "    <tr>\n",
       "      <th>9997</th>\n",
       "      <td>9997</td>\n",
       "      <td>86.35.30.72</td>\n",
       "      <td>4</td>\n",
       "      <td>3</td>\n",
       "      <td>Scanning Host</td>\n",
       "      <td>ro</td>\n",
       "      <td>Caransebes</td>\n",
       "      <td>45.4166984558,22.2166996002</td>\n",
       "      <td>45.416698</td>\n",
       "      <td>22.216700</td>\n",
       "      <td>Romania</td>\n",
       "    </tr>\n",
       "    <tr>\n",
       "      <th>9998</th>\n",
       "      <td>9998</td>\n",
       "      <td>86.35.30.73</td>\n",
       "      <td>4</td>\n",
       "      <td>3</td>\n",
       "      <td>Scanning Host</td>\n",
       "      <td>ro</td>\n",
       "      <td>Caransebes</td>\n",
       "      <td>45.4166984558,22.2166996002</td>\n",
       "      <td>45.416698</td>\n",
       "      <td>22.216700</td>\n",
       "      <td>Romania</td>\n",
       "    </tr>\n",
       "    <tr>\n",
       "      <th>9999</th>\n",
       "      <td>9999</td>\n",
       "      <td>86.35.30.74</td>\n",
       "      <td>4</td>\n",
       "      <td>3</td>\n",
       "      <td>Scanning Host</td>\n",
       "      <td>ro</td>\n",
       "      <td>Caransebes</td>\n",
       "      <td>45.4166984558,22.2166996002</td>\n",
       "      <td>45.416698</td>\n",
       "      <td>22.216700</td>\n",
       "      <td>Romania</td>\n",
       "    </tr>\n",
       "  </tbody>\n",
       "</table>\n",
       "<p>10000 rows × 11 columns</p>\n",
       "</div>"
      ],
      "text/plain": [
       "      Unnamed: 0              IP  Reliability  Risk           Type Country  \\\n",
       "0              0  222.76.212.189            4     2  Scanning Host      cn   \n",
       "1              1  222.76.212.185            4     2  Scanning Host      cn   \n",
       "2              2  222.76.212.186            4     2  Scanning Host      cn   \n",
       "3              3     5.34.246.67            6     3       Spamming      us   \n",
       "4              4   178.94.97.176            4     5  Scanning Host      ua   \n",
       "...          ...             ...          ...   ...            ...     ...   \n",
       "9995        9995     86.35.30.70            4     3  Scanning Host      ro   \n",
       "9996        9996     86.35.30.71            4     3  Scanning Host      ro   \n",
       "9997        9997     86.35.30.72            4     3  Scanning Host      ro   \n",
       "9998        9998     86.35.30.73            4     3  Scanning Host      ro   \n",
       "9999        9999     86.35.30.74            4     3  Scanning Host      ro   \n",
       "\n",
       "          Locale                       Coords        lat         lon  \\\n",
       "0         Xiamen   24.4797992706,118.08190155  24.479799  118.081902   \n",
       "1         Xiamen   24.4797992706,118.08190155  24.479799  118.081902   \n",
       "2         Xiamen   24.4797992706,118.08190155  24.479799  118.081902   \n",
       "3            NaN                   38.0,-97.0  38.000000  -97.000000   \n",
       "4         Merefa  49.8230018616,36.0507011414  49.823002   36.050701   \n",
       "...          ...                          ...        ...         ...   \n",
       "9995  Caransebes  45.4166984558,22.2166996002  45.416698   22.216700   \n",
       "9996  Caransebes  45.4166984558,22.2166996002  45.416698   22.216700   \n",
       "9997  Caransebes  45.4166984558,22.2166996002  45.416698   22.216700   \n",
       "9998  Caransebes  45.4166984558,22.2166996002  45.416698   22.216700   \n",
       "9999  Caransebes  45.4166984558,22.2166996002  45.416698   22.216700   \n",
       "\n",
       "       country_name  \n",
       "0             China  \n",
       "1             China  \n",
       "2             China  \n",
       "3     United States  \n",
       "4           Ukraine  \n",
       "...             ...  \n",
       "9995        Romania  \n",
       "9996        Romania  \n",
       "9997        Romania  \n",
       "9998        Romania  \n",
       "9999        Romania  \n",
       "\n",
       "[10000 rows x 11 columns]"
      ]
     },
     "execution_count": 260,
     "metadata": {},
     "output_type": "execute_result"
    }
   ],
   "source": [
    "ip_reputation_df"
   ]
  },
  {
   "cell_type": "code",
   "execution_count": 262,
   "id": "43f03dee",
   "metadata": {},
   "outputs": [
    {
     "data": {
      "text/plain": [
       "United States    2194\n",
       "China            2125\n",
       "Germany           428\n",
       "Brazil            393\n",
       "Netherlands       350\n",
       "                 ... \n",
       "Belgium             1\n",
       "Israel              1\n",
       "Estonia             1\n",
       "Azerbaijan          1\n",
       "Kazakhstan          1\n",
       "Name: country_name, Length: 74, dtype: int64"
      ]
     },
     "execution_count": 262,
     "metadata": {},
     "output_type": "execute_result"
    }
   ],
   "source": [
    "ip_reputation_df['country_name'].value_counts()"
   ]
  },
  {
   "cell_type": "code",
   "execution_count": 265,
   "id": "ba4d1162",
   "metadata": {},
   "outputs": [
    {
     "data": {
      "text/plain": [
       "Scanning Host                          9038\n",
       "Spamming                                336\n",
       "Malware IP                              203\n",
       "Malware Domain                          195\n",
       "Malicious Host                          172\n",
       "C&C                                      31\n",
       "Malicious Host;Scanning Host              6\n",
       "Malware Domain;Malware IP                 6\n",
       "Scanning Host;Malicious Host              3\n",
       "Scanning Host;Malware Domain              2\n",
       "Malware Domain;Scanning Host              2\n",
       "C&C;Scanning Host                         1\n",
       "Malware IP;Malware Domain                 1\n",
       "Malware Domain;Malicious Host             1\n",
       "C&C;Malware Domain                        1\n",
       "Scanning Host;C&C                         1\n",
       "Malware distribution;Malicious Host       1\n",
       "Name: Type, dtype: int64"
      ]
     },
     "execution_count": 265,
     "metadata": {},
     "output_type": "execute_result"
    }
   ],
   "source": [
    "ip_reputation_df['Type'].value_counts()"
   ]
  },
  {
   "cell_type": "code",
   "execution_count": 272,
   "id": "ae514211",
   "metadata": {},
   "outputs": [
    {
     "data": {
      "text/plain": [
       "2    6054\n",
       "3    2668\n",
       "4    1049\n",
       "5     213\n",
       "6      14\n",
       "1       2\n",
       "Name: Risk, dtype: int64"
      ]
     },
     "execution_count": 272,
     "metadata": {},
     "output_type": "execute_result"
    }
   ],
   "source": [
    "ip_reputation_df['Risk'].value_counts()"
   ]
  },
  {
   "cell_type": "code",
   "execution_count": 273,
   "id": "3347802b",
   "metadata": {},
   "outputs": [
    {
     "data": {
      "text/plain": [
       "4     8665\n",
       "6      543\n",
       "1      406\n",
       "3      289\n",
       "9       61\n",
       "10      18\n",
       "7       16\n",
       "8        2\n",
       "Name: Reliability, dtype: int64"
      ]
     },
     "execution_count": 273,
     "metadata": {},
     "output_type": "execute_result"
    }
   ],
   "source": [
    "ip_reputation_df['Reliability'].value_counts()"
   ]
  },
  {
   "cell_type": "code",
   "execution_count": null,
   "id": "9f8c878d",
   "metadata": {},
   "outputs": [],
   "source": [
    "# Further Analysis Questions:\n",
    "#In class Activities: \n",
    "##Q1: What is the distribution of Risk scores for \"Germany\" geo-located IPs? \n",
    "    #Q1.1: How it is different from the US geo-located IPs? (Hint: Ideally two bar graphs can be used)  \n",
    "##Q2: What is the distribution of Reliability scores for \"Brazil\" geo-located IPs? \n",
    "    #Q2.1: How it is different from the \"Chinese\" geo-located IPs? (Hint: Same as Q1)\n",
    "##Q3. What are top 5 maliciousness within \"US\" geo-located IPs versus \"Chinese\" geo-located IPs? \n",
    "    ##Q3.1 Are they same of different? "
   ]
  },
  {
   "cell_type": "code",
   "execution_count": null,
   "id": "897253e3",
   "metadata": {},
   "outputs": [],
   "source": []
  },
  {
   "cell_type": "code",
   "execution_count": null,
   "id": "c4b8f85f",
   "metadata": {},
   "outputs": [],
   "source": []
  },
  {
   "cell_type": "code",
   "execution_count": null,
   "id": "242d4b9e",
   "metadata": {},
   "outputs": [],
   "source": []
  },
  {
   "cell_type": "code",
   "execution_count": null,
   "id": "6e4038ec",
   "metadata": {},
   "outputs": [],
   "source": []
  },
  {
   "cell_type": "code",
   "execution_count": null,
   "id": "8830bfd5",
   "metadata": {},
   "outputs": [],
   "source": []
  }
 ],
 "metadata": {
  "kernelspec": {
   "display_name": "Python 3 (ipykernel)",
   "language": "python",
   "name": "python3"
  },
  "language_info": {
   "codemirror_mode": {
    "name": "ipython",
    "version": 3
   },
   "file_extension": ".py",
   "mimetype": "text/x-python",
   "name": "python",
   "nbconvert_exporter": "python",
   "pygments_lexer": "ipython3",
   "version": "3.9.13"
  }
 },
 "nbformat": 4,
 "nbformat_minor": 5
}
