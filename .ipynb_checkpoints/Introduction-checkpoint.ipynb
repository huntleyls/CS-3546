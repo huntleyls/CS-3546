{
 "cells": [
  {
   "cell_type": "code",
   "execution_count": 115,
   "id": "6574528a",
   "metadata": {},
   "outputs": [
    {
     "name": "stdout",
     "output_type": "stream",
     "text": [
      "hello World!\n"
     ]
    }
   ],
   "source": [
    "print(\"hello World!\")"
   ]
  },
  {
   "cell_type": "markdown",
   "id": "2bbb88ef",
   "metadata": {},
   "source": [
    "# Calculations"
   ]
  },
  {
   "cell_type": "code",
   "execution_count": 2,
   "id": "7f82b12b",
   "metadata": {},
   "outputs": [
    {
     "data": {
      "text/plain": [
       "20"
      ]
     },
     "execution_count": 2,
     "metadata": {},
     "output_type": "execute_result"
    }
   ],
   "source": [
    "10+10"
   ]
  },
  {
   "cell_type": "code",
   "execution_count": 3,
   "id": "88c7476a",
   "metadata": {},
   "outputs": [
    {
     "data": {
      "text/plain": [
       "20"
      ]
     },
     "execution_count": 3,
     "metadata": {},
     "output_type": "execute_result"
    }
   ],
   "source": [
    "50 - 5 * 6"
   ]
  },
  {
   "cell_type": "code",
   "execution_count": 116,
   "id": "58d8500f",
   "metadata": {},
   "outputs": [
    {
     "data": {
      "text/plain": [
       "5.0"
      ]
     },
     "execution_count": 116,
     "metadata": {},
     "output_type": "execute_result"
    }
   ],
   "source": [
    "(50 - 5*6) / 4"
   ]
  },
  {
   "cell_type": "code",
   "execution_count": 117,
   "id": "a3309dcc",
   "metadata": {},
   "outputs": [
    {
     "data": {
      "text/plain": [
       "1.6"
      ]
     },
     "execution_count": 117,
     "metadata": {},
     "output_type": "execute_result"
    }
   ],
   "source": [
    "8 / 5\n"
   ]
  },
  {
   "cell_type": "code",
   "execution_count": 118,
   "id": "c6c62a56",
   "metadata": {},
   "outputs": [
    {
     "data": {
      "text/plain": [
       "1"
      ]
     },
     "execution_count": 118,
     "metadata": {},
     "output_type": "execute_result"
    }
   ],
   "source": [
    "8 // 5\n"
   ]
  },
  {
   "cell_type": "code",
   "execution_count": 119,
   "id": "3f28012c",
   "metadata": {},
   "outputs": [
    {
     "data": {
      "text/plain": [
       "3"
      ]
     },
     "execution_count": 119,
     "metadata": {},
     "output_type": "execute_result"
    }
   ],
   "source": [
    "8 % 5\n"
   ]
  },
  {
   "cell_type": "code",
   "execution_count": 9,
   "id": "c1e04874",
   "metadata": {},
   "outputs": [
    {
     "data": {
      "text/plain": [
       "17"
      ]
     },
     "execution_count": 9,
     "metadata": {},
     "output_type": "execute_result"
    }
   ],
   "source": [
    "2 * 7 + 3\n"
   ]
  },
  {
   "cell_type": "code",
   "execution_count": 122,
   "id": "987feff9",
   "metadata": {},
   "outputs": [
    {
     "data": {
      "text/plain": [
       "64"
      ]
     },
     "execution_count": 122,
     "metadata": {},
     "output_type": "execute_result"
    }
   ],
   "source": [
    "4 ** 3"
   ]
  },
  {
   "cell_type": "code",
   "execution_count": 11,
   "id": "f9c7f9f4",
   "metadata": {},
   "outputs": [
    {
     "data": {
      "text/plain": [
       "256"
      ]
     },
     "execution_count": 11,
     "metadata": {},
     "output_type": "execute_result"
    }
   ],
   "source": [
    "2**8"
   ]
  },
  {
   "cell_type": "code",
   "execution_count": 126,
   "id": "c2a73da7",
   "metadata": {},
   "outputs": [
    {
     "ename": "TypeError",
     "evalue": "can't multiply sequence by non-int of type 'str'",
     "output_type": "error",
     "traceback": [
      "\u001b[0;31m---------------------------------------------------------------------------\u001b[0m",
      "\u001b[0;31mTypeError\u001b[0m                                 Traceback (most recent call last)",
      "\u001b[0;32m/var/folders/fd/98btxt2s5bv58pkwtbczddjc0000gq/T/ipykernel_96171/2515485737.py\u001b[0m in \u001b[0;36m<module>\u001b[0;34m\u001b[0m\n\u001b[1;32m      1\u001b[0m \u001b[0mwidth\u001b[0m \u001b[0;34m=\u001b[0m \u001b[0;34m\"20\"\u001b[0m\u001b[0;34m\u001b[0m\u001b[0;34m\u001b[0m\u001b[0m\n\u001b[1;32m      2\u001b[0m \u001b[0mheight\u001b[0m \u001b[0;34m=\u001b[0m \u001b[0;34m\"30\"\u001b[0m\u001b[0;34m\u001b[0m\u001b[0;34m\u001b[0m\u001b[0m\n\u001b[0;32m----> 3\u001b[0;31m \u001b[0mwidth\u001b[0m \u001b[0;34m*\u001b[0m \u001b[0mheight\u001b[0m\u001b[0;34m\u001b[0m\u001b[0;34m\u001b[0m\u001b[0m\n\u001b[0m",
      "\u001b[0;31mTypeError\u001b[0m: can't multiply sequence by non-int of type 'str'"
     ]
    }
   ],
   "source": [
    "width = \"20\"\n",
    "height = \"30\"\n",
    "width * height"
   ]
  },
  {
   "cell_type": "markdown",
   "id": "a3f96bf4",
   "metadata": {},
   "source": [
    "# Comparisons"
   ]
  },
  {
   "cell_type": "code",
   "execution_count": 18,
   "id": "af4f6f1f",
   "metadata": {},
   "outputs": [
    {
     "data": {
      "text/plain": [
       "True"
      ]
     },
     "execution_count": 18,
     "metadata": {},
     "output_type": "execute_result"
    }
   ],
   "source": [
    " 1 >= 1"
   ]
  },
  {
   "cell_type": "code",
   "execution_count": 19,
   "id": "bc86b3b8",
   "metadata": {},
   "outputs": [
    {
     "data": {
      "text/plain": [
       "False"
      ]
     },
     "execution_count": 19,
     "metadata": {},
     "output_type": "execute_result"
    }
   ],
   "source": [
    "1 > 1"
   ]
  },
  {
   "cell_type": "code",
   "execution_count": 20,
   "id": "69372188",
   "metadata": {},
   "outputs": [
    {
     "data": {
      "text/plain": [
       "True"
      ]
     },
     "execution_count": 20,
     "metadata": {},
     "output_type": "execute_result"
    }
   ],
   "source": [
    "1 < 2"
   ]
  },
  {
   "cell_type": "code",
   "execution_count": 21,
   "id": "0348e9a5",
   "metadata": {},
   "outputs": [
    {
     "data": {
      "text/plain": [
       "False"
      ]
     },
     "execution_count": 21,
     "metadata": {},
     "output_type": "execute_result"
    }
   ],
   "source": [
    "1 <= 0"
   ]
  },
  {
   "cell_type": "code",
   "execution_count": 22,
   "id": "c560f80d",
   "metadata": {},
   "outputs": [
    {
     "data": {
      "text/plain": [
       "True"
      ]
     },
     "execution_count": 22,
     "metadata": {},
     "output_type": "execute_result"
    }
   ],
   "source": [
    "1 != 2"
   ]
  },
  {
   "cell_type": "code",
   "execution_count": 129,
   "id": "cf540854",
   "metadata": {},
   "outputs": [],
   "source": [
    "a= [1, 2, 3]\n",
    "b = [1,2,3]"
   ]
  },
  {
   "cell_type": "code",
   "execution_count": 130,
   "id": "6f846f19",
   "metadata": {},
   "outputs": [
    {
     "data": {
      "text/plain": [
       "True"
      ]
     },
     "execution_count": 130,
     "metadata": {},
     "output_type": "execute_result"
    }
   ],
   "source": [
    "a == b   # var.equals(var1)"
   ]
  },
  {
   "cell_type": "code",
   "execution_count": 131,
   "id": "85e0da85",
   "metadata": {},
   "outputs": [
    {
     "data": {
      "text/plain": [
       "False"
      ]
     },
     "execution_count": 131,
     "metadata": {},
     "output_type": "execute_result"
    }
   ],
   "source": [
    "a is b   \n",
    "# different from == operator. \"is\" returns true if a and b are from the same object otherwise returns false "
   ]
  },
  {
   "cell_type": "code",
   "execution_count": null,
   "id": "6e9ce2a7",
   "metadata": {},
   "outputs": [],
   "source": []
  },
  {
   "cell_type": "code",
   "execution_count": null,
   "id": "4d9a2bdd",
   "metadata": {},
   "outputs": [],
   "source": []
  },
  {
   "cell_type": "markdown",
   "id": "64010ca4",
   "metadata": {},
   "source": [
    "# Strings"
   ]
  },
  {
   "cell_type": "code",
   "execution_count": 14,
   "id": "d5718a10",
   "metadata": {},
   "outputs": [
    {
     "data": {
      "text/plain": [
       "'ham and eggs'"
      ]
     },
     "execution_count": 14,
     "metadata": {},
     "output_type": "execute_result"
    }
   ],
   "source": [
    "'ham and eggs'\n"
   ]
  },
  {
   "cell_type": "code",
   "execution_count": 135,
   "id": "79630d48",
   "metadata": {},
   "outputs": [
    {
     "data": {
      "text/plain": [
       "\"doesn't\""
      ]
     },
     "execution_count": 135,
     "metadata": {},
     "output_type": "execute_result"
    }
   ],
   "source": [
    "str_my = 'doesn\\'t'\n",
    "str_my"
   ]
  },
  {
   "cell_type": "code",
   "execution_count": 132,
   "id": "3181d63a",
   "metadata": {},
   "outputs": [
    {
     "name": "stdout",
     "output_type": "stream",
     "text": [
      "First line.\n",
      "Second line.\n"
     ]
    }
   ],
   "source": [
    "s = 'First line.\\nSecond line.'\n",
    "print(s)"
   ]
  },
  {
   "cell_type": "code",
   "execution_count": 133,
   "id": "c69d167a",
   "metadata": {},
   "outputs": [
    {
     "name": "stdout",
     "output_type": "stream",
     "text": [
      "First line.\n",
      "Second line.\n",
      "Third line.\n"
     ]
    }
   ],
   "source": [
    "t = '\\nThird line.'\n",
    "s+=t   #concate, s=s+t\n",
    "print(s)"
   ]
  },
  {
   "cell_type": "code",
   "execution_count": 137,
   "id": "130941c3",
   "metadata": {},
   "outputs": [],
   "source": [
    "string = 'learning'"
   ]
  },
  {
   "cell_type": "code",
   "execution_count": 138,
   "id": "6686dd9c",
   "metadata": {},
   "outputs": [
    {
     "data": {
      "text/plain": [
       "'l'"
      ]
     },
     "execution_count": 138,
     "metadata": {},
     "output_type": "execute_result"
    }
   ],
   "source": [
    "string[0]"
   ]
  },
  {
   "cell_type": "code",
   "execution_count": 139,
   "id": "84de0a19",
   "metadata": {},
   "outputs": [
    {
     "data": {
      "text/plain": [
       "8"
      ]
     },
     "execution_count": 139,
     "metadata": {},
     "output_type": "execute_result"
    }
   ],
   "source": [
    "len(string) # length of string"
   ]
  },
  {
   "cell_type": "code",
   "execution_count": 140,
   "id": "cc67196f",
   "metadata": {},
   "outputs": [
    {
     "data": {
      "text/plain": [
       "'g'"
      ]
     },
     "execution_count": 140,
     "metadata": {},
     "output_type": "execute_result"
    }
   ],
   "source": [
    "string[-1]"
   ]
  },
  {
   "cell_type": "code",
   "execution_count": 35,
   "id": "efaca12a",
   "metadata": {},
   "outputs": [
    {
     "data": {
      "text/plain": [
       "'n'"
      ]
     },
     "execution_count": 35,
     "metadata": {},
     "output_type": "execute_result"
    }
   ],
   "source": [
    "string[-2]"
   ]
  },
  {
   "cell_type": "code",
   "execution_count": 36,
   "id": "85a8ab84",
   "metadata": {},
   "outputs": [
    {
     "data": {
      "text/plain": [
       "'l'"
      ]
     },
     "execution_count": 36,
     "metadata": {},
     "output_type": "execute_result"
    }
   ],
   "source": [
    "string[-8]"
   ]
  },
  {
   "cell_type": "code",
   "execution_count": 37,
   "id": "f101293c",
   "metadata": {},
   "outputs": [
    {
     "ename": "IndexError",
     "evalue": "string index out of range",
     "output_type": "error",
     "traceback": [
      "\u001b[0;31m---------------------------------------------------------------------------\u001b[0m",
      "\u001b[0;31mIndexError\u001b[0m                                Traceback (most recent call last)",
      "\u001b[0;32m/var/folders/fd/98btxt2s5bv58pkwtbczddjc0000gq/T/ipykernel_89792/752155871.py\u001b[0m in \u001b[0;36m<module>\u001b[0;34m\u001b[0m\n\u001b[0;32m----> 1\u001b[0;31m \u001b[0mstring\u001b[0m\u001b[0;34m[\u001b[0m\u001b[0;34m-\u001b[0m\u001b[0;36m9\u001b[0m\u001b[0;34m]\u001b[0m\u001b[0;34m\u001b[0m\u001b[0;34m\u001b[0m\u001b[0m\n\u001b[0m",
      "\u001b[0;31mIndexError\u001b[0m: string index out of range"
     ]
    }
   ],
   "source": [
    "string[-9]"
   ]
  },
  {
   "cell_type": "markdown",
   "id": "08b1d95f",
   "metadata": {},
   "source": [
    "# String Slicing"
   ]
  },
  {
   "cell_type": "code",
   "execution_count": 39,
   "id": "e68c8981",
   "metadata": {},
   "outputs": [
    {
     "data": {
      "text/plain": [
       "'learn'"
      ]
     },
     "execution_count": 39,
     "metadata": {},
     "output_type": "execute_result"
    }
   ],
   "source": [
    "string[0:5]   # staring index included, ending index excluded\n"
   ]
  },
  {
   "cell_type": "code",
   "execution_count": 40,
   "id": "22257a28",
   "metadata": {},
   "outputs": [
    {
     "data": {
      "text/plain": [
       "'earn'"
      ]
     },
     "execution_count": 40,
     "metadata": {},
     "output_type": "execute_result"
    }
   ],
   "source": [
    "string[1:5]\n"
   ]
  },
  {
   "cell_type": "code",
   "execution_count": 41,
   "id": "ad53a5c9",
   "metadata": {},
   "outputs": [
    {
     "data": {
      "text/plain": [
       "'learn'"
      ]
     },
     "execution_count": 41,
     "metadata": {},
     "output_type": "execute_result"
    }
   ],
   "source": [
    "string[:5]"
   ]
  },
  {
   "cell_type": "code",
   "execution_count": 42,
   "id": "81de5334",
   "metadata": {},
   "outputs": [
    {
     "data": {
      "text/plain": [
       "'ing'"
      ]
     },
     "execution_count": 42,
     "metadata": {},
     "output_type": "execute_result"
    }
   ],
   "source": [
    "string[5:]\n"
   ]
  },
  {
   "cell_type": "code",
   "execution_count": 141,
   "id": "43083cd3",
   "metadata": {},
   "outputs": [
    {
     "data": {
      "text/plain": [
       "'learn ing'"
      ]
     },
     "execution_count": 141,
     "metadata": {},
     "output_type": "execute_result"
    }
   ],
   "source": [
    "string[:5] +\" \" + string[5:]"
   ]
  },
  {
   "cell_type": "code",
   "execution_count": 46,
   "id": "d28cbc76",
   "metadata": {},
   "outputs": [
    {
     "data": {
      "text/plain": [
       "'ing'"
      ]
     },
     "execution_count": 46,
     "metadata": {},
     "output_type": "execute_result"
    }
   ],
   "source": [
    "string[-3:]"
   ]
  },
  {
   "cell_type": "code",
   "execution_count": 47,
   "id": "025eff43",
   "metadata": {},
   "outputs": [
    {
     "data": {
      "text/plain": [
       "'learning'"
      ]
     },
     "execution_count": 47,
     "metadata": {},
     "output_type": "execute_result"
    }
   ],
   "source": [
    "string[:1000000]"
   ]
  },
  {
   "cell_type": "markdown",
   "id": "dc69392d",
   "metadata": {},
   "source": [
    "# Strings are immutable"
   ]
  },
  {
   "cell_type": "code",
   "execution_count": 49,
   "id": "2adc22f3",
   "metadata": {},
   "outputs": [
    {
     "ename": "TypeError",
     "evalue": "'str' object does not support item assignment",
     "output_type": "error",
     "traceback": [
      "\u001b[0;31m---------------------------------------------------------------------------\u001b[0m",
      "\u001b[0;31mTypeError\u001b[0m                                 Traceback (most recent call last)",
      "\u001b[0;32m/var/folders/fd/98btxt2s5bv58pkwtbczddjc0000gq/T/ipykernel_89792/920796862.py\u001b[0m in \u001b[0;36m<module>\u001b[0;34m\u001b[0m\n\u001b[0;32m----> 1\u001b[0;31m \u001b[0mstring\u001b[0m\u001b[0;34m[\u001b[0m\u001b[0;36m2\u001b[0m\u001b[0;34m]\u001b[0m\u001b[0;34m=\u001b[0m \u001b[0;34m'x'\u001b[0m\u001b[0;34m\u001b[0m\u001b[0;34m\u001b[0m\u001b[0m\n\u001b[0m",
      "\u001b[0;31mTypeError\u001b[0m: 'str' object does not support item assignment"
     ]
    }
   ],
   "source": [
    "string[2]= 'x'"
   ]
  },
  {
   "cell_type": "code",
   "execution_count": 142,
   "id": "7403b84d",
   "metadata": {},
   "outputs": [
    {
     "data": {
      "text/plain": [
       "'lexrning'"
      ]
     },
     "execution_count": 142,
     "metadata": {},
     "output_type": "execute_result"
    }
   ],
   "source": [
    "string[:2] + \"x\" + string[3:]"
   ]
  },
  {
   "cell_type": "markdown",
   "id": "3fd69d1b",
   "metadata": {},
   "source": [
    "# Lists\n"
   ]
  },
  {
   "cell_type": "code",
   "execution_count": 145,
   "id": "1b426645",
   "metadata": {},
   "outputs": [
    {
     "data": {
      "text/plain": [
       "[1, 4, 9, 16, 25, 36, 49]"
      ]
     },
     "execution_count": 145,
     "metadata": {},
     "output_type": "execute_result"
    }
   ],
   "source": [
    "squares = [1, 4, 9, 16, 25, 36, 49]\n",
    "squares"
   ]
  },
  {
   "cell_type": "code",
   "execution_count": 144,
   "id": "e69d7219",
   "metadata": {},
   "outputs": [
    {
     "data": {
      "text/plain": [
       "25"
      ]
     },
     "execution_count": 144,
     "metadata": {},
     "output_type": "execute_result"
    }
   ],
   "source": [
    "squares[-1]"
   ]
  },
  {
   "cell_type": "code",
   "execution_count": 52,
   "id": "0adb31f5",
   "metadata": {},
   "outputs": [
    {
     "data": {
      "text/plain": [
       "1"
      ]
     },
     "execution_count": 52,
     "metadata": {},
     "output_type": "execute_result"
    }
   ],
   "source": [
    "squares[0]"
   ]
  },
  {
   "cell_type": "code",
   "execution_count": 147,
   "id": "c2b690d3",
   "metadata": {},
   "outputs": [
    {
     "data": {
      "text/plain": [
       "[9, 16, 25, 36, 49]"
      ]
     },
     "execution_count": 147,
     "metadata": {},
     "output_type": "execute_result"
    }
   ],
   "source": [
    "squares[-5:]"
   ]
  },
  {
   "cell_type": "code",
   "execution_count": 148,
   "id": "51dbe6d4",
   "metadata": {},
   "outputs": [],
   "source": [
    "squares +=  [65, 81, 100]"
   ]
  },
  {
   "cell_type": "code",
   "execution_count": 149,
   "id": "b94aa3f8",
   "metadata": {},
   "outputs": [
    {
     "data": {
      "text/plain": [
       "[1, 4, 9, 16, 25, 36, 49, 65, 81, 100]"
      ]
     },
     "execution_count": 149,
     "metadata": {},
     "output_type": "execute_result"
    }
   ],
   "source": [
    "squares"
   ]
  },
  {
   "cell_type": "code",
   "execution_count": 150,
   "id": "29f95c41",
   "metadata": {},
   "outputs": [],
   "source": [
    "squares[-3] = 64  #lists are mutable"
   ]
  },
  {
   "cell_type": "code",
   "execution_count": 151,
   "id": "8b05a5c6",
   "metadata": {},
   "outputs": [
    {
     "data": {
      "text/plain": [
       "[1, 4, 9, 16, 25, 36, 49, 64, 81, 100]"
      ]
     },
     "execution_count": 151,
     "metadata": {},
     "output_type": "execute_result"
    }
   ],
   "source": [
    "squares"
   ]
  },
  {
   "cell_type": "code",
   "execution_count": 152,
   "id": "cbd5cc03",
   "metadata": {},
   "outputs": [],
   "source": [
    "squares.append(121)"
   ]
  },
  {
   "cell_type": "code",
   "execution_count": 153,
   "id": "38e1a567",
   "metadata": {},
   "outputs": [
    {
     "data": {
      "text/plain": [
       "[1, 4, 9, 16, 25, 36, 49, 64, 81, 100, 121]"
      ]
     },
     "execution_count": 153,
     "metadata": {},
     "output_type": "execute_result"
    }
   ],
   "source": [
    "squares"
   ]
  },
  {
   "cell_type": "code",
   "execution_count": 156,
   "id": "b6e7e548",
   "metadata": {},
   "outputs": [],
   "source": [
    "squares.append(12 ** 2)"
   ]
  },
  {
   "cell_type": "code",
   "execution_count": 157,
   "id": "dc26709c",
   "metadata": {},
   "outputs": [
    {
     "data": {
      "text/plain": [
       "[1, 4, 9, 16, 25, 36, 49, 64, 81, 100, 121, 148, 144]"
      ]
     },
     "execution_count": 157,
     "metadata": {},
     "output_type": "execute_result"
    }
   ],
   "source": [
    "squares"
   ]
  },
  {
   "cell_type": "code",
   "execution_count": 158,
   "id": "a21a4295",
   "metadata": {},
   "outputs": [
    {
     "data": {
      "text/plain": [
       "13"
      ]
     },
     "execution_count": 158,
     "metadata": {},
     "output_type": "execute_result"
    }
   ],
   "source": [
    "len(squares)"
   ]
  },
  {
   "cell_type": "code",
   "execution_count": 163,
   "id": "b66a6909",
   "metadata": {},
   "outputs": [],
   "source": [
    "new_list= [[\"mir\", \"jacob\", \"james\"], [5000, 3000, 10000, 2000, 1000]]"
   ]
  },
  {
   "cell_type": "code",
   "execution_count": 164,
   "id": "39da7cb8",
   "metadata": {},
   "outputs": [
    {
     "data": {
      "text/plain": [
       "[['mir', 'jacob', 'james'], [5000, 3000, 10000, 2000, 1000]]"
      ]
     },
     "execution_count": 164,
     "metadata": {},
     "output_type": "execute_result"
    }
   ],
   "source": [
    "new_list"
   ]
  },
  {
   "cell_type": "code",
   "execution_count": 165,
   "id": "eb667d49",
   "metadata": {},
   "outputs": [
    {
     "data": {
      "text/plain": [
       "5"
      ]
     },
     "execution_count": 165,
     "metadata": {},
     "output_type": "execute_result"
    }
   ],
   "source": [
    "len(new_list[1])"
   ]
  },
  {
   "cell_type": "code",
   "execution_count": null,
   "id": "2f227f2b",
   "metadata": {},
   "outputs": [],
   "source": []
  },
  {
   "cell_type": "code",
   "execution_count": 166,
   "id": "cc8191af",
   "metadata": {},
   "outputs": [
    {
     "data": {
      "text/plain": [
       "148"
      ]
     },
     "execution_count": 166,
     "metadata": {},
     "output_type": "execute_result"
    }
   ],
   "source": [
    "max(squares)"
   ]
  },
  {
   "cell_type": "code",
   "execution_count": 167,
   "id": "225ec638",
   "metadata": {},
   "outputs": [
    {
     "data": {
      "text/plain": [
       "1"
      ]
     },
     "execution_count": 167,
     "metadata": {},
     "output_type": "execute_result"
    }
   ],
   "source": [
    "min(squares)"
   ]
  },
  {
   "cell_type": "markdown",
   "id": "d2b992ee",
   "metadata": {},
   "source": [
    "# List of other things"
   ]
  },
  {
   "cell_type": "code",
   "execution_count": 168,
   "id": "207f3e2f",
   "metadata": {},
   "outputs": [],
   "source": [
    "a = ['a', 'b', 'c']"
   ]
  },
  {
   "cell_type": "code",
   "execution_count": 169,
   "id": "a48f2ec5",
   "metadata": {},
   "outputs": [],
   "source": [
    "n = [1, 2, 3]"
   ]
  },
  {
   "cell_type": "code",
   "execution_count": 170,
   "id": "5afc41be",
   "metadata": {},
   "outputs": [],
   "source": [
    "x = [a, n]   # list of lists"
   ]
  },
  {
   "cell_type": "code",
   "execution_count": 171,
   "id": "13575fd4",
   "metadata": {},
   "outputs": [
    {
     "data": {
      "text/plain": [
       "[['a', 'b', 'c'], [1, 2, 3]]"
      ]
     },
     "execution_count": 171,
     "metadata": {},
     "output_type": "execute_result"
    }
   ],
   "source": [
    "x"
   ]
  },
  {
   "cell_type": "code",
   "execution_count": 172,
   "id": "511dffbb",
   "metadata": {},
   "outputs": [
    {
     "data": {
      "text/plain": [
       "['a', 'b', 'c']"
      ]
     },
     "execution_count": 172,
     "metadata": {},
     "output_type": "execute_result"
    }
   ],
   "source": [
    "x[0]"
   ]
  },
  {
   "cell_type": "code",
   "execution_count": 173,
   "id": "8e558309",
   "metadata": {},
   "outputs": [
    {
     "data": {
      "text/plain": [
       "'c'"
      ]
     },
     "execution_count": 173,
     "metadata": {},
     "output_type": "execute_result"
    }
   ],
   "source": [
    "x[0][2]"
   ]
  },
  {
   "cell_type": "code",
   "execution_count": 174,
   "id": "52801e08",
   "metadata": {},
   "outputs": [
    {
     "data": {
      "text/plain": [
       "1"
      ]
     },
     "execution_count": 174,
     "metadata": {},
     "output_type": "execute_result"
    }
   ],
   "source": [
    "x[1][0]"
   ]
  },
  {
   "cell_type": "code",
   "execution_count": 175,
   "id": "9b05eb41",
   "metadata": {},
   "outputs": [],
   "source": [
    "x = a + n   # concate/ merge lists"
   ]
  },
  {
   "cell_type": "code",
   "execution_count": 176,
   "id": "a93d5cdb",
   "metadata": {},
   "outputs": [
    {
     "data": {
      "text/plain": [
       "['a', 'b', 'c', 1, 2, 3]"
      ]
     },
     "execution_count": 176,
     "metadata": {},
     "output_type": "execute_result"
    }
   ],
   "source": [
    "x"
   ]
  },
  {
   "cell_type": "code",
   "execution_count": 177,
   "id": "db6f7860",
   "metadata": {},
   "outputs": [
    {
     "data": {
      "text/plain": [
       "6"
      ]
     },
     "execution_count": 177,
     "metadata": {},
     "output_type": "execute_result"
    }
   ],
   "source": [
    "len(x)"
   ]
  },
  {
   "cell_type": "markdown",
   "id": "731744f4",
   "metadata": {},
   "source": [
    "# Control Flow"
   ]
  },
  {
   "cell_type": "code",
   "execution_count": 181,
   "id": "be944f30",
   "metadata": {},
   "outputs": [
    {
     "name": "stdout",
     "output_type": "stream",
     "text": [
      "Please enter an integer: 5\n",
      "More\n"
     ]
    }
   ],
   "source": [
    "x = int(input('Please enter an integer: '))\n",
    "if x < 0:\n",
    "    x = 0\n",
    "    print('Negative changed to zero')\n",
    "elif x == 0:\n",
    "    print('Zero')\n",
    "elif x == 1:\n",
    "    print('Single')\n",
    "else:\n",
    "    print('More')"
   ]
  },
  {
   "cell_type": "markdown",
   "id": "93792b85",
   "metadata": {},
   "source": [
    "# For Loops"
   ]
  },
  {
   "cell_type": "code",
   "execution_count": 183,
   "id": "a2211441",
   "metadata": {},
   "outputs": [
    {
     "name": "stdout",
     "output_type": "stream",
     "text": [
      "0 1 2 3 4 "
     ]
    }
   ],
   "source": [
    "for i in range(5):\n",
    "    print(i, end=' ')"
   ]
  },
  {
   "cell_type": "code",
   "execution_count": 79,
   "id": "be4258b5",
   "metadata": {},
   "outputs": [],
   "source": [
    "words = ['cat', 'window', 'mouse']"
   ]
  },
  {
   "cell_type": "code",
   "execution_count": 80,
   "id": "52ca2c78",
   "metadata": {},
   "outputs": [
    {
     "name": "stdout",
     "output_type": "stream",
     "text": [
      "0 cat\n",
      "1 window\n",
      "2 mouse\n"
     ]
    }
   ],
   "source": [
    "for i in range(len(words)):\n",
    "    print(i, words[i])"
   ]
  },
  {
   "cell_type": "code",
   "execution_count": 81,
   "id": "c4b5d1a3",
   "metadata": {},
   "outputs": [
    {
     "data": {
      "text/plain": [
       "range(0, 10)"
      ]
     },
     "execution_count": 81,
     "metadata": {},
     "output_type": "execute_result"
    }
   ],
   "source": [
    "range(10)"
   ]
  },
  {
   "cell_type": "code",
   "execution_count": 82,
   "id": "9645cc7c",
   "metadata": {},
   "outputs": [
    {
     "data": {
      "text/plain": [
       "[0, 1, 2, 3, 4, 5, 6, 7, 8, 9]"
      ]
     },
     "execution_count": 82,
     "metadata": {},
     "output_type": "execute_result"
    }
   ],
   "source": [
    "list(range(10))"
   ]
  },
  {
   "cell_type": "markdown",
   "id": "6c9f462b",
   "metadata": {},
   "source": [
    "# Enhanced For Loops"
   ]
  },
  {
   "cell_type": "code",
   "execution_count": 83,
   "id": "7e5cb089",
   "metadata": {},
   "outputs": [
    {
     "name": "stdout",
     "output_type": "stream",
     "text": [
      "cat 3\n",
      "window 6\n",
      "mouse 5\n"
     ]
    }
   ],
   "source": [
    "for wd in words:\n",
    "    print(wd, len(wd))"
   ]
  },
  {
   "cell_type": "code",
   "execution_count": 84,
   "id": "63c18f7e",
   "metadata": {},
   "outputs": [
    {
     "name": "stdout",
     "output_type": "stream",
     "text": [
      "0 cat\n",
      "1 window\n",
      "2 mouse\n"
     ]
    }
   ],
   "source": [
    "for i, w in enumerate(words):\n",
    "    print(i, w)"
   ]
  },
  {
   "cell_type": "markdown",
   "id": "83b3fa59",
   "metadata": {},
   "source": [
    "# Functions Defn"
   ]
  },
  {
   "cell_type": "code",
   "execution_count": 185,
   "id": "62ec2454",
   "metadata": {},
   "outputs": [],
   "source": [
    "# functions for fibonacci number generation series\n",
    "def fib(n):\n",
    "    if n <= 1:\n",
    "        return n\n",
    "    else:\n",
    "        return fib(n - 1) + fib(n - 2)"
   ]
  },
  {
   "cell_type": "code",
   "execution_count": 86,
   "id": "ff0b11a2",
   "metadata": {},
   "outputs": [
    {
     "data": {
      "text/plain": [
       "<function __main__.fib(n)>"
      ]
     },
     "execution_count": 86,
     "metadata": {},
     "output_type": "execute_result"
    }
   ],
   "source": [
    "fib"
   ]
  },
  {
   "cell_type": "code",
   "execution_count": 89,
   "id": "f32cc1b7",
   "metadata": {},
   "outputs": [
    {
     "data": {
      "text/plain": [
       "55"
      ]
     },
     "execution_count": 89,
     "metadata": {},
     "output_type": "execute_result"
    }
   ],
   "source": [
    "fib(10)"
   ]
  },
  {
   "cell_type": "code",
   "execution_count": 187,
   "id": "3ecdbe13",
   "metadata": {},
   "outputs": [
    {
     "name": "stdout",
     "output_type": "stream",
     "text": [
      "0 1 1 2 3 5 8 13 21 34 55 89 144 233 377 610 987 1597 "
     ]
    }
   ],
   "source": [
    "for i in range(18):\n",
    "    print(fib(i), end=' ')"
   ]
  },
  {
   "cell_type": "markdown",
   "id": "a5ec6d81",
   "metadata": {},
   "source": [
    "# Function Arguments"
   ]
  },
  {
   "cell_type": "code",
   "execution_count": 188,
   "id": "e359e3a9",
   "metadata": {},
   "outputs": [],
   "source": [
    "def parrot(voltage, action='voom'):\n",
    "    if voltage< 1000:\n",
    "        action=\"change\"\n",
    "    print(\"-- This parrot wouldn't\", action,end=' ')\n",
    "    print('if you put', voltage, 'volts through it.')"
   ]
  },
  {
   "cell_type": "code",
   "execution_count": 190,
   "id": "531894a5",
   "metadata": {},
   "outputs": [
    {
     "name": "stdout",
     "output_type": "stream",
     "text": [
      "-- This parrot wouldn't voom if you put 1001 volts through it.\n"
     ]
    }
   ],
   "source": [
    "parrot(1001)"
   ]
  },
  {
   "cell_type": "markdown",
   "id": "f60a2920",
   "metadata": {},
   "source": [
    "# Variable and Function Names and Norms"
   ]
  },
  {
   "cell_type": "code",
   "execution_count": 116,
   "id": "0dcbcd55",
   "metadata": {},
   "outputs": [],
   "source": [
    "# Variable and function names should use be lowercase with underscores:\n",
    "# x_position, distance_to_origin(), x_0\n",
    "# Class names are camel-case:\n",
    "#MachineLearning, FeatureSelection"
   ]
  },
  {
   "cell_type": "markdown",
   "id": "0ad2284f",
   "metadata": {},
   "source": [
    "# More on List\n"
   ]
  },
  {
   "cell_type": "code",
   "execution_count": 27,
   "id": "fa3d04f7",
   "metadata": {},
   "outputs": [],
   "source": [
    "my_list = [1,3,5]"
   ]
  },
  {
   "cell_type": "code",
   "execution_count": 28,
   "id": "da110c17",
   "metadata": {},
   "outputs": [],
   "source": [
    "my_list.append(7)"
   ]
  },
  {
   "cell_type": "code",
   "execution_count": 29,
   "id": "d2ba727b",
   "metadata": {},
   "outputs": [
    {
     "data": {
      "text/plain": [
       "[1, 3, 5, 7]"
      ]
     },
     "execution_count": 29,
     "metadata": {},
     "output_type": "execute_result"
    }
   ],
   "source": [
    "my_list"
   ]
  },
  {
   "cell_type": "code",
   "execution_count": 36,
   "id": "87954178",
   "metadata": {},
   "outputs": [],
   "source": [
    "my_list.insert(100, 15) #2 arguments: 1st: location/index to insert 2nd: the value to insert"
   ]
  },
  {
   "cell_type": "code",
   "execution_count": 37,
   "id": "aada0790",
   "metadata": {},
   "outputs": [
    {
     "data": {
      "text/plain": [
       "[1, 3, 5, 7, 9, 11, 13, 15]"
      ]
     },
     "execution_count": 37,
     "metadata": {},
     "output_type": "execute_result"
    }
   ],
   "source": [
    "my_list"
   ]
  },
  {
   "cell_type": "code",
   "execution_count": 140,
   "id": "2db999bf",
   "metadata": {},
   "outputs": [],
   "source": [
    "my_list.remove(1)  # removes the input value from the list"
   ]
  },
  {
   "cell_type": "code",
   "execution_count": 41,
   "id": "976c2321",
   "metadata": {},
   "outputs": [
    {
     "data": {
      "text/plain": [
       "[1, 3, 5, 11, 13, 15]"
      ]
     },
     "execution_count": 41,
     "metadata": {},
     "output_type": "execute_result"
    }
   ],
   "source": [
    "my_list"
   ]
  },
  {
   "cell_type": "code",
   "execution_count": null,
   "id": "8f12544b",
   "metadata": {},
   "outputs": [],
   "source": [
    "        "
   ]
  },
  {
   "cell_type": "code",
   "execution_count": null,
   "id": "bf8f4c8b",
   "metadata": {},
   "outputs": [],
   "source": []
  },
  {
   "cell_type": "code",
   "execution_count": 40,
   "id": "7f691261",
   "metadata": {},
   "outputs": [
    {
     "data": {
      "text/plain": [
       "9"
      ]
     },
     "execution_count": 40,
     "metadata": {},
     "output_type": "execute_result"
    }
   ],
   "source": [
    "my_list.pop(3)  # pops the item in the 'input' index"
   ]
  },
  {
   "cell_type": "code",
   "execution_count": 145,
   "id": "11b5bed5",
   "metadata": {},
   "outputs": [],
   "source": [
    "my_list.sort(key=None, reverse=True)  # Decreasing order\n"
   ]
  },
  {
   "cell_type": "code",
   "execution_count": 150,
   "id": "af26bdeb",
   "metadata": {},
   "outputs": [
    {
     "data": {
      "text/plain": [
       "[3, 5]"
      ]
     },
     "execution_count": 150,
     "metadata": {},
     "output_type": "execute_result"
    }
   ],
   "source": [
    "my_list"
   ]
  },
  {
   "cell_type": "code",
   "execution_count": null,
   "id": "8df8185e",
   "metadata": {},
   "outputs": [],
   "source": [
    "my_list.sort(key=None, reverse=False)  # Increasing order"
   ]
  },
  {
   "cell_type": "code",
   "execution_count": 149,
   "id": "261a7e68",
   "metadata": {},
   "outputs": [],
   "source": [
    "my_list.reverse()"
   ]
  },
  {
   "cell_type": "code",
   "execution_count": 151,
   "id": "63105436",
   "metadata": {},
   "outputs": [],
   "source": [
    "my_list2= my_list.copy()"
   ]
  },
  {
   "cell_type": "code",
   "execution_count": 152,
   "id": "8d18770d",
   "metadata": {},
   "outputs": [
    {
     "data": {
      "text/plain": [
       "[3, 5]"
      ]
     },
     "execution_count": 152,
     "metadata": {},
     "output_type": "execute_result"
    }
   ],
   "source": [
    "my_list2"
   ]
  },
  {
   "cell_type": "markdown",
   "id": "44b816ba",
   "metadata": {},
   "source": [
    "# List Comprehension"
   ]
  },
  {
   "cell_type": "code",
   "execution_count": 191,
   "id": "29e4cd30",
   "metadata": {},
   "outputs": [],
   "source": [
    "# Example 1\n",
    "squares = []\n",
    "for x in range(10):\n",
    "    squares.append(x**2)"
   ]
  },
  {
   "cell_type": "code",
   "execution_count": 192,
   "id": "96e622c0",
   "metadata": {},
   "outputs": [
    {
     "data": {
      "text/plain": [
       "[0, 1, 4, 9, 16, 25, 36, 49, 64, 81]"
      ]
     },
     "execution_count": 192,
     "metadata": {},
     "output_type": "execute_result"
    }
   ],
   "source": [
    "squares"
   ]
  },
  {
   "cell_type": "code",
   "execution_count": 193,
   "id": "27918b60",
   "metadata": {},
   "outputs": [],
   "source": [
    "#Example 2\n",
    "combs = []\n",
    "for x in [1, 2, 3]:\n",
    "    for y in [3, 1, 4]:\n",
    "        if x != y:\n",
    "            combs.append((x, y))"
   ]
  },
  {
   "cell_type": "code",
   "execution_count": 194,
   "id": "09bbe772",
   "metadata": {},
   "outputs": [
    {
     "data": {
      "text/plain": [
       "[(1, 3), (1, 4), (2, 3), (2, 1), (2, 4), (3, 1), (3, 4)]"
      ]
     },
     "execution_count": 194,
     "metadata": {},
     "output_type": "execute_result"
    }
   ],
   "source": [
    "combs"
   ]
  },
  {
   "cell_type": "code",
   "execution_count": 44,
   "id": "9e49531f",
   "metadata": {},
   "outputs": [],
   "source": [
    "#duplicates in list?\n",
    "#combs.append((2,3))"
   ]
  },
  {
   "cell_type": "markdown",
   "id": "7d92ba15",
   "metadata": {},
   "source": [
    "# Tuples"
   ]
  },
  {
   "cell_type": "code",
   "execution_count": 157,
   "id": "14369555",
   "metadata": {},
   "outputs": [
    {
     "data": {
      "text/plain": [
       "(12345, 54321, 'hello!')"
      ]
     },
     "execution_count": 157,
     "metadata": {},
     "output_type": "execute_result"
    }
   ],
   "source": [
    "t = 12345, 54321, 'hello!'\n",
    "t\n"
   ]
  },
  {
   "cell_type": "code",
   "execution_count": 158,
   "id": "a83f4608",
   "metadata": {},
   "outputs": [
    {
     "data": {
      "text/plain": [
       "12345"
      ]
     },
     "execution_count": 158,
     "metadata": {},
     "output_type": "execute_result"
    }
   ],
   "source": [
    "t[0]\n"
   ]
  },
  {
   "cell_type": "code",
   "execution_count": 159,
   "id": "d10a5a21",
   "metadata": {},
   "outputs": [
    {
     "ename": "TypeError",
     "evalue": "'tuple' object does not support item assignment",
     "output_type": "error",
     "traceback": [
      "\u001b[0;31m---------------------------------------------------------------------------\u001b[0m",
      "\u001b[0;31mTypeError\u001b[0m                                 Traceback (most recent call last)",
      "\u001b[0;32m/var/folders/fd/98btxt2s5bv58pkwtbczddjc0000gq/T/ipykernel_89792/4091267793.py\u001b[0m in \u001b[0;36m<module>\u001b[0;34m\u001b[0m\n\u001b[0;32m----> 1\u001b[0;31m \u001b[0mt\u001b[0m\u001b[0;34m[\u001b[0m\u001b[0;36m0\u001b[0m\u001b[0;34m]\u001b[0m \u001b[0;34m=\u001b[0m \u001b[0;36m88888\u001b[0m \u001b[0;31m# Tuples are immutable, can't change\u001b[0m\u001b[0;34m\u001b[0m\u001b[0;34m\u001b[0m\u001b[0m\n\u001b[0m",
      "\u001b[0;31mTypeError\u001b[0m: 'tuple' object does not support item assignment"
     ]
    }
   ],
   "source": [
    "t[0] = 88888 # Tuples are immutable, can't change"
   ]
  },
  {
   "cell_type": "markdown",
   "id": "79a097d7",
   "metadata": {},
   "source": [
    "# SETs"
   ]
  },
  {
   "cell_type": "code",
   "execution_count": 160,
   "id": "6add03a7",
   "metadata": {},
   "outputs": [],
   "source": [
    "basket = {'apple', 'orange', 'apple', 'pear'}"
   ]
  },
  {
   "cell_type": "code",
   "execution_count": 161,
   "id": "a245a756",
   "metadata": {},
   "outputs": [
    {
     "data": {
      "text/plain": [
       "{'apple', 'orange', 'pear'}"
      ]
     },
     "execution_count": 161,
     "metadata": {},
     "output_type": "execute_result"
    }
   ],
   "source": [
    "basket"
   ]
  },
  {
   "cell_type": "code",
   "execution_count": 162,
   "id": "2cf10362",
   "metadata": {},
   "outputs": [
    {
     "data": {
      "text/plain": [
       "True"
      ]
     },
     "execution_count": 162,
     "metadata": {},
     "output_type": "execute_result"
    }
   ],
   "source": [
    "'orange' in basket"
   ]
  },
  {
   "cell_type": "code",
   "execution_count": 163,
   "id": "37318b8c",
   "metadata": {},
   "outputs": [
    {
     "data": {
      "text/plain": [
       "False"
      ]
     },
     "execution_count": 163,
     "metadata": {},
     "output_type": "execute_result"
    }
   ],
   "source": [
    "'banana' in basket"
   ]
  },
  {
   "cell_type": "code",
   "execution_count": 164,
   "id": "56725c4d",
   "metadata": {},
   "outputs": [],
   "source": [
    "a = {x for x in 'abracadabra' if x not in 'abc'}"
   ]
  },
  {
   "cell_type": "code",
   "execution_count": 165,
   "id": "7b9ec6d6",
   "metadata": {},
   "outputs": [
    {
     "data": {
      "text/plain": [
       "{'d', 'r'}"
      ]
     },
     "execution_count": 165,
     "metadata": {},
     "output_type": "execute_result"
    }
   ],
   "source": [
    "a"
   ]
  },
  {
   "cell_type": "markdown",
   "id": "81bce955",
   "metadata": {},
   "source": [
    "# Dictionaries"
   ]
  },
  {
   "cell_type": "code",
   "execution_count": 195,
   "id": "4b304c43",
   "metadata": {},
   "outputs": [],
   "source": [
    "tel = {'jack': 4098, 'sape': 4139}"
   ]
  },
  {
   "cell_type": "code",
   "execution_count": 196,
   "id": "e6707d90",
   "metadata": {},
   "outputs": [],
   "source": [
    "tel['jill'] = 4127"
   ]
  },
  {
   "cell_type": "code",
   "execution_count": 197,
   "id": "b8b8b208",
   "metadata": {},
   "outputs": [
    {
     "data": {
      "text/plain": [
       "{'jack': 4098, 'sape': 4139, 'jill': 4127}"
      ]
     },
     "execution_count": 197,
     "metadata": {},
     "output_type": "execute_result"
    }
   ],
   "source": [
    "tel"
   ]
  },
  {
   "cell_type": "code",
   "execution_count": 198,
   "id": "35750b71",
   "metadata": {},
   "outputs": [
    {
     "data": {
      "text/plain": [
       "4139"
      ]
     },
     "execution_count": 198,
     "metadata": {},
     "output_type": "execute_result"
    }
   ],
   "source": [
    "tel['sape']"
   ]
  },
  {
   "cell_type": "code",
   "execution_count": 170,
   "id": "b681c7c4",
   "metadata": {},
   "outputs": [],
   "source": [
    "del tel['sape']"
   ]
  },
  {
   "cell_type": "code",
   "execution_count": 200,
   "id": "6ee00410",
   "metadata": {},
   "outputs": [
    {
     "data": {
      "text/plain": [
       "True"
      ]
     },
     "execution_count": 200,
     "metadata": {},
     "output_type": "execute_result"
    }
   ],
   "source": [
    "'jill' in tel"
   ]
  },
  {
   "cell_type": "code",
   "execution_count": 174,
   "id": "b954888e",
   "metadata": {},
   "outputs": [],
   "source": [
    "my_dict = {x: x**2 for x in (2, 4, 6)}"
   ]
  },
  {
   "cell_type": "code",
   "execution_count": 177,
   "id": "f193fc59",
   "metadata": {},
   "outputs": [
    {
     "data": {
      "text/plain": [
       "{2: 4, 4: 16, 6: 36}"
      ]
     },
     "execution_count": 177,
     "metadata": {},
     "output_type": "execute_result"
    }
   ],
   "source": [
    "my_dict"
   ]
  },
  {
   "cell_type": "markdown",
   "id": "347a8d1e",
   "metadata": {},
   "source": [
    "# Looping Techniques"
   ]
  },
  {
   "cell_type": "code",
   "execution_count": 206,
   "id": "694dee6c",
   "metadata": {},
   "outputs": [
    {
     "name": "stdout",
     "output_type": "stream",
     "text": [
      "What is your name? It is Lance\n",
      "What is your quest? It is the holy grail\n",
      "What is your favorite color? It is blue\n"
     ]
    }
   ],
   "source": [
    "questions = ['name', 'quest', 'favorite color']\n",
    "answers = ['Lance', 'the holy grail', 'blue']\n",
    "for q, a in zip(questions, answers):\n",
    "    print('What is your %s? It is %s' % (q, a))"
   ]
  },
  {
   "cell_type": "code",
   "execution_count": 207,
   "id": "80dd7bc4",
   "metadata": {},
   "outputs": [
    {
     "name": "stdout",
     "output_type": "stream",
     "text": [
      "gallahad the pure\n",
      "robin the brave\n"
     ]
    }
   ],
   "source": [
    "knights = {'gallahad': 'the pure', 'robin': 'the brave'}\n",
    "for k, v in knights.items():\n",
    "    print(k, v)"
   ]
  },
  {
   "cell_type": "code",
   "execution_count": null,
   "id": "6763e203",
   "metadata": {},
   "outputs": [],
   "source": []
  },
  {
   "cell_type": "markdown",
   "id": "1636741e",
   "metadata": {},
   "source": [
    "# File Input"
   ]
  },
  {
   "cell_type": "code",
   "execution_count": 180,
   "id": "89059987",
   "metadata": {},
   "outputs": [
    {
     "name": "stdout",
     "output_type": "stream",
     "text": [
      "This is first file created\n",
      "by Mir\n",
      "for class 3546- security analytics!\n",
      "\n"
     ]
    }
   ],
   "source": [
    "with open('file.txt', 'r') as fp:\n",
    "    s = fp.read()\n",
    "    print(s)"
   ]
  },
  {
   "cell_type": "code",
   "execution_count": 185,
   "id": "a645a1eb",
   "metadata": {},
   "outputs": [
    {
     "name": "stdout",
     "output_type": "stream",
     "text": [
      "This is first file created\n",
      "by Mir\n",
      "\n"
     ]
    }
   ],
   "source": [
    "with open('file.txt', 'r') as fp:\n",
    "    print(fp.readline(), end=\"\")\n",
    "    print(fp.readline())"
   ]
  },
  {
   "cell_type": "code",
   "execution_count": 186,
   "id": "e5128c4d",
   "metadata": {},
   "outputs": [
    {
     "name": "stdout",
     "output_type": "stream",
     "text": [
      "This is first file created\n",
      "by Mir\n",
      "for class 3546- security analytics!\n"
     ]
    }
   ],
   "source": [
    "with open('file.txt', 'r') as fp:\n",
    "    for line in fp:\n",
    "        print(line, end='')"
   ]
  },
  {
   "cell_type": "markdown",
   "id": "5eb47a33",
   "metadata": {},
   "source": [
    "# Reading a CSV file"
   ]
  },
  {
   "cell_type": "code",
   "execution_count": 22,
   "id": "1261044c",
   "metadata": {},
   "outputs": [
    {
     "name": "stdout",
     "output_type": "stream",
     "text": [
      "['GlobalRank', 'TldRank', 'Domain', 'TLD', 'RefSubNets', 'RefIPs', 'IDN_Domain', 'IDN_TLD', 'PrevGlobalRank', 'PrevTldRank', 'PrevRefSubNets', 'PrevRefIPs']\n",
      "['1', '1', 'google.com', 'com', '493225', '2423262', 'google.com', 'com', '1', '1', '492684', '2421905']\n",
      "['2', '2', 'facebook.com', 'com', '491991', '2576708', 'facebook.com', 'com', '2', '2', '491669', '2574466']\n",
      "['3', '3', 'youtube.com', 'com', '443833', '2089772', 'youtube.com', 'com', '3', '3', '443324', '2088013']\n",
      "['4', '4', 'twitter.com', 'com', '437495', '2073037', 'twitter.com', 'com', '4', '4', '437045', '2071411']\n",
      "['5', '5', 'instagram.com', 'com', '375641', '1733941', 'instagram.com', 'com', '5', '5', '375337', '1733107']\n",
      "['6', '6', 'linkedin.com', 'com', '352590', '1455263', 'linkedin.com', 'com', '6', '6', '352069', '1453821']\n",
      "['7', '7', 'apple.com', 'com', '284057', '916081', 'apple.com', 'com', '7', '7', '283586', '915884']\n",
      "['8', '8', 'microsoft.com', 'com', '281262', '835502', 'microsoft.com', 'com', '8', '8', '280613', '834323']\n",
      "['9', '1', 'wikipedia.org', 'org', '271363', '970017', 'wikipedia.org', 'org', '9', '1', '271244', '969824']\n"
     ]
    }
   ],
   "source": [
    "import csv\n",
    "with open(\"majestic_million.csv\", 'r') as csvfile:\n",
    "    csvreader = csv.reader(csvfile)\n",
    "    count=1\n",
    "    for row in csvreader:\n",
    "        print(row)\n",
    "        if count==10:\n",
    "            break\n",
    "        count=count+1\n"
   ]
  },
  {
   "cell_type": "code",
   "execution_count": 5,
   "id": "2e719f10",
   "metadata": {},
   "outputs": [],
   "source": [
    "#!jupyter notebook --NotebookApp.iopub_data_rate_limit=1.0e10  [Command to increase rate limit of output for large data]"
   ]
  },
  {
   "cell_type": "code",
   "execution_count": 6,
   "id": "595b757f",
   "metadata": {},
   "outputs": [
    {
     "data": {
      "text/plain": [
       "(1000000, 12)"
      ]
     },
     "execution_count": 6,
     "metadata": {},
     "output_type": "execute_result"
    }
   ],
   "source": [
    "#Alternative Approach for reading CSV file\n",
    "\n",
    "import pandas as pd  \n",
    "data = pd.read_csv(\"majestic_million.csv\")   # read_csv is an object under pandas package\n",
    "data.shape"
   ]
  },
  {
   "cell_type": "code",
   "execution_count": 7,
   "id": "f2df40de",
   "metadata": {},
   "outputs": [
    {
     "data": {
      "text/html": [
       "<div>\n",
       "<style scoped>\n",
       "    .dataframe tbody tr th:only-of-type {\n",
       "        vertical-align: middle;\n",
       "    }\n",
       "\n",
       "    .dataframe tbody tr th {\n",
       "        vertical-align: top;\n",
       "    }\n",
       "\n",
       "    .dataframe thead th {\n",
       "        text-align: right;\n",
       "    }\n",
       "</style>\n",
       "<table border=\"1\" class=\"dataframe\">\n",
       "  <thead>\n",
       "    <tr style=\"text-align: right;\">\n",
       "      <th></th>\n",
       "      <th>GlobalRank</th>\n",
       "      <th>TldRank</th>\n",
       "      <th>Domain</th>\n",
       "      <th>TLD</th>\n",
       "      <th>RefSubNets</th>\n",
       "      <th>RefIPs</th>\n",
       "      <th>IDN_Domain</th>\n",
       "      <th>IDN_TLD</th>\n",
       "      <th>PrevGlobalRank</th>\n",
       "      <th>PrevTldRank</th>\n",
       "      <th>PrevRefSubNets</th>\n",
       "      <th>PrevRefIPs</th>\n",
       "    </tr>\n",
       "  </thead>\n",
       "  <tbody>\n",
       "    <tr>\n",
       "      <th>0</th>\n",
       "      <td>1</td>\n",
       "      <td>1</td>\n",
       "      <td>google.com</td>\n",
       "      <td>com</td>\n",
       "      <td>493225</td>\n",
       "      <td>2423262</td>\n",
       "      <td>google.com</td>\n",
       "      <td>com</td>\n",
       "      <td>1</td>\n",
       "      <td>1</td>\n",
       "      <td>492684</td>\n",
       "      <td>2421905</td>\n",
       "    </tr>\n",
       "    <tr>\n",
       "      <th>1</th>\n",
       "      <td>2</td>\n",
       "      <td>2</td>\n",
       "      <td>facebook.com</td>\n",
       "      <td>com</td>\n",
       "      <td>491991</td>\n",
       "      <td>2576708</td>\n",
       "      <td>facebook.com</td>\n",
       "      <td>com</td>\n",
       "      <td>2</td>\n",
       "      <td>2</td>\n",
       "      <td>491669</td>\n",
       "      <td>2574466</td>\n",
       "    </tr>\n",
       "    <tr>\n",
       "      <th>2</th>\n",
       "      <td>3</td>\n",
       "      <td>3</td>\n",
       "      <td>youtube.com</td>\n",
       "      <td>com</td>\n",
       "      <td>443833</td>\n",
       "      <td>2089772</td>\n",
       "      <td>youtube.com</td>\n",
       "      <td>com</td>\n",
       "      <td>3</td>\n",
       "      <td>3</td>\n",
       "      <td>443324</td>\n",
       "      <td>2088013</td>\n",
       "    </tr>\n",
       "    <tr>\n",
       "      <th>3</th>\n",
       "      <td>4</td>\n",
       "      <td>4</td>\n",
       "      <td>twitter.com</td>\n",
       "      <td>com</td>\n",
       "      <td>437495</td>\n",
       "      <td>2073037</td>\n",
       "      <td>twitter.com</td>\n",
       "      <td>com</td>\n",
       "      <td>4</td>\n",
       "      <td>4</td>\n",
       "      <td>437045</td>\n",
       "      <td>2071411</td>\n",
       "    </tr>\n",
       "    <tr>\n",
       "      <th>4</th>\n",
       "      <td>5</td>\n",
       "      <td>5</td>\n",
       "      <td>instagram.com</td>\n",
       "      <td>com</td>\n",
       "      <td>375641</td>\n",
       "      <td>1733941</td>\n",
       "      <td>instagram.com</td>\n",
       "      <td>com</td>\n",
       "      <td>5</td>\n",
       "      <td>5</td>\n",
       "      <td>375337</td>\n",
       "      <td>1733107</td>\n",
       "    </tr>\n",
       "    <tr>\n",
       "      <th>5</th>\n",
       "      <td>6</td>\n",
       "      <td>6</td>\n",
       "      <td>linkedin.com</td>\n",
       "      <td>com</td>\n",
       "      <td>352590</td>\n",
       "      <td>1455263</td>\n",
       "      <td>linkedin.com</td>\n",
       "      <td>com</td>\n",
       "      <td>6</td>\n",
       "      <td>6</td>\n",
       "      <td>352069</td>\n",
       "      <td>1453821</td>\n",
       "    </tr>\n",
       "    <tr>\n",
       "      <th>6</th>\n",
       "      <td>7</td>\n",
       "      <td>7</td>\n",
       "      <td>apple.com</td>\n",
       "      <td>com</td>\n",
       "      <td>284057</td>\n",
       "      <td>916081</td>\n",
       "      <td>apple.com</td>\n",
       "      <td>com</td>\n",
       "      <td>7</td>\n",
       "      <td>7</td>\n",
       "      <td>283586</td>\n",
       "      <td>915884</td>\n",
       "    </tr>\n",
       "    <tr>\n",
       "      <th>7</th>\n",
       "      <td>8</td>\n",
       "      <td>8</td>\n",
       "      <td>microsoft.com</td>\n",
       "      <td>com</td>\n",
       "      <td>281262</td>\n",
       "      <td>835502</td>\n",
       "      <td>microsoft.com</td>\n",
       "      <td>com</td>\n",
       "      <td>8</td>\n",
       "      <td>8</td>\n",
       "      <td>280613</td>\n",
       "      <td>834323</td>\n",
       "    </tr>\n",
       "    <tr>\n",
       "      <th>8</th>\n",
       "      <td>9</td>\n",
       "      <td>1</td>\n",
       "      <td>wikipedia.org</td>\n",
       "      <td>org</td>\n",
       "      <td>271363</td>\n",
       "      <td>970017</td>\n",
       "      <td>wikipedia.org</td>\n",
       "      <td>org</td>\n",
       "      <td>9</td>\n",
       "      <td>1</td>\n",
       "      <td>271244</td>\n",
       "      <td>969824</td>\n",
       "    </tr>\n",
       "    <tr>\n",
       "      <th>9</th>\n",
       "      <td>10</td>\n",
       "      <td>9</td>\n",
       "      <td>googletagmanager.com</td>\n",
       "      <td>com</td>\n",
       "      <td>260981</td>\n",
       "      <td>893057</td>\n",
       "      <td>googletagmanager.com</td>\n",
       "      <td>com</td>\n",
       "      <td>10</td>\n",
       "      <td>9</td>\n",
       "      <td>260702</td>\n",
       "      <td>892727</td>\n",
       "    </tr>\n",
       "  </tbody>\n",
       "</table>\n",
       "</div>"
      ],
      "text/plain": [
       "   GlobalRank  TldRank                Domain  TLD  RefSubNets   RefIPs  \\\n",
       "0           1        1            google.com  com      493225  2423262   \n",
       "1           2        2          facebook.com  com      491991  2576708   \n",
       "2           3        3           youtube.com  com      443833  2089772   \n",
       "3           4        4           twitter.com  com      437495  2073037   \n",
       "4           5        5         instagram.com  com      375641  1733941   \n",
       "5           6        6          linkedin.com  com      352590  1455263   \n",
       "6           7        7             apple.com  com      284057   916081   \n",
       "7           8        8         microsoft.com  com      281262   835502   \n",
       "8           9        1         wikipedia.org  org      271363   970017   \n",
       "9          10        9  googletagmanager.com  com      260981   893057   \n",
       "\n",
       "             IDN_Domain IDN_TLD  PrevGlobalRank  PrevTldRank  PrevRefSubNets  \\\n",
       "0            google.com     com               1            1          492684   \n",
       "1          facebook.com     com               2            2          491669   \n",
       "2           youtube.com     com               3            3          443324   \n",
       "3           twitter.com     com               4            4          437045   \n",
       "4         instagram.com     com               5            5          375337   \n",
       "5          linkedin.com     com               6            6          352069   \n",
       "6             apple.com     com               7            7          283586   \n",
       "7         microsoft.com     com               8            8          280613   \n",
       "8         wikipedia.org     org               9            1          271244   \n",
       "9  googletagmanager.com     com              10            9          260702   \n",
       "\n",
       "   PrevRefIPs  \n",
       "0     2421905  \n",
       "1     2574466  \n",
       "2     2088013  \n",
       "3     2071411  \n",
       "4     1733107  \n",
       "5     1453821  \n",
       "6      915884  \n",
       "7      834323  \n",
       "8      969824  \n",
       "9      892727  "
      ]
     },
     "execution_count": 7,
     "metadata": {},
     "output_type": "execute_result"
    }
   ],
   "source": [
    "data.head(10)"
   ]
  },
  {
   "cell_type": "code",
   "execution_count": 8,
   "id": "f6a58d40",
   "metadata": {},
   "outputs": [
    {
     "data": {
      "text/html": [
       "<div>\n",
       "<style scoped>\n",
       "    .dataframe tbody tr th:only-of-type {\n",
       "        vertical-align: middle;\n",
       "    }\n",
       "\n",
       "    .dataframe tbody tr th {\n",
       "        vertical-align: top;\n",
       "    }\n",
       "\n",
       "    .dataframe thead th {\n",
       "        text-align: right;\n",
       "    }\n",
       "</style>\n",
       "<table border=\"1\" class=\"dataframe\">\n",
       "  <thead>\n",
       "    <tr style=\"text-align: right;\">\n",
       "      <th></th>\n",
       "      <th>GlobalRank</th>\n",
       "      <th>TldRank</th>\n",
       "      <th>Domain</th>\n",
       "      <th>TLD</th>\n",
       "      <th>RefSubNets</th>\n",
       "      <th>RefIPs</th>\n",
       "      <th>IDN_Domain</th>\n",
       "      <th>IDN_TLD</th>\n",
       "      <th>PrevGlobalRank</th>\n",
       "      <th>PrevTldRank</th>\n",
       "      <th>PrevRefSubNets</th>\n",
       "      <th>PrevRefIPs</th>\n",
       "    </tr>\n",
       "  </thead>\n",
       "  <tbody>\n",
       "    <tr>\n",
       "      <th>999995</th>\n",
       "      <td>999996</td>\n",
       "      <td>41</td>\n",
       "      <td>ufabet.school</td>\n",
       "      <td>school</td>\n",
       "      <td>264</td>\n",
       "      <td>429</td>\n",
       "      <td>ufabet.school</td>\n",
       "      <td>school</td>\n",
       "      <td>-1</td>\n",
       "      <td>-1</td>\n",
       "      <td>-1</td>\n",
       "      <td>-1</td>\n",
       "    </tr>\n",
       "    <tr>\n",
       "      <th>999996</th>\n",
       "      <td>999997</td>\n",
       "      <td>495695</td>\n",
       "      <td>blackpatrol.com</td>\n",
       "      <td>com</td>\n",
       "      <td>264</td>\n",
       "      <td>426</td>\n",
       "      <td>blackpatrol.com</td>\n",
       "      <td>com</td>\n",
       "      <td>-1</td>\n",
       "      <td>-1</td>\n",
       "      <td>-1</td>\n",
       "      <td>-1</td>\n",
       "    </tr>\n",
       "    <tr>\n",
       "      <th>999997</th>\n",
       "      <td>999998</td>\n",
       "      <td>495696</td>\n",
       "      <td>capitalskinspa.com</td>\n",
       "      <td>com</td>\n",
       "      <td>264</td>\n",
       "      <td>422</td>\n",
       "      <td>capitalskinspa.com</td>\n",
       "      <td>com</td>\n",
       "      <td>983975</td>\n",
       "      <td>487789</td>\n",
       "      <td>267</td>\n",
       "      <td>414</td>\n",
       "    </tr>\n",
       "    <tr>\n",
       "      <th>999998</th>\n",
       "      <td>999999</td>\n",
       "      <td>8826</td>\n",
       "      <td>grownomics.com.au</td>\n",
       "      <td>au</td>\n",
       "      <td>264</td>\n",
       "      <td>421</td>\n",
       "      <td>grownomics.com.au</td>\n",
       "      <td>au</td>\n",
       "      <td>956855</td>\n",
       "      <td>8428</td>\n",
       "      <td>273</td>\n",
       "      <td>420</td>\n",
       "    </tr>\n",
       "    <tr>\n",
       "      <th>999999</th>\n",
       "      <td>1000000</td>\n",
       "      <td>84078</td>\n",
       "      <td>chainlinkinfo.org</td>\n",
       "      <td>org</td>\n",
       "      <td>264</td>\n",
       "      <td>420</td>\n",
       "      <td>chainlinkinfo.org</td>\n",
       "      <td>org</td>\n",
       "      <td>961356</td>\n",
       "      <td>81001</td>\n",
       "      <td>272</td>\n",
       "      <td>409</td>\n",
       "    </tr>\n",
       "  </tbody>\n",
       "</table>\n",
       "</div>"
      ],
      "text/plain": [
       "        GlobalRank  TldRank              Domain     TLD  RefSubNets  RefIPs  \\\n",
       "999995      999996       41       ufabet.school  school         264     429   \n",
       "999996      999997   495695     blackpatrol.com     com         264     426   \n",
       "999997      999998   495696  capitalskinspa.com     com         264     422   \n",
       "999998      999999     8826   grownomics.com.au      au         264     421   \n",
       "999999     1000000    84078   chainlinkinfo.org     org         264     420   \n",
       "\n",
       "                IDN_Domain IDN_TLD  PrevGlobalRank  PrevTldRank  \\\n",
       "999995       ufabet.school  school              -1           -1   \n",
       "999996     blackpatrol.com     com              -1           -1   \n",
       "999997  capitalskinspa.com     com          983975       487789   \n",
       "999998   grownomics.com.au      au          956855         8428   \n",
       "999999   chainlinkinfo.org     org          961356        81001   \n",
       "\n",
       "        PrevRefSubNets  PrevRefIPs  \n",
       "999995              -1          -1  \n",
       "999996              -1          -1  \n",
       "999997             267         414  \n",
       "999998             273         420  \n",
       "999999             272         409  "
      ]
     },
     "execution_count": 8,
     "metadata": {},
     "output_type": "execute_result"
    }
   ],
   "source": [
    "data.tail(5)"
   ]
  },
  {
   "cell_type": "markdown",
   "id": "0169adc1",
   "metadata": {},
   "source": [
    "# Pandas Dataframe- intro"
   ]
  },
  {
   "cell_type": "code",
   "execution_count": 52,
   "id": "59a0082d",
   "metadata": {},
   "outputs": [
    {
     "data": {
      "text/html": [
       "<div>\n",
       "<style scoped>\n",
       "    .dataframe tbody tr th:only-of-type {\n",
       "        vertical-align: middle;\n",
       "    }\n",
       "\n",
       "    .dataframe tbody tr th {\n",
       "        vertical-align: top;\n",
       "    }\n",
       "\n",
       "    .dataframe thead th {\n",
       "        text-align: right;\n",
       "    }\n",
       "</style>\n",
       "<table border=\"1\" class=\"dataframe\">\n",
       "  <thead>\n",
       "    <tr style=\"text-align: right;\">\n",
       "      <th></th>\n",
       "      <th>GlobalRank</th>\n",
       "      <th>TldRank</th>\n",
       "      <th>RefSubNets</th>\n",
       "      <th>RefIPs</th>\n",
       "      <th>PrevGlobalRank</th>\n",
       "      <th>PrevTldRank</th>\n",
       "      <th>PrevRefSubNets</th>\n",
       "      <th>PrevRefIPs</th>\n",
       "    </tr>\n",
       "  </thead>\n",
       "  <tbody>\n",
       "    <tr>\n",
       "      <th>count</th>\n",
       "      <td>1000000.000000</td>\n",
       "      <td>1000000.000000</td>\n",
       "      <td>1000000.000000</td>\n",
       "      <td>1.000000e+06</td>\n",
       "      <td>1000000.000000</td>\n",
       "      <td>1000000.000000</td>\n",
       "      <td>1000000.000000</td>\n",
       "      <td>1.000000e+06</td>\n",
       "    </tr>\n",
       "    <tr>\n",
       "      <th>mean</th>\n",
       "      <td>500000.500000</td>\n",
       "      <td>129462.030888</td>\n",
       "      <td>803.884558</td>\n",
       "      <td>1.120829e+03</td>\n",
       "      <td>491327.010511</td>\n",
       "      <td>127143.384029</td>\n",
       "      <td>802.453629</td>\n",
       "      <td>1.118006e+03</td>\n",
       "    </tr>\n",
       "    <tr>\n",
       "      <th>std</th>\n",
       "      <td>288675.278933</td>\n",
       "      <td>155218.765357</td>\n",
       "      <td>2392.955831</td>\n",
       "      <td>7.493621e+03</td>\n",
       "      <td>288907.492649</td>\n",
       "      <td>153673.660455</td>\n",
       "      <td>2393.915757</td>\n",
       "      <td>7.492405e+03</td>\n",
       "    </tr>\n",
       "    <tr>\n",
       "      <th>min</th>\n",
       "      <td>1.000000</td>\n",
       "      <td>1.000000</td>\n",
       "      <td>264.000000</td>\n",
       "      <td>2.650000e+02</td>\n",
       "      <td>-1.000000</td>\n",
       "      <td>-1.000000</td>\n",
       "      <td>-1.000000</td>\n",
       "      <td>-1.000000e+00</td>\n",
       "    </tr>\n",
       "    <tr>\n",
       "      <th>25%</th>\n",
       "      <td>250000.750000</td>\n",
       "      <td>4613.000000</td>\n",
       "      <td>330.000000</td>\n",
       "      <td>3.790000e+02</td>\n",
       "      <td>241071.750000</td>\n",
       "      <td>4275.000000</td>\n",
       "      <td>331.000000</td>\n",
       "      <td>3.790000e+02</td>\n",
       "    </tr>\n",
       "    <tr>\n",
       "      <th>50%</th>\n",
       "      <td>500000.500000</td>\n",
       "      <td>39887.500000</td>\n",
       "      <td>449.000000</td>\n",
       "      <td>5.340000e+02</td>\n",
       "      <td>491128.500000</td>\n",
       "      <td>37206.000000</td>\n",
       "      <td>448.000000</td>\n",
       "      <td>5.340000e+02</td>\n",
       "    </tr>\n",
       "    <tr>\n",
       "      <th>75%</th>\n",
       "      <td>750000.250000</td>\n",
       "      <td>245696.250000</td>\n",
       "      <td>734.000000</td>\n",
       "      <td>9.210000e+02</td>\n",
       "      <td>741268.250000</td>\n",
       "      <td>241159.250000</td>\n",
       "      <td>734.000000</td>\n",
       "      <td>9.200000e+02</td>\n",
       "    </tr>\n",
       "    <tr>\n",
       "      <th>max</th>\n",
       "      <td>1000000.000000</td>\n",
       "      <td>495696.000000</td>\n",
       "      <td>493225.000000</td>\n",
       "      <td>2.576708e+06</td>\n",
       "      <td>1000000.000000</td>\n",
       "      <td>495660.000000</td>\n",
       "      <td>492684.000000</td>\n",
       "      <td>2.574466e+06</td>\n",
       "    </tr>\n",
       "  </tbody>\n",
       "</table>\n",
       "</div>"
      ],
      "text/plain": [
       "           GlobalRank         TldRank      RefSubNets        RefIPs  \\\n",
       "count  1000000.000000  1000000.000000  1000000.000000  1.000000e+06   \n",
       "mean    500000.500000   129462.030888      803.884558  1.120829e+03   \n",
       "std     288675.278933   155218.765357     2392.955831  7.493621e+03   \n",
       "min          1.000000        1.000000      264.000000  2.650000e+02   \n",
       "25%     250000.750000     4613.000000      330.000000  3.790000e+02   \n",
       "50%     500000.500000    39887.500000      449.000000  5.340000e+02   \n",
       "75%     750000.250000   245696.250000      734.000000  9.210000e+02   \n",
       "max    1000000.000000   495696.000000   493225.000000  2.576708e+06   \n",
       "\n",
       "       PrevGlobalRank     PrevTldRank  PrevRefSubNets    PrevRefIPs  \n",
       "count  1000000.000000  1000000.000000  1000000.000000  1.000000e+06  \n",
       "mean    491327.010511   127143.384029      802.453629  1.118006e+03  \n",
       "std     288907.492649   153673.660455     2393.915757  7.492405e+03  \n",
       "min         -1.000000       -1.000000       -1.000000 -1.000000e+00  \n",
       "25%     241071.750000     4275.000000      331.000000  3.790000e+02  \n",
       "50%     491128.500000    37206.000000      448.000000  5.340000e+02  \n",
       "75%     741268.250000   241159.250000      734.000000  9.200000e+02  \n",
       "max    1000000.000000   495660.000000   492684.000000  2.574466e+06  "
      ]
     },
     "execution_count": 52,
     "metadata": {},
     "output_type": "execute_result"
    }
   ],
   "source": [
    "data.describe()"
   ]
  },
  {
   "cell_type": "code",
   "execution_count": 53,
   "id": "92873844",
   "metadata": {},
   "outputs": [
    {
     "name": "stdout",
     "output_type": "stream",
     "text": [
      "<class 'pandas.core.frame.DataFrame'>\n",
      "RangeIndex: 1000000 entries, 0 to 999999\n",
      "Data columns (total 12 columns):\n",
      " #   Column          Non-Null Count    Dtype \n",
      "---  ------          --------------    ----- \n",
      " 0   GlobalRank      1000000 non-null  int64 \n",
      " 1   TldRank         1000000 non-null  int64 \n",
      " 2   Domain          1000000 non-null  object\n",
      " 3   TLD             1000000 non-null  object\n",
      " 4   RefSubNets      1000000 non-null  int64 \n",
      " 5   RefIPs          1000000 non-null  int64 \n",
      " 6   IDN_Domain      1000000 non-null  object\n",
      " 7   IDN_TLD         1000000 non-null  object\n",
      " 8   PrevGlobalRank  1000000 non-null  int64 \n",
      " 9   PrevTldRank     1000000 non-null  int64 \n",
      " 10  PrevRefSubNets  1000000 non-null  int64 \n",
      " 11  PrevRefIPs      1000000 non-null  int64 \n",
      "dtypes: int64(8), object(4)\n",
      "memory usage: 91.6+ MB\n"
     ]
    }
   ],
   "source": [
    "data.info()"
   ]
  },
  {
   "cell_type": "code",
   "execution_count": 55,
   "id": "00fa7c24",
   "metadata": {},
   "outputs": [],
   "source": [
    "#How to catch a specific column from data? data.col or data['col']"
   ]
  },
  {
   "cell_type": "code",
   "execution_count": 57,
   "id": "fc07d65e",
   "metadata": {},
   "outputs": [
    {
     "data": {
      "text/plain": [
       "0            com\n",
       "1            com\n",
       "2            com\n",
       "3            com\n",
       "4            com\n",
       "           ...  \n",
       "999995    school\n",
       "999996       com\n",
       "999997       com\n",
       "999998        au\n",
       "999999       org\n",
       "Name: TLD, Length: 1000000, dtype: category\n",
       "Categories (838, object): ['abb', 'abbott', 'abc', 'able', ..., 'zara', 'zm', 'zone', 'zw']"
      ]
     },
     "execution_count": 57,
     "metadata": {},
     "output_type": "execute_result"
    }
   ],
   "source": [
    "# Convert string data points into categories\n",
    "data['TLD'].astype('category')"
   ]
  },
  {
   "cell_type": "code",
   "execution_count": 58,
   "id": "a86a1303",
   "metadata": {},
   "outputs": [],
   "source": [
    "# Does it update the dataframe? \n",
    "data['TLD'] = data['TLD'].astype('category') "
   ]
  },
  {
   "cell_type": "code",
   "execution_count": 59,
   "id": "1e35a5e6",
   "metadata": {},
   "outputs": [
    {
     "data": {
      "text/plain": [
       "count     1000000\n",
       "unique        838\n",
       "top           com\n",
       "freq       495696\n",
       "Name: TLD, dtype: object"
      ]
     },
     "execution_count": 59,
     "metadata": {},
     "output_type": "execute_result"
    }
   ],
   "source": [
    "data['TLD'].describe()"
   ]
  },
  {
   "cell_type": "markdown",
   "id": "cf5f6f0e",
   "metadata": {},
   "source": [
    "# Reading a JSON file"
   ]
  },
  {
   "cell_type": "code",
   "execution_count": 9,
   "id": "04fd86d3",
   "metadata": {},
   "outputs": [],
   "source": [
    "import json"
   ]
  },
  {
   "cell_type": "code",
   "execution_count": 12,
   "id": "1ada5f52",
   "metadata": {},
   "outputs": [
    {
     "data": {
      "text/plain": [
       "{'gallahad': 'the pure', 'robin': 'the brave'}"
      ]
     },
     "execution_count": 12,
     "metadata": {},
     "output_type": "execute_result"
    }
   ],
   "source": [
    "knights"
   ]
  },
  {
   "cell_type": "code",
   "execution_count": 14,
   "id": "28396383",
   "metadata": {},
   "outputs": [],
   "source": [
    "# creating a json file first\n",
    "with open('knights.json', 'w') as fp:\n",
    "    json.dump(knights, fp)"
   ]
  },
  {
   "cell_type": "code",
   "execution_count": 15,
   "id": "2b2aee05",
   "metadata": {},
   "outputs": [],
   "source": [
    "# reading the json file\n",
    "with open('knights.json', 'r') as fp:\n",
    "    knights2 = json.load(fp)"
   ]
  },
  {
   "cell_type": "code",
   "execution_count": 16,
   "id": "dead48a4",
   "metadata": {},
   "outputs": [
    {
     "data": {
      "text/plain": [
       "{'gallahad': 'the pure', 'robin': 'the brave'}"
      ]
     },
     "execution_count": 16,
     "metadata": {},
     "output_type": "execute_result"
    }
   ],
   "source": [
    "knights2"
   ]
  },
  {
   "cell_type": "markdown",
   "id": "dd7c8246",
   "metadata": {},
   "source": [
    "# Error and Exceptions"
   ]
  },
  {
   "cell_type": "code",
   "execution_count": 17,
   "id": "fd4983f2",
   "metadata": {},
   "outputs": [
    {
     "name": "stdout",
     "output_type": "stream",
     "text": [
      "Please enter an integer: asd\n",
      "Oops! That was not an integer. Try again...\n",
      "Please enter an integer: 1\n"
     ]
    }
   ],
   "source": [
    "while True:\n",
    "    try:\n",
    "        x = int(input('Please enter an integer: '))\n",
    "        break\n",
    "    except ValueError:\n",
    "        print('Oops! That was not an integer. Try again...')"
   ]
  },
  {
   "cell_type": "code",
   "execution_count": null,
   "id": "82fd34ec",
   "metadata": {},
   "outputs": [],
   "source": [
    "# File exception handling"
   ]
  },
  {
   "cell_type": "code",
   "execution_count": null,
   "id": "c4adf454",
   "metadata": {},
   "outputs": [],
   "source": [
    "import csv\n",
    "try:\n",
    "    with open(\"majestic_million.csv\", 'r') as csvfile:\n",
    "        csvreader = csv.reader(csvfile)\n",
    "        count=1\n",
    "        for row in csvreader:\n",
    "            print(row)\n",
    "            if count==10:\n",
    "                break\n",
    "            count=count+1\n",
    "except FileNotFoundError:\n",
    "    print(\"This file does't exist, type in the correct file name\")"
   ]
  },
  {
   "cell_type": "markdown",
   "id": "421f7414",
   "metadata": {},
   "source": [
    "# Python Libraries/ Packages"
   ]
  },
  {
   "cell_type": "code",
   "execution_count": 60,
   "id": "c72ba98d",
   "metadata": {},
   "outputs": [],
   "source": [
    "import pandas as pd # for data handling, processing, and manqagement\n",
    "import matplotlib.pyplot as plt # for visualization\n",
    "import numpy as np # for numeric calcs\n",
    "import scipy as sp # built from numpy for statistics\n",
    "import seaborn as sns # for visualization"
   ]
  },
  {
   "cell_type": "code",
   "execution_count": null,
   "id": "3687bac7",
   "metadata": {},
   "outputs": [],
   "source": []
  },
  {
   "cell_type": "markdown",
   "id": "1976a0cb",
   "metadata": {},
   "source": [
    "# Basic Visualization"
   ]
  },
  {
   "cell_type": "code",
   "execution_count": 265,
   "id": "c42fd4f7",
   "metadata": {},
   "outputs": [],
   "source": [
    "data_cut = data.head(50)"
   ]
  },
  {
   "cell_type": "code",
   "execution_count": 266,
   "id": "01735d92",
   "metadata": {},
   "outputs": [
    {
     "data": {
      "text/plain": [
       "<AxesSubplot:xlabel='GlobalRank', ylabel='Count'>"
      ]
     },
     "execution_count": 266,
     "metadata": {},
     "output_type": "execute_result"
    },
    {
     "data": {
      "image/png": "[encoded data removed]",
      "text/plain": [
       "<Figure size 640x480 with 1 Axes>"
      ]
     },
     "metadata": {},
     "output_type": "display_data"
    }
   ],
   "source": [
    "sns.histplot(x=data_cut['GlobalRank'], bins=10, kde=False, color='green')  # for histogram plot, x-axis input is provided\n"
   ]
  },
  {
   "cell_type": "code",
   "execution_count": 211,
   "id": "93e0e9fd",
   "metadata": {},
   "outputs": [],
   "source": []
  },
  {
   "cell_type": "code",
   "execution_count": 264,
   "id": "b68cebe4",
   "metadata": {},
   "outputs": [],
   "source": [
    "#tld_ranked_list"
   ]
  },
  {
   "cell_type": "code",
   "execution_count": 267,
   "id": "e8b63cad",
   "metadata": {},
   "outputs": [
    {
     "data": {
      "image/png": "[encoded data removed]",
      "text/plain": [
       "<Figure size 640x480 with 1 Axes>"
      ]
     },
     "metadata": {},
     "output_type": "display_data"
    }
   ],
   "source": [
    "# box plot usually for outlier detection\n",
    "sns.boxplot(x=data_cut['RefIPs']); "
   ]
  },
  {
   "cell_type": "code",
   "execution_count": 268,
   "id": "ef4b0311",
   "metadata": {
    "scrolled": true
   },
   "outputs": [
    {
     "data": {
      "text/plain": [
       "0     2423262\n",
       "1     2576708\n",
       "2     2089772\n",
       "3     2073037\n",
       "4     1733941\n",
       "5     1455263\n",
       "6      916081\n",
       "7      835502\n",
       "8      970017\n",
       "9      893057\n",
       "10    1094038\n",
       "11     793510\n",
       "12     727551\n",
       "13     870294\n",
       "14     614335\n",
       "15     535532\n",
       "16     727754\n",
       "17     708885\n",
       "18     651400\n",
       "19     707922\n",
       "20     573933\n",
       "21     511838\n",
       "22     541278\n",
       "23     577199\n",
       "24     542351\n",
       "25     518053\n",
       "26     562237\n",
       "27     420625\n",
       "28     453173\n",
       "29     380420\n",
       "30     446241\n",
       "31     421174\n",
       "32     515964\n",
       "33     387431\n",
       "34     449745\n",
       "35     444732\n",
       "36     380888\n",
       "37     451435\n",
       "38     355287\n",
       "39     383571\n",
       "40     767129\n",
       "41     444073\n",
       "42     329370\n",
       "43     394935\n",
       "44     325792\n",
       "45     272308\n",
       "46     226543\n",
       "47     257557\n",
       "48     286438\n",
       "49     327878\n",
       "Name: RefIPs, dtype: int64"
      ]
     },
     "execution_count": 268,
     "metadata": {},
     "output_type": "execute_result"
    }
   ],
   "source": [
    "data_cut['RefIPs']"
   ]
  },
  {
   "cell_type": "code",
   "execution_count": 269,
   "id": "2d74fb8b",
   "metadata": {},
   "outputs": [
    {
     "data": {
      "image/png": "[encoded data removed]",
      "text/plain": [
       "<Figure size 640x480 with 1 Axes>"
      ]
     },
     "metadata": {},
     "output_type": "display_data"
    }
   ],
   "source": []
  },
  {
   "cell_type": "markdown",
   "id": "624fb9fc",
   "metadata": {},
   "source": [
    "# Data Filtering"
   ]
  },
  {
   "cell_type": "code",
   "execution_count": 92,
   "id": "141caa88",
   "metadata": {},
   "outputs": [
    {
     "data": {
      "text/html": [
       "<div>\n",
       "<style scoped>\n",
       "    .dataframe tbody tr th:only-of-type {\n",
       "        vertical-align: middle;\n",
       "    }\n",
       "\n",
       "    .dataframe tbody tr th {\n",
       "        vertical-align: top;\n",
       "    }\n",
       "\n",
       "    .dataframe thead th {\n",
       "        text-align: right;\n",
       "    }\n",
       "</style>\n",
       "<table border=\"1\" class=\"dataframe\">\n",
       "  <thead>\n",
       "    <tr style=\"text-align: right;\">\n",
       "      <th></th>\n",
       "      <th>GlobalRank</th>\n",
       "      <th>TldRank</th>\n",
       "      <th>Domain</th>\n",
       "      <th>TLD</th>\n",
       "      <th>RefSubNets</th>\n",
       "      <th>RefIPs</th>\n",
       "      <th>IDN_Domain</th>\n",
       "      <th>IDN_TLD</th>\n",
       "      <th>PrevGlobalRank</th>\n",
       "      <th>PrevTldRank</th>\n",
       "      <th>PrevRefSubNets</th>\n",
       "      <th>PrevRefIPs</th>\n",
       "    </tr>\n",
       "  </thead>\n",
       "  <tbody>\n",
       "    <tr>\n",
       "      <th>0</th>\n",
       "      <td>1</td>\n",
       "      <td>1</td>\n",
       "      <td>google.com</td>\n",
       "      <td>com</td>\n",
       "      <td>493225</td>\n",
       "      <td>2423262</td>\n",
       "      <td>google.com</td>\n",
       "      <td>com</td>\n",
       "      <td>1</td>\n",
       "      <td>1</td>\n",
       "      <td>492684</td>\n",
       "      <td>2421905</td>\n",
       "    </tr>\n",
       "    <tr>\n",
       "      <th>1</th>\n",
       "      <td>2</td>\n",
       "      <td>2</td>\n",
       "      <td>facebook.com</td>\n",
       "      <td>com</td>\n",
       "      <td>491991</td>\n",
       "      <td>2576708</td>\n",
       "      <td>facebook.com</td>\n",
       "      <td>com</td>\n",
       "      <td>2</td>\n",
       "      <td>2</td>\n",
       "      <td>491669</td>\n",
       "      <td>2574466</td>\n",
       "    </tr>\n",
       "    <tr>\n",
       "      <th>2</th>\n",
       "      <td>3</td>\n",
       "      <td>3</td>\n",
       "      <td>youtube.com</td>\n",
       "      <td>com</td>\n",
       "      <td>443833</td>\n",
       "      <td>2089772</td>\n",
       "      <td>youtube.com</td>\n",
       "      <td>com</td>\n",
       "      <td>3</td>\n",
       "      <td>3</td>\n",
       "      <td>443324</td>\n",
       "      <td>2088013</td>\n",
       "    </tr>\n",
       "    <tr>\n",
       "      <th>3</th>\n",
       "      <td>4</td>\n",
       "      <td>4</td>\n",
       "      <td>twitter.com</td>\n",
       "      <td>com</td>\n",
       "      <td>437495</td>\n",
       "      <td>2073037</td>\n",
       "      <td>twitter.com</td>\n",
       "      <td>com</td>\n",
       "      <td>4</td>\n",
       "      <td>4</td>\n",
       "      <td>437045</td>\n",
       "      <td>2071411</td>\n",
       "    </tr>\n",
       "    <tr>\n",
       "      <th>4</th>\n",
       "      <td>5</td>\n",
       "      <td>5</td>\n",
       "      <td>instagram.com</td>\n",
       "      <td>com</td>\n",
       "      <td>375641</td>\n",
       "      <td>1733941</td>\n",
       "      <td>instagram.com</td>\n",
       "      <td>com</td>\n",
       "      <td>5</td>\n",
       "      <td>5</td>\n",
       "      <td>375337</td>\n",
       "      <td>1733107</td>\n",
       "    </tr>\n",
       "    <tr>\n",
       "      <th>...</th>\n",
       "      <td>...</td>\n",
       "      <td>...</td>\n",
       "      <td>...</td>\n",
       "      <td>...</td>\n",
       "      <td>...</td>\n",
       "      <td>...</td>\n",
       "      <td>...</td>\n",
       "      <td>...</td>\n",
       "      <td>...</td>\n",
       "      <td>...</td>\n",
       "      <td>...</td>\n",
       "      <td>...</td>\n",
       "    </tr>\n",
       "    <tr>\n",
       "      <th>999986</th>\n",
       "      <td>999987</td>\n",
       "      <td>495692</td>\n",
       "      <td>michellethornexxxposed.com</td>\n",
       "      <td>com</td>\n",
       "      <td>264</td>\n",
       "      <td>450</td>\n",
       "      <td>michellethornexxxposed.com</td>\n",
       "      <td>com</td>\n",
       "      <td>-1</td>\n",
       "      <td>-1</td>\n",
       "      <td>-1</td>\n",
       "      <td>-1</td>\n",
       "    </tr>\n",
       "    <tr>\n",
       "      <th>999991</th>\n",
       "      <td>999992</td>\n",
       "      <td>495693</td>\n",
       "      <td>flypaintvietnam.com</td>\n",
       "      <td>com</td>\n",
       "      <td>264</td>\n",
       "      <td>434</td>\n",
       "      <td>flypaintvietnam.com</td>\n",
       "      <td>com</td>\n",
       "      <td>988655</td>\n",
       "      <td>490073</td>\n",
       "      <td>266</td>\n",
       "      <td>434</td>\n",
       "    </tr>\n",
       "    <tr>\n",
       "      <th>999992</th>\n",
       "      <td>999993</td>\n",
       "      <td>495694</td>\n",
       "      <td>rightsmaps.com</td>\n",
       "      <td>com</td>\n",
       "      <td>264</td>\n",
       "      <td>433</td>\n",
       "      <td>rightsmaps.com</td>\n",
       "      <td>com</td>\n",
       "      <td>-1</td>\n",
       "      <td>-1</td>\n",
       "      <td>-1</td>\n",
       "      <td>-1</td>\n",
       "    </tr>\n",
       "    <tr>\n",
       "      <th>999996</th>\n",
       "      <td>999997</td>\n",
       "      <td>495695</td>\n",
       "      <td>blackpatrol.com</td>\n",
       "      <td>com</td>\n",
       "      <td>264</td>\n",
       "      <td>426</td>\n",
       "      <td>blackpatrol.com</td>\n",
       "      <td>com</td>\n",
       "      <td>-1</td>\n",
       "      <td>-1</td>\n",
       "      <td>-1</td>\n",
       "      <td>-1</td>\n",
       "    </tr>\n",
       "    <tr>\n",
       "      <th>999997</th>\n",
       "      <td>999998</td>\n",
       "      <td>495696</td>\n",
       "      <td>capitalskinspa.com</td>\n",
       "      <td>com</td>\n",
       "      <td>264</td>\n",
       "      <td>422</td>\n",
       "      <td>capitalskinspa.com</td>\n",
       "      <td>com</td>\n",
       "      <td>983975</td>\n",
       "      <td>487789</td>\n",
       "      <td>267</td>\n",
       "      <td>414</td>\n",
       "    </tr>\n",
       "  </tbody>\n",
       "</table>\n",
       "<p>495696 rows × 12 columns</p>\n",
       "</div>"
      ],
      "text/plain": [
       "        GlobalRank  TldRank                      Domain  TLD  RefSubNets  \\\n",
       "0                1        1                  google.com  com      493225   \n",
       "1                2        2                facebook.com  com      491991   \n",
       "2                3        3                 youtube.com  com      443833   \n",
       "3                4        4                 twitter.com  com      437495   \n",
       "4                5        5               instagram.com  com      375641   \n",
       "...            ...      ...                         ...  ...         ...   \n",
       "999986      999987   495692  michellethornexxxposed.com  com         264   \n",
       "999991      999992   495693         flypaintvietnam.com  com         264   \n",
       "999992      999993   495694              rightsmaps.com  com         264   \n",
       "999996      999997   495695             blackpatrol.com  com         264   \n",
       "999997      999998   495696          capitalskinspa.com  com         264   \n",
       "\n",
       "         RefIPs                  IDN_Domain IDN_TLD  PrevGlobalRank  \\\n",
       "0       2423262                  google.com     com               1   \n",
       "1       2576708                facebook.com     com               2   \n",
       "2       2089772                 youtube.com     com               3   \n",
       "3       2073037                 twitter.com     com               4   \n",
       "4       1733941               instagram.com     com               5   \n",
       "...         ...                         ...     ...             ...   \n",
       "999986      450  michellethornexxxposed.com     com              -1   \n",
       "999991      434         flypaintvietnam.com     com          988655   \n",
       "999992      433              rightsmaps.com     com              -1   \n",
       "999996      426             blackpatrol.com     com              -1   \n",
       "999997      422          capitalskinspa.com     com          983975   \n",
       "\n",
       "        PrevTldRank  PrevRefSubNets  PrevRefIPs  \n",
       "0                 1          492684     2421905  \n",
       "1                 2          491669     2574466  \n",
       "2                 3          443324     2088013  \n",
       "3                 4          437045     2071411  \n",
       "4                 5          375337     1733107  \n",
       "...             ...             ...         ...  \n",
       "999986           -1              -1          -1  \n",
       "999991       490073             266         434  \n",
       "999992           -1              -1          -1  \n",
       "999996           -1              -1          -1  \n",
       "999997       487789             267         414  \n",
       "\n",
       "[495696 rows x 12 columns]"
      ]
     },
     "execution_count": 92,
     "metadata": {},
     "output_type": "execute_result"
    }
   ],
   "source": [
    "# What if you only want the rows with .com TLD? SELECT * Where TLD='com'\n",
    "data[data['TLD'] == \"com\"]"
   ]
  },
  {
   "cell_type": "code",
   "execution_count": 93,
   "id": "eb00f0b8",
   "metadata": {},
   "outputs": [],
   "source": [
    "data_tldcom = data[data['TLD'] == \"com\"]"
   ]
  },
  {
   "cell_type": "code",
   "execution_count": 95,
   "id": "ed08c96a",
   "metadata": {},
   "outputs": [
    {
     "data": {
      "text/html": [
       "<div>\n",
       "<style scoped>\n",
       "    .dataframe tbody tr th:only-of-type {\n",
       "        vertical-align: middle;\n",
       "    }\n",
       "\n",
       "    .dataframe tbody tr th {\n",
       "        vertical-align: top;\n",
       "    }\n",
       "\n",
       "    .dataframe thead th {\n",
       "        text-align: right;\n",
       "    }\n",
       "</style>\n",
       "<table border=\"1\" class=\"dataframe\">\n",
       "  <thead>\n",
       "    <tr style=\"text-align: right;\">\n",
       "      <th></th>\n",
       "      <th>GlobalRank</th>\n",
       "      <th>TldRank</th>\n",
       "      <th>Domain</th>\n",
       "      <th>TLD</th>\n",
       "      <th>RefSubNets</th>\n",
       "      <th>RefIPs</th>\n",
       "      <th>IDN_Domain</th>\n",
       "      <th>IDN_TLD</th>\n",
       "      <th>PrevGlobalRank</th>\n",
       "      <th>PrevTldRank</th>\n",
       "      <th>PrevRefSubNets</th>\n",
       "      <th>PrevRefIPs</th>\n",
       "    </tr>\n",
       "  </thead>\n",
       "  <tbody>\n",
       "    <tr>\n",
       "      <th>0</th>\n",
       "      <td>1</td>\n",
       "      <td>1</td>\n",
       "      <td>google.com</td>\n",
       "      <td>com</td>\n",
       "      <td>493225</td>\n",
       "      <td>2423262</td>\n",
       "      <td>google.com</td>\n",
       "      <td>com</td>\n",
       "      <td>1</td>\n",
       "      <td>1</td>\n",
       "      <td>492684</td>\n",
       "      <td>2421905</td>\n",
       "    </tr>\n",
       "    <tr>\n",
       "      <th>1</th>\n",
       "      <td>2</td>\n",
       "      <td>2</td>\n",
       "      <td>facebook.com</td>\n",
       "      <td>com</td>\n",
       "      <td>491991</td>\n",
       "      <td>2576708</td>\n",
       "      <td>facebook.com</td>\n",
       "      <td>com</td>\n",
       "      <td>2</td>\n",
       "      <td>2</td>\n",
       "      <td>491669</td>\n",
       "      <td>2574466</td>\n",
       "    </tr>\n",
       "    <tr>\n",
       "      <th>2</th>\n",
       "      <td>3</td>\n",
       "      <td>3</td>\n",
       "      <td>youtube.com</td>\n",
       "      <td>com</td>\n",
       "      <td>443833</td>\n",
       "      <td>2089772</td>\n",
       "      <td>youtube.com</td>\n",
       "      <td>com</td>\n",
       "      <td>3</td>\n",
       "      <td>3</td>\n",
       "      <td>443324</td>\n",
       "      <td>2088013</td>\n",
       "    </tr>\n",
       "    <tr>\n",
       "      <th>3</th>\n",
       "      <td>4</td>\n",
       "      <td>4</td>\n",
       "      <td>twitter.com</td>\n",
       "      <td>com</td>\n",
       "      <td>437495</td>\n",
       "      <td>2073037</td>\n",
       "      <td>twitter.com</td>\n",
       "      <td>com</td>\n",
       "      <td>4</td>\n",
       "      <td>4</td>\n",
       "      <td>437045</td>\n",
       "      <td>2071411</td>\n",
       "    </tr>\n",
       "    <tr>\n",
       "      <th>4</th>\n",
       "      <td>5</td>\n",
       "      <td>5</td>\n",
       "      <td>instagram.com</td>\n",
       "      <td>com</td>\n",
       "      <td>375641</td>\n",
       "      <td>1733941</td>\n",
       "      <td>instagram.com</td>\n",
       "      <td>com</td>\n",
       "      <td>5</td>\n",
       "      <td>5</td>\n",
       "      <td>375337</td>\n",
       "      <td>1733107</td>\n",
       "    </tr>\n",
       "    <tr>\n",
       "      <th>...</th>\n",
       "      <td>...</td>\n",
       "      <td>...</td>\n",
       "      <td>...</td>\n",
       "      <td>...</td>\n",
       "      <td>...</td>\n",
       "      <td>...</td>\n",
       "      <td>...</td>\n",
       "      <td>...</td>\n",
       "      <td>...</td>\n",
       "      <td>...</td>\n",
       "      <td>...</td>\n",
       "      <td>...</td>\n",
       "    </tr>\n",
       "    <tr>\n",
       "      <th>94</th>\n",
       "      <td>95</td>\n",
       "      <td>65</td>\n",
       "      <td>oracle.com</td>\n",
       "      <td>com</td>\n",
       "      <td>85737</td>\n",
       "      <td>161047</td>\n",
       "      <td>oracle.com</td>\n",
       "      <td>com</td>\n",
       "      <td>95</td>\n",
       "      <td>65</td>\n",
       "      <td>86117</td>\n",
       "      <td>162202</td>\n",
       "    </tr>\n",
       "    <tr>\n",
       "      <th>95</th>\n",
       "      <td>96</td>\n",
       "      <td>66</td>\n",
       "      <td>youtube-nocookie.com</td>\n",
       "      <td>com</td>\n",
       "      <td>84737</td>\n",
       "      <td>208923</td>\n",
       "      <td>youtube-nocookie.com</td>\n",
       "      <td>com</td>\n",
       "      <td>97</td>\n",
       "      <td>67</td>\n",
       "      <td>84689</td>\n",
       "      <td>208896</td>\n",
       "    </tr>\n",
       "    <tr>\n",
       "      <th>96</th>\n",
       "      <td>97</td>\n",
       "      <td>67</td>\n",
       "      <td>nginx.com</td>\n",
       "      <td>com</td>\n",
       "      <td>84535</td>\n",
       "      <td>165377</td>\n",
       "      <td>nginx.com</td>\n",
       "      <td>com</td>\n",
       "      <td>98</td>\n",
       "      <td>68</td>\n",
       "      <td>84405</td>\n",
       "      <td>165050</td>\n",
       "    </tr>\n",
       "    <tr>\n",
       "      <th>97</th>\n",
       "      <td>98</td>\n",
       "      <td>68</td>\n",
       "      <td>imdb.com</td>\n",
       "      <td>com</td>\n",
       "      <td>84275</td>\n",
       "      <td>218180</td>\n",
       "      <td>imdb.com</td>\n",
       "      <td>com</td>\n",
       "      <td>99</td>\n",
       "      <td>69</td>\n",
       "      <td>84297</td>\n",
       "      <td>218127</td>\n",
       "    </tr>\n",
       "    <tr>\n",
       "      <th>98</th>\n",
       "      <td>99</td>\n",
       "      <td>69</td>\n",
       "      <td>bloomberg.com</td>\n",
       "      <td>com</td>\n",
       "      <td>84239</td>\n",
       "      <td>196751</td>\n",
       "      <td>bloomberg.com</td>\n",
       "      <td>com</td>\n",
       "      <td>100</td>\n",
       "      <td>70</td>\n",
       "      <td>84164</td>\n",
       "      <td>196873</td>\n",
       "    </tr>\n",
       "  </tbody>\n",
       "</table>\n",
       "<p>69 rows × 12 columns</p>\n",
       "</div>"
      ],
      "text/plain": [
       "    GlobalRank  TldRank                Domain  TLD  RefSubNets   RefIPs  \\\n",
       "0            1        1            google.com  com      493225  2423262   \n",
       "1            2        2          facebook.com  com      491991  2576708   \n",
       "2            3        3           youtube.com  com      443833  2089772   \n",
       "3            4        4           twitter.com  com      437495  2073037   \n",
       "4            5        5         instagram.com  com      375641  1733941   \n",
       "..         ...      ...                   ...  ...         ...      ...   \n",
       "94          95       65            oracle.com  com       85737   161047   \n",
       "95          96       66  youtube-nocookie.com  com       84737   208923   \n",
       "96          97       67             nginx.com  com       84535   165377   \n",
       "97          98       68              imdb.com  com       84275   218180   \n",
       "98          99       69         bloomberg.com  com       84239   196751   \n",
       "\n",
       "              IDN_Domain IDN_TLD  PrevGlobalRank  PrevTldRank  PrevRefSubNets  \\\n",
       "0             google.com     com               1            1          492684   \n",
       "1           facebook.com     com               2            2          491669   \n",
       "2            youtube.com     com               3            3          443324   \n",
       "3            twitter.com     com               4            4          437045   \n",
       "4          instagram.com     com               5            5          375337   \n",
       "..                   ...     ...             ...          ...             ...   \n",
       "94            oracle.com     com              95           65           86117   \n",
       "95  youtube-nocookie.com     com              97           67           84689   \n",
       "96             nginx.com     com              98           68           84405   \n",
       "97              imdb.com     com              99           69           84297   \n",
       "98         bloomberg.com     com             100           70           84164   \n",
       "\n",
       "    PrevRefIPs  \n",
       "0      2421905  \n",
       "1      2574466  \n",
       "2      2088013  \n",
       "3      2071411  \n",
       "4      1733107  \n",
       "..         ...  \n",
       "94      162202  \n",
       "95      208896  \n",
       "96      165050  \n",
       "97      218127  \n",
       "98      196873  \n",
       "\n",
       "[69 rows x 12 columns]"
      ]
     },
     "execution_count": 95,
     "metadata": {},
     "output_type": "execute_result"
    }
   ],
   "source": [
    "# more complex filtering #1\n",
    "data[(data['TLD'] == \"com\") & (data['GlobalRank']<100)]  # based on 2 criteria"
   ]
  },
  {
   "cell_type": "code",
   "execution_count": 253,
   "id": "75c4050b",
   "metadata": {},
   "outputs": [
    {
     "data": {
      "text/html": [
       "<div>\n",
       "<style scoped>\n",
       "    .dataframe tbody tr th:only-of-type {\n",
       "        vertical-align: middle;\n",
       "    }\n",
       "\n",
       "    .dataframe tbody tr th {\n",
       "        vertical-align: top;\n",
       "    }\n",
       "\n",
       "    .dataframe thead th {\n",
       "        text-align: right;\n",
       "    }\n",
       "</style>\n",
       "<table border=\"1\" class=\"dataframe\">\n",
       "  <thead>\n",
       "    <tr style=\"text-align: right;\">\n",
       "      <th></th>\n",
       "      <th>GlobalRank</th>\n",
       "      <th>TldRank</th>\n",
       "      <th>Domain</th>\n",
       "      <th>TLD</th>\n",
       "      <th>RefSubNets</th>\n",
       "      <th>RefIPs</th>\n",
       "      <th>IDN_Domain</th>\n",
       "      <th>IDN_TLD</th>\n",
       "      <th>PrevGlobalRank</th>\n",
       "      <th>PrevTldRank</th>\n",
       "      <th>PrevRefSubNets</th>\n",
       "      <th>PrevRefIPs</th>\n",
       "      <th>TLDDummy_col</th>\n",
       "      <th>TLD_status</th>\n",
       "    </tr>\n",
       "  </thead>\n",
       "  <tbody>\n",
       "    <tr>\n",
       "      <th>0</th>\n",
       "      <td>1</td>\n",
       "      <td>1</td>\n",
       "      <td>google.com</td>\n",
       "      <td>com</td>\n",
       "      <td>493225</td>\n",
       "      <td>2423262</td>\n",
       "      <td>google.com</td>\n",
       "      <td>com</td>\n",
       "      <td>1</td>\n",
       "      <td>1</td>\n",
       "      <td>492684</td>\n",
       "      <td>2421905</td>\n",
       "      <td>1</td>\n",
       "      <td>reputed</td>\n",
       "    </tr>\n",
       "    <tr>\n",
       "      <th>1</th>\n",
       "      <td>2</td>\n",
       "      <td>2</td>\n",
       "      <td>facebook.com</td>\n",
       "      <td>com</td>\n",
       "      <td>491991</td>\n",
       "      <td>2576708</td>\n",
       "      <td>facebook.com</td>\n",
       "      <td>com</td>\n",
       "      <td>2</td>\n",
       "      <td>2</td>\n",
       "      <td>491669</td>\n",
       "      <td>2574466</td>\n",
       "      <td>1</td>\n",
       "      <td>reputed</td>\n",
       "    </tr>\n",
       "    <tr>\n",
       "      <th>2</th>\n",
       "      <td>3</td>\n",
       "      <td>3</td>\n",
       "      <td>youtube.com</td>\n",
       "      <td>com</td>\n",
       "      <td>443833</td>\n",
       "      <td>2089772</td>\n",
       "      <td>youtube.com</td>\n",
       "      <td>com</td>\n",
       "      <td>3</td>\n",
       "      <td>3</td>\n",
       "      <td>443324</td>\n",
       "      <td>2088013</td>\n",
       "      <td>1</td>\n",
       "      <td>reputed</td>\n",
       "    </tr>\n",
       "    <tr>\n",
       "      <th>3</th>\n",
       "      <td>4</td>\n",
       "      <td>4</td>\n",
       "      <td>twitter.com</td>\n",
       "      <td>com</td>\n",
       "      <td>437495</td>\n",
       "      <td>2073037</td>\n",
       "      <td>twitter.com</td>\n",
       "      <td>com</td>\n",
       "      <td>4</td>\n",
       "      <td>4</td>\n",
       "      <td>437045</td>\n",
       "      <td>2071411</td>\n",
       "      <td>1</td>\n",
       "      <td>reputed</td>\n",
       "    </tr>\n",
       "    <tr>\n",
       "      <th>4</th>\n",
       "      <td>5</td>\n",
       "      <td>5</td>\n",
       "      <td>instagram.com</td>\n",
       "      <td>com</td>\n",
       "      <td>375641</td>\n",
       "      <td>1733941</td>\n",
       "      <td>instagram.com</td>\n",
       "      <td>com</td>\n",
       "      <td>5</td>\n",
       "      <td>5</td>\n",
       "      <td>375337</td>\n",
       "      <td>1733107</td>\n",
       "      <td>1</td>\n",
       "      <td>reputed</td>\n",
       "    </tr>\n",
       "    <tr>\n",
       "      <th>...</th>\n",
       "      <td>...</td>\n",
       "      <td>...</td>\n",
       "      <td>...</td>\n",
       "      <td>...</td>\n",
       "      <td>...</td>\n",
       "      <td>...</td>\n",
       "      <td>...</td>\n",
       "      <td>...</td>\n",
       "      <td>...</td>\n",
       "      <td>...</td>\n",
       "      <td>...</td>\n",
       "      <td>...</td>\n",
       "      <td>...</td>\n",
       "      <td>...</td>\n",
       "    </tr>\n",
       "    <tr>\n",
       "      <th>999991</th>\n",
       "      <td>999992</td>\n",
       "      <td>495693</td>\n",
       "      <td>flypaintvietnam.com</td>\n",
       "      <td>com</td>\n",
       "      <td>264</td>\n",
       "      <td>434</td>\n",
       "      <td>flypaintvietnam.com</td>\n",
       "      <td>com</td>\n",
       "      <td>988655</td>\n",
       "      <td>490073</td>\n",
       "      <td>266</td>\n",
       "      <td>434</td>\n",
       "      <td>1</td>\n",
       "      <td>reputed</td>\n",
       "    </tr>\n",
       "    <tr>\n",
       "      <th>999992</th>\n",
       "      <td>999993</td>\n",
       "      <td>495694</td>\n",
       "      <td>rightsmaps.com</td>\n",
       "      <td>com</td>\n",
       "      <td>264</td>\n",
       "      <td>433</td>\n",
       "      <td>rightsmaps.com</td>\n",
       "      <td>com</td>\n",
       "      <td>-1</td>\n",
       "      <td>-1</td>\n",
       "      <td>-1</td>\n",
       "      <td>-1</td>\n",
       "      <td>1</td>\n",
       "      <td>reputed</td>\n",
       "    </tr>\n",
       "    <tr>\n",
       "      <th>999996</th>\n",
       "      <td>999997</td>\n",
       "      <td>495695</td>\n",
       "      <td>blackpatrol.com</td>\n",
       "      <td>com</td>\n",
       "      <td>264</td>\n",
       "      <td>426</td>\n",
       "      <td>blackpatrol.com</td>\n",
       "      <td>com</td>\n",
       "      <td>-1</td>\n",
       "      <td>-1</td>\n",
       "      <td>-1</td>\n",
       "      <td>-1</td>\n",
       "      <td>1</td>\n",
       "      <td>reputed</td>\n",
       "    </tr>\n",
       "    <tr>\n",
       "      <th>999997</th>\n",
       "      <td>999998</td>\n",
       "      <td>495696</td>\n",
       "      <td>capitalskinspa.com</td>\n",
       "      <td>com</td>\n",
       "      <td>264</td>\n",
       "      <td>422</td>\n",
       "      <td>capitalskinspa.com</td>\n",
       "      <td>com</td>\n",
       "      <td>983975</td>\n",
       "      <td>487789</td>\n",
       "      <td>267</td>\n",
       "      <td>414</td>\n",
       "      <td>1</td>\n",
       "      <td>reputed</td>\n",
       "    </tr>\n",
       "    <tr>\n",
       "      <th>999999</th>\n",
       "      <td>1000000</td>\n",
       "      <td>84078</td>\n",
       "      <td>chainlinkinfo.org</td>\n",
       "      <td>org</td>\n",
       "      <td>264</td>\n",
       "      <td>420</td>\n",
       "      <td>chainlinkinfo.org</td>\n",
       "      <td>org</td>\n",
       "      <td>961356</td>\n",
       "      <td>81001</td>\n",
       "      <td>272</td>\n",
       "      <td>409</td>\n",
       "      <td>-1</td>\n",
       "      <td>reputed</td>\n",
       "    </tr>\n",
       "  </tbody>\n",
       "</table>\n",
       "<p>617001 rows × 14 columns</p>\n",
       "</div>"
      ],
      "text/plain": [
       "        GlobalRank  TldRank               Domain  TLD  RefSubNets   RefIPs  \\\n",
       "0                1        1           google.com  com      493225  2423262   \n",
       "1                2        2         facebook.com  com      491991  2576708   \n",
       "2                3        3          youtube.com  com      443833  2089772   \n",
       "3                4        4          twitter.com  com      437495  2073037   \n",
       "4                5        5        instagram.com  com      375641  1733941   \n",
       "...            ...      ...                  ...  ...         ...      ...   \n",
       "999991      999992   495693  flypaintvietnam.com  com         264      434   \n",
       "999992      999993   495694       rightsmaps.com  com         264      433   \n",
       "999996      999997   495695      blackpatrol.com  com         264      426   \n",
       "999997      999998   495696   capitalskinspa.com  com         264      422   \n",
       "999999     1000000    84078    chainlinkinfo.org  org         264      420   \n",
       "\n",
       "                 IDN_Domain IDN_TLD  PrevGlobalRank  PrevTldRank  \\\n",
       "0                google.com     com               1            1   \n",
       "1              facebook.com     com               2            2   \n",
       "2               youtube.com     com               3            3   \n",
       "3               twitter.com     com               4            4   \n",
       "4             instagram.com     com               5            5   \n",
       "...                     ...     ...             ...          ...   \n",
       "999991  flypaintvietnam.com     com          988655       490073   \n",
       "999992       rightsmaps.com     com              -1           -1   \n",
       "999996      blackpatrol.com     com              -1           -1   \n",
       "999997   capitalskinspa.com     com          983975       487789   \n",
       "999999    chainlinkinfo.org     org          961356        81001   \n",
       "\n",
       "        PrevRefSubNets  PrevRefIPs  TLDDummy_col TLD_status  \n",
       "0               492684     2421905             1    reputed  \n",
       "1               491669     2574466             1    reputed  \n",
       "2               443324     2088013             1    reputed  \n",
       "3               437045     2071411             1    reputed  \n",
       "4               375337     1733107             1    reputed  \n",
       "...                ...         ...           ...        ...  \n",
       "999991             266         434             1    reputed  \n",
       "999992              -1          -1             1    reputed  \n",
       "999996              -1          -1             1    reputed  \n",
       "999997             267         414             1    reputed  \n",
       "999999             272         409            -1    reputed  \n",
       "\n",
       "[617001 rows x 14 columns]"
      ]
     },
     "execution_count": 253,
     "metadata": {},
     "output_type": "execute_result"
    }
   ],
   "source": [
    "# Complex filtering #2, with a list\n",
    "\n",
    "tld_list = ['com','net', 'org']\n",
    "data[data['TLD'].isin(tld_list)]\n",
    "#three_tld_only_df = data[data['TLD'].isin(tld_list)]\n"
   ]
  },
  {
   "cell_type": "code",
   "execution_count": 252,
   "id": "2cbfd9c8",
   "metadata": {},
   "outputs": [],
   "source": [
    "#"
   ]
  },
  {
   "cell_type": "markdown",
   "id": "990edfd0",
   "metadata": {},
   "source": [
    "# removing a colums from dataframe\n"
   ]
  },
  {
   "cell_type": "code",
   "execution_count": 103,
   "id": "f56b77d3",
   "metadata": {},
   "outputs": [],
   "source": [
    "# let's add a dummy colum to play with\n",
    "data[\"col_dummy\"] = 1\n"
   ]
  },
  {
   "cell_type": "code",
   "execution_count": 104,
   "id": "9b43a980",
   "metadata": {},
   "outputs": [
    {
     "data": {
      "text/html": [
       "<div>\n",
       "<style scoped>\n",
       "    .dataframe tbody tr th:only-of-type {\n",
       "        vertical-align: middle;\n",
       "    }\n",
       "\n",
       "    .dataframe tbody tr th {\n",
       "        vertical-align: top;\n",
       "    }\n",
       "\n",
       "    .dataframe thead th {\n",
       "        text-align: right;\n",
       "    }\n",
       "</style>\n",
       "<table border=\"1\" class=\"dataframe\">\n",
       "  <thead>\n",
       "    <tr style=\"text-align: right;\">\n",
       "      <th></th>\n",
       "      <th>GlobalRank</th>\n",
       "      <th>TldRank</th>\n",
       "      <th>Domain</th>\n",
       "      <th>TLD</th>\n",
       "      <th>RefSubNets</th>\n",
       "      <th>RefIPs</th>\n",
       "      <th>IDN_Domain</th>\n",
       "      <th>IDN_TLD</th>\n",
       "      <th>PrevGlobalRank</th>\n",
       "      <th>PrevTldRank</th>\n",
       "      <th>PrevRefSubNets</th>\n",
       "      <th>PrevRefIPs</th>\n",
       "      <th>col_dummy</th>\n",
       "    </tr>\n",
       "  </thead>\n",
       "  <tbody>\n",
       "    <tr>\n",
       "      <th>0</th>\n",
       "      <td>1</td>\n",
       "      <td>1</td>\n",
       "      <td>google.com</td>\n",
       "      <td>com</td>\n",
       "      <td>493225</td>\n",
       "      <td>2423262</td>\n",
       "      <td>google.com</td>\n",
       "      <td>com</td>\n",
       "      <td>1</td>\n",
       "      <td>1</td>\n",
       "      <td>492684</td>\n",
       "      <td>2421905</td>\n",
       "      <td>1</td>\n",
       "    </tr>\n",
       "    <tr>\n",
       "      <th>1</th>\n",
       "      <td>2</td>\n",
       "      <td>2</td>\n",
       "      <td>facebook.com</td>\n",
       "      <td>com</td>\n",
       "      <td>491991</td>\n",
       "      <td>2576708</td>\n",
       "      <td>facebook.com</td>\n",
       "      <td>com</td>\n",
       "      <td>2</td>\n",
       "      <td>2</td>\n",
       "      <td>491669</td>\n",
       "      <td>2574466</td>\n",
       "      <td>1</td>\n",
       "    </tr>\n",
       "    <tr>\n",
       "      <th>2</th>\n",
       "      <td>3</td>\n",
       "      <td>3</td>\n",
       "      <td>youtube.com</td>\n",
       "      <td>com</td>\n",
       "      <td>443833</td>\n",
       "      <td>2089772</td>\n",
       "      <td>youtube.com</td>\n",
       "      <td>com</td>\n",
       "      <td>3</td>\n",
       "      <td>3</td>\n",
       "      <td>443324</td>\n",
       "      <td>2088013</td>\n",
       "      <td>1</td>\n",
       "    </tr>\n",
       "    <tr>\n",
       "      <th>3</th>\n",
       "      <td>4</td>\n",
       "      <td>4</td>\n",
       "      <td>twitter.com</td>\n",
       "      <td>com</td>\n",
       "      <td>437495</td>\n",
       "      <td>2073037</td>\n",
       "      <td>twitter.com</td>\n",
       "      <td>com</td>\n",
       "      <td>4</td>\n",
       "      <td>4</td>\n",
       "      <td>437045</td>\n",
       "      <td>2071411</td>\n",
       "      <td>1</td>\n",
       "    </tr>\n",
       "    <tr>\n",
       "      <th>4</th>\n",
       "      <td>5</td>\n",
       "      <td>5</td>\n",
       "      <td>instagram.com</td>\n",
       "      <td>com</td>\n",
       "      <td>375641</td>\n",
       "      <td>1733941</td>\n",
       "      <td>instagram.com</td>\n",
       "      <td>com</td>\n",
       "      <td>5</td>\n",
       "      <td>5</td>\n",
       "      <td>375337</td>\n",
       "      <td>1733107</td>\n",
       "      <td>1</td>\n",
       "    </tr>\n",
       "    <tr>\n",
       "      <th>...</th>\n",
       "      <td>...</td>\n",
       "      <td>...</td>\n",
       "      <td>...</td>\n",
       "      <td>...</td>\n",
       "      <td>...</td>\n",
       "      <td>...</td>\n",
       "      <td>...</td>\n",
       "      <td>...</td>\n",
       "      <td>...</td>\n",
       "      <td>...</td>\n",
       "      <td>...</td>\n",
       "      <td>...</td>\n",
       "      <td>...</td>\n",
       "    </tr>\n",
       "    <tr>\n",
       "      <th>999995</th>\n",
       "      <td>999996</td>\n",
       "      <td>41</td>\n",
       "      <td>ufabet.school</td>\n",
       "      <td>school</td>\n",
       "      <td>264</td>\n",
       "      <td>429</td>\n",
       "      <td>ufabet.school</td>\n",
       "      <td>school</td>\n",
       "      <td>-1</td>\n",
       "      <td>-1</td>\n",
       "      <td>-1</td>\n",
       "      <td>-1</td>\n",
       "      <td>1</td>\n",
       "    </tr>\n",
       "    <tr>\n",
       "      <th>999996</th>\n",
       "      <td>999997</td>\n",
       "      <td>495695</td>\n",
       "      <td>blackpatrol.com</td>\n",
       "      <td>com</td>\n",
       "      <td>264</td>\n",
       "      <td>426</td>\n",
       "      <td>blackpatrol.com</td>\n",
       "      <td>com</td>\n",
       "      <td>-1</td>\n",
       "      <td>-1</td>\n",
       "      <td>-1</td>\n",
       "      <td>-1</td>\n",
       "      <td>1</td>\n",
       "    </tr>\n",
       "    <tr>\n",
       "      <th>999997</th>\n",
       "      <td>999998</td>\n",
       "      <td>495696</td>\n",
       "      <td>capitalskinspa.com</td>\n",
       "      <td>com</td>\n",
       "      <td>264</td>\n",
       "      <td>422</td>\n",
       "      <td>capitalskinspa.com</td>\n",
       "      <td>com</td>\n",
       "      <td>983975</td>\n",
       "      <td>487789</td>\n",
       "      <td>267</td>\n",
       "      <td>414</td>\n",
       "      <td>1</td>\n",
       "    </tr>\n",
       "    <tr>\n",
       "      <th>999998</th>\n",
       "      <td>999999</td>\n",
       "      <td>8826</td>\n",
       "      <td>grownomics.com.au</td>\n",
       "      <td>au</td>\n",
       "      <td>264</td>\n",
       "      <td>421</td>\n",
       "      <td>grownomics.com.au</td>\n",
       "      <td>au</td>\n",
       "      <td>956855</td>\n",
       "      <td>8428</td>\n",
       "      <td>273</td>\n",
       "      <td>420</td>\n",
       "      <td>1</td>\n",
       "    </tr>\n",
       "    <tr>\n",
       "      <th>999999</th>\n",
       "      <td>1000000</td>\n",
       "      <td>84078</td>\n",
       "      <td>chainlinkinfo.org</td>\n",
       "      <td>org</td>\n",
       "      <td>264</td>\n",
       "      <td>420</td>\n",
       "      <td>chainlinkinfo.org</td>\n",
       "      <td>org</td>\n",
       "      <td>961356</td>\n",
       "      <td>81001</td>\n",
       "      <td>272</td>\n",
       "      <td>409</td>\n",
       "      <td>1</td>\n",
       "    </tr>\n",
       "  </tbody>\n",
       "</table>\n",
       "<p>1000000 rows × 13 columns</p>\n",
       "</div>"
      ],
      "text/plain": [
       "        GlobalRank  TldRank              Domain     TLD  RefSubNets   RefIPs  \\\n",
       "0                1        1          google.com     com      493225  2423262   \n",
       "1                2        2        facebook.com     com      491991  2576708   \n",
       "2                3        3         youtube.com     com      443833  2089772   \n",
       "3                4        4         twitter.com     com      437495  2073037   \n",
       "4                5        5       instagram.com     com      375641  1733941   \n",
       "...            ...      ...                 ...     ...         ...      ...   \n",
       "999995      999996       41       ufabet.school  school         264      429   \n",
       "999996      999997   495695     blackpatrol.com     com         264      426   \n",
       "999997      999998   495696  capitalskinspa.com     com         264      422   \n",
       "999998      999999     8826   grownomics.com.au      au         264      421   \n",
       "999999     1000000    84078   chainlinkinfo.org     org         264      420   \n",
       "\n",
       "                IDN_Domain IDN_TLD  PrevGlobalRank  PrevTldRank  \\\n",
       "0               google.com     com               1            1   \n",
       "1             facebook.com     com               2            2   \n",
       "2              youtube.com     com               3            3   \n",
       "3              twitter.com     com               4            4   \n",
       "4            instagram.com     com               5            5   \n",
       "...                    ...     ...             ...          ...   \n",
       "999995       ufabet.school  school              -1           -1   \n",
       "999996     blackpatrol.com     com              -1           -1   \n",
       "999997  capitalskinspa.com     com          983975       487789   \n",
       "999998   grownomics.com.au      au          956855         8428   \n",
       "999999   chainlinkinfo.org     org          961356        81001   \n",
       "\n",
       "        PrevRefSubNets  PrevRefIPs  col_dummy  \n",
       "0               492684     2421905          1  \n",
       "1               491669     2574466          1  \n",
       "2               443324     2088013          1  \n",
       "3               437045     2071411          1  \n",
       "4               375337     1733107          1  \n",
       "...                ...         ...        ...  \n",
       "999995              -1          -1          1  \n",
       "999996              -1          -1          1  \n",
       "999997             267         414          1  \n",
       "999998             273         420          1  \n",
       "999999             272         409          1  \n",
       "\n",
       "[1000000 rows x 13 columns]"
      ]
     },
     "execution_count": 104,
     "metadata": {},
     "output_type": "execute_result"
    }
   ],
   "source": [
    "data"
   ]
  },
  {
   "cell_type": "code",
   "execution_count": 105,
   "id": "b1ad230e",
   "metadata": {},
   "outputs": [],
   "source": [
    "data.drop('col_dummy', axis=1, inplace=True)   \n",
    "#inplace = True  ensures the colum is dropped from the original dataframe"
   ]
  },
  {
   "cell_type": "markdown",
   "id": "a61a71b2",
   "metadata": {},
   "source": [
    "# Recoding a colum value"
   ]
  },
  {
   "cell_type": "code",
   "execution_count": 106,
   "id": "b64707d1",
   "metadata": {},
   "outputs": [],
   "source": [
    "def my_recode(TLD):\n",
    "    if TLD == \"com\":\n",
    "        return 1\n",
    "    else:\n",
    "        return -1"
   ]
  },
  {
   "cell_type": "code",
   "execution_count": 109,
   "id": "083d710c",
   "metadata": {},
   "outputs": [
    {
     "data": {
      "text/plain": [
       "-1"
      ]
     },
     "execution_count": 109,
     "metadata": {},
     "output_type": "execute_result"
    }
   ],
   "source": [
    "my_recode(\"net\")"
   ]
  },
  {
   "cell_type": "code",
   "execution_count": 110,
   "id": "74bf4ac8",
   "metadata": {},
   "outputs": [
    {
     "data": {
      "text/html": [
       "<div>\n",
       "<style scoped>\n",
       "    .dataframe tbody tr th:only-of-type {\n",
       "        vertical-align: middle;\n",
       "    }\n",
       "\n",
       "    .dataframe tbody tr th {\n",
       "        vertical-align: top;\n",
       "    }\n",
       "\n",
       "    .dataframe thead th {\n",
       "        text-align: right;\n",
       "    }\n",
       "</style>\n",
       "<table border=\"1\" class=\"dataframe\">\n",
       "  <thead>\n",
       "    <tr style=\"text-align: right;\">\n",
       "      <th></th>\n",
       "      <th>GlobalRank</th>\n",
       "      <th>TldRank</th>\n",
       "      <th>Domain</th>\n",
       "      <th>TLD</th>\n",
       "      <th>RefSubNets</th>\n",
       "      <th>RefIPs</th>\n",
       "      <th>IDN_Domain</th>\n",
       "      <th>IDN_TLD</th>\n",
       "      <th>PrevGlobalRank</th>\n",
       "      <th>PrevTldRank</th>\n",
       "      <th>PrevRefSubNets</th>\n",
       "      <th>PrevRefIPs</th>\n",
       "      <th>TLDDummy_col</th>\n",
       "    </tr>\n",
       "  </thead>\n",
       "  <tbody>\n",
       "    <tr>\n",
       "      <th>0</th>\n",
       "      <td>1</td>\n",
       "      <td>1</td>\n",
       "      <td>google.com</td>\n",
       "      <td>com</td>\n",
       "      <td>493225</td>\n",
       "      <td>2423262</td>\n",
       "      <td>google.com</td>\n",
       "      <td>com</td>\n",
       "      <td>1</td>\n",
       "      <td>1</td>\n",
       "      <td>492684</td>\n",
       "      <td>2421905</td>\n",
       "      <td>1</td>\n",
       "    </tr>\n",
       "    <tr>\n",
       "      <th>1</th>\n",
       "      <td>2</td>\n",
       "      <td>2</td>\n",
       "      <td>facebook.com</td>\n",
       "      <td>com</td>\n",
       "      <td>491991</td>\n",
       "      <td>2576708</td>\n",
       "      <td>facebook.com</td>\n",
       "      <td>com</td>\n",
       "      <td>2</td>\n",
       "      <td>2</td>\n",
       "      <td>491669</td>\n",
       "      <td>2574466</td>\n",
       "      <td>1</td>\n",
       "    </tr>\n",
       "    <tr>\n",
       "      <th>2</th>\n",
       "      <td>3</td>\n",
       "      <td>3</td>\n",
       "      <td>youtube.com</td>\n",
       "      <td>com</td>\n",
       "      <td>443833</td>\n",
       "      <td>2089772</td>\n",
       "      <td>youtube.com</td>\n",
       "      <td>com</td>\n",
       "      <td>3</td>\n",
       "      <td>3</td>\n",
       "      <td>443324</td>\n",
       "      <td>2088013</td>\n",
       "      <td>1</td>\n",
       "    </tr>\n",
       "    <tr>\n",
       "      <th>3</th>\n",
       "      <td>4</td>\n",
       "      <td>4</td>\n",
       "      <td>twitter.com</td>\n",
       "      <td>com</td>\n",
       "      <td>437495</td>\n",
       "      <td>2073037</td>\n",
       "      <td>twitter.com</td>\n",
       "      <td>com</td>\n",
       "      <td>4</td>\n",
       "      <td>4</td>\n",
       "      <td>437045</td>\n",
       "      <td>2071411</td>\n",
       "      <td>1</td>\n",
       "    </tr>\n",
       "    <tr>\n",
       "      <th>4</th>\n",
       "      <td>5</td>\n",
       "      <td>5</td>\n",
       "      <td>instagram.com</td>\n",
       "      <td>com</td>\n",
       "      <td>375641</td>\n",
       "      <td>1733941</td>\n",
       "      <td>instagram.com</td>\n",
       "      <td>com</td>\n",
       "      <td>5</td>\n",
       "      <td>5</td>\n",
       "      <td>375337</td>\n",
       "      <td>1733107</td>\n",
       "      <td>1</td>\n",
       "    </tr>\n",
       "    <tr>\n",
       "      <th>5</th>\n",
       "      <td>6</td>\n",
       "      <td>6</td>\n",
       "      <td>linkedin.com</td>\n",
       "      <td>com</td>\n",
       "      <td>352590</td>\n",
       "      <td>1455263</td>\n",
       "      <td>linkedin.com</td>\n",
       "      <td>com</td>\n",
       "      <td>6</td>\n",
       "      <td>6</td>\n",
       "      <td>352069</td>\n",
       "      <td>1453821</td>\n",
       "      <td>1</td>\n",
       "    </tr>\n",
       "    <tr>\n",
       "      <th>6</th>\n",
       "      <td>7</td>\n",
       "      <td>7</td>\n",
       "      <td>apple.com</td>\n",
       "      <td>com</td>\n",
       "      <td>284057</td>\n",
       "      <td>916081</td>\n",
       "      <td>apple.com</td>\n",
       "      <td>com</td>\n",
       "      <td>7</td>\n",
       "      <td>7</td>\n",
       "      <td>283586</td>\n",
       "      <td>915884</td>\n",
       "      <td>1</td>\n",
       "    </tr>\n",
       "    <tr>\n",
       "      <th>7</th>\n",
       "      <td>8</td>\n",
       "      <td>8</td>\n",
       "      <td>microsoft.com</td>\n",
       "      <td>com</td>\n",
       "      <td>281262</td>\n",
       "      <td>835502</td>\n",
       "      <td>microsoft.com</td>\n",
       "      <td>com</td>\n",
       "      <td>8</td>\n",
       "      <td>8</td>\n",
       "      <td>280613</td>\n",
       "      <td>834323</td>\n",
       "      <td>1</td>\n",
       "    </tr>\n",
       "    <tr>\n",
       "      <th>8</th>\n",
       "      <td>9</td>\n",
       "      <td>1</td>\n",
       "      <td>wikipedia.org</td>\n",
       "      <td>org</td>\n",
       "      <td>271363</td>\n",
       "      <td>970017</td>\n",
       "      <td>wikipedia.org</td>\n",
       "      <td>org</td>\n",
       "      <td>9</td>\n",
       "      <td>1</td>\n",
       "      <td>271244</td>\n",
       "      <td>969824</td>\n",
       "      <td>-1</td>\n",
       "    </tr>\n",
       "    <tr>\n",
       "      <th>9</th>\n",
       "      <td>10</td>\n",
       "      <td>9</td>\n",
       "      <td>googletagmanager.com</td>\n",
       "      <td>com</td>\n",
       "      <td>260981</td>\n",
       "      <td>893057</td>\n",
       "      <td>googletagmanager.com</td>\n",
       "      <td>com</td>\n",
       "      <td>10</td>\n",
       "      <td>9</td>\n",
       "      <td>260702</td>\n",
       "      <td>892727</td>\n",
       "      <td>1</td>\n",
       "    </tr>\n",
       "  </tbody>\n",
       "</table>\n",
       "</div>"
      ],
      "text/plain": [
       "   GlobalRank  TldRank                Domain  TLD  RefSubNets   RefIPs  \\\n",
       "0           1        1            google.com  com      493225  2423262   \n",
       "1           2        2          facebook.com  com      491991  2576708   \n",
       "2           3        3           youtube.com  com      443833  2089772   \n",
       "3           4        4           twitter.com  com      437495  2073037   \n",
       "4           5        5         instagram.com  com      375641  1733941   \n",
       "5           6        6          linkedin.com  com      352590  1455263   \n",
       "6           7        7             apple.com  com      284057   916081   \n",
       "7           8        8         microsoft.com  com      281262   835502   \n",
       "8           9        1         wikipedia.org  org      271363   970017   \n",
       "9          10        9  googletagmanager.com  com      260981   893057   \n",
       "\n",
       "             IDN_Domain IDN_TLD  PrevGlobalRank  PrevTldRank  PrevRefSubNets  \\\n",
       "0            google.com     com               1            1          492684   \n",
       "1          facebook.com     com               2            2          491669   \n",
       "2           youtube.com     com               3            3          443324   \n",
       "3           twitter.com     com               4            4          437045   \n",
       "4         instagram.com     com               5            5          375337   \n",
       "5          linkedin.com     com               6            6          352069   \n",
       "6             apple.com     com               7            7          283586   \n",
       "7         microsoft.com     com               8            8          280613   \n",
       "8         wikipedia.org     org               9            1          271244   \n",
       "9  googletagmanager.com     com              10            9          260702   \n",
       "\n",
       "   PrevRefIPs  TLDDummy_col  \n",
       "0     2421905             1  \n",
       "1     2574466             1  \n",
       "2     2088013             1  \n",
       "3     2071411             1  \n",
       "4     1733107             1  \n",
       "5     1453821             1  \n",
       "6      915884             1  \n",
       "7      834323             1  \n",
       "8      969824            -1  \n",
       "9      892727             1  "
      ]
     },
     "execution_count": 110,
     "metadata": {},
     "output_type": "execute_result"
    }
   ],
   "source": [
    "data['TLDDummy_col'] = data['TLD'].apply(my_recode)\n",
    "data.head(10)"
   ]
  },
  {
   "cell_type": "markdown",
   "id": "57697bb9",
   "metadata": {},
   "source": [
    "# replacing values from a list"
   ]
  },
  {
   "cell_type": "code",
   "execution_count": 114,
   "id": "5e761149",
   "metadata": {},
   "outputs": [
    {
     "data": {
      "text/html": [
       "<div>\n",
       "<style scoped>\n",
       "    .dataframe tbody tr th:only-of-type {\n",
       "        vertical-align: middle;\n",
       "    }\n",
       "\n",
       "    .dataframe tbody tr th {\n",
       "        vertical-align: top;\n",
       "    }\n",
       "\n",
       "    .dataframe thead th {\n",
       "        text-align: right;\n",
       "    }\n",
       "</style>\n",
       "<table border=\"1\" class=\"dataframe\">\n",
       "  <thead>\n",
       "    <tr style=\"text-align: right;\">\n",
       "      <th></th>\n",
       "      <th>GlobalRank</th>\n",
       "      <th>TldRank</th>\n",
       "      <th>Domain</th>\n",
       "      <th>TLD</th>\n",
       "      <th>RefSubNets</th>\n",
       "      <th>RefIPs</th>\n",
       "      <th>IDN_Domain</th>\n",
       "      <th>IDN_TLD</th>\n",
       "      <th>PrevGlobalRank</th>\n",
       "      <th>PrevTldRank</th>\n",
       "      <th>PrevRefSubNets</th>\n",
       "      <th>PrevRefIPs</th>\n",
       "      <th>TLDDummy_col</th>\n",
       "      <th>TLD_status</th>\n",
       "    </tr>\n",
       "  </thead>\n",
       "  <tbody>\n",
       "    <tr>\n",
       "      <th>1100</th>\n",
       "      <td>1101</td>\n",
       "      <td>73</td>\n",
       "      <td>hbs.edu</td>\n",
       "      <td>edu</td>\n",
       "      <td>22446</td>\n",
       "      <td>40590</td>\n",
       "      <td>hbs.edu</td>\n",
       "      <td>edu</td>\n",
       "      <td>1105</td>\n",
       "      <td>73</td>\n",
       "      <td>22438</td>\n",
       "      <td>40541</td>\n",
       "      <td>-1</td>\n",
       "      <td>reputed</td>\n",
       "    </tr>\n",
       "    <tr>\n",
       "      <th>1101</th>\n",
       "      <td>1102</td>\n",
       "      <td>625</td>\n",
       "      <td>ew.com</td>\n",
       "      <td>com</td>\n",
       "      <td>22444</td>\n",
       "      <td>45758</td>\n",
       "      <td>ew.com</td>\n",
       "      <td>com</td>\n",
       "      <td>1103</td>\n",
       "      <td>624</td>\n",
       "      <td>22451</td>\n",
       "      <td>45682</td>\n",
       "      <td>1</td>\n",
       "      <td>reputed</td>\n",
       "    </tr>\n",
       "    <tr>\n",
       "      <th>1102</th>\n",
       "      <td>1103</td>\n",
       "      <td>626</td>\n",
       "      <td>xe.com</td>\n",
       "      <td>com</td>\n",
       "      <td>22436</td>\n",
       "      <td>37958</td>\n",
       "      <td>xe.com</td>\n",
       "      <td>com</td>\n",
       "      <td>1106</td>\n",
       "      <td>626</td>\n",
       "      <td>22438</td>\n",
       "      <td>37927</td>\n",
       "      <td>1</td>\n",
       "      <td>reputed</td>\n",
       "    </tr>\n",
       "    <tr>\n",
       "      <th>1103</th>\n",
       "      <td>1104</td>\n",
       "      <td>134</td>\n",
       "      <td>videolan.org</td>\n",
       "      <td>org</td>\n",
       "      <td>22427</td>\n",
       "      <td>38279</td>\n",
       "      <td>videolan.org</td>\n",
       "      <td>org</td>\n",
       "      <td>1102</td>\n",
       "      <td>134</td>\n",
       "      <td>22452</td>\n",
       "      <td>38345</td>\n",
       "      <td>-1</td>\n",
       "      <td>reputed</td>\n",
       "    </tr>\n",
       "    <tr>\n",
       "      <th>1104</th>\n",
       "      <td>1105</td>\n",
       "      <td>627</td>\n",
       "      <td>mtv.com</td>\n",
       "      <td>com</td>\n",
       "      <td>22425</td>\n",
       "      <td>42142</td>\n",
       "      <td>mtv.com</td>\n",
       "      <td>com</td>\n",
       "      <td>1104</td>\n",
       "      <td>625</td>\n",
       "      <td>22439</td>\n",
       "      <td>42192</td>\n",
       "      <td>1</td>\n",
       "      <td>reputed</td>\n",
       "    </tr>\n",
       "    <tr>\n",
       "      <th>1105</th>\n",
       "      <td>1106</td>\n",
       "      <td>8</td>\n",
       "      <td>liveinternet.ru</td>\n",
       "      <td>ru</td>\n",
       "      <td>22424</td>\n",
       "      <td>46474</td>\n",
       "      <td>liveinternet.ru</td>\n",
       "      <td>ru</td>\n",
       "      <td>1101</td>\n",
       "      <td>8</td>\n",
       "      <td>22465</td>\n",
       "      <td>46359</td>\n",
       "      <td>-1</td>\n",
       "      <td>ru</td>\n",
       "    </tr>\n",
       "    <tr>\n",
       "      <th>1106</th>\n",
       "      <td>1107</td>\n",
       "      <td>21</td>\n",
       "      <td>zlib.net</td>\n",
       "      <td>net</td>\n",
       "      <td>22409</td>\n",
       "      <td>32676</td>\n",
       "      <td>zlib.net</td>\n",
       "      <td>net</td>\n",
       "      <td>1109</td>\n",
       "      <td>21</td>\n",
       "      <td>22388</td>\n",
       "      <td>32612</td>\n",
       "      <td>-1</td>\n",
       "      <td>reputed</td>\n",
       "    </tr>\n",
       "    <tr>\n",
       "      <th>1107</th>\n",
       "      <td>1108</td>\n",
       "      <td>628</td>\n",
       "      <td>tmz.com</td>\n",
       "      <td>com</td>\n",
       "      <td>22379</td>\n",
       "      <td>47051</td>\n",
       "      <td>tmz.com</td>\n",
       "      <td>com</td>\n",
       "      <td>1112</td>\n",
       "      <td>630</td>\n",
       "      <td>22378</td>\n",
       "      <td>47042</td>\n",
       "      <td>1</td>\n",
       "      <td>reputed</td>\n",
       "    </tr>\n",
       "    <tr>\n",
       "      <th>1108</th>\n",
       "      <td>1109</td>\n",
       "      <td>629</td>\n",
       "      <td>upi.com</td>\n",
       "      <td>com</td>\n",
       "      <td>22374</td>\n",
       "      <td>42164</td>\n",
       "      <td>upi.com</td>\n",
       "      <td>com</td>\n",
       "      <td>1114</td>\n",
       "      <td>631</td>\n",
       "      <td>22352</td>\n",
       "      <td>42174</td>\n",
       "      <td>1</td>\n",
       "      <td>reputed</td>\n",
       "    </tr>\n",
       "    <tr>\n",
       "      <th>1109</th>\n",
       "      <td>1110</td>\n",
       "      <td>630</td>\n",
       "      <td>staticflickr.com</td>\n",
       "      <td>com</td>\n",
       "      <td>22365</td>\n",
       "      <td>40675</td>\n",
       "      <td>staticflickr.com</td>\n",
       "      <td>com</td>\n",
       "      <td>1115</td>\n",
       "      <td>632</td>\n",
       "      <td>22347</td>\n",
       "      <td>40678</td>\n",
       "      <td>1</td>\n",
       "      <td>reputed</td>\n",
       "    </tr>\n",
       "    <tr>\n",
       "      <th>1110</th>\n",
       "      <td>1111</td>\n",
       "      <td>57</td>\n",
       "      <td>uscourts.gov</td>\n",
       "      <td>gov</td>\n",
       "      <td>22346</td>\n",
       "      <td>43903</td>\n",
       "      <td>uscourts.gov</td>\n",
       "      <td>gov</td>\n",
       "      <td>1113</td>\n",
       "      <td>57</td>\n",
       "      <td>22369</td>\n",
       "      <td>43955</td>\n",
       "      <td>-1</td>\n",
       "      <td>reputed</td>\n",
       "    </tr>\n",
       "    <tr>\n",
       "      <th>1111</th>\n",
       "      <td>1112</td>\n",
       "      <td>631</td>\n",
       "      <td>discogs.com</td>\n",
       "      <td>com</td>\n",
       "      <td>22344</td>\n",
       "      <td>41887</td>\n",
       "      <td>discogs.com</td>\n",
       "      <td>com</td>\n",
       "      <td>1108</td>\n",
       "      <td>628</td>\n",
       "      <td>22407</td>\n",
       "      <td>41951</td>\n",
       "      <td>1</td>\n",
       "      <td>reputed</td>\n",
       "    </tr>\n",
       "    <tr>\n",
       "      <th>1112</th>\n",
       "      <td>1113</td>\n",
       "      <td>632</td>\n",
       "      <td>verywellhealth.com</td>\n",
       "      <td>com</td>\n",
       "      <td>22308</td>\n",
       "      <td>45043</td>\n",
       "      <td>verywellhealth.com</td>\n",
       "      <td>com</td>\n",
       "      <td>1121</td>\n",
       "      <td>638</td>\n",
       "      <td>22242</td>\n",
       "      <td>44967</td>\n",
       "      <td>1</td>\n",
       "      <td>reputed</td>\n",
       "    </tr>\n",
       "    <tr>\n",
       "      <th>1113</th>\n",
       "      <td>1114</td>\n",
       "      <td>135</td>\n",
       "      <td>lifehack.org</td>\n",
       "      <td>org</td>\n",
       "      <td>22300</td>\n",
       "      <td>44286</td>\n",
       "      <td>lifehack.org</td>\n",
       "      <td>org</td>\n",
       "      <td>1110</td>\n",
       "      <td>135</td>\n",
       "      <td>22385</td>\n",
       "      <td>44368</td>\n",
       "      <td>-1</td>\n",
       "      <td>reputed</td>\n",
       "    </tr>\n",
       "    <tr>\n",
       "      <th>1114</th>\n",
       "      <td>1115</td>\n",
       "      <td>633</td>\n",
       "      <td>reverbnation.com</td>\n",
       "      <td>com</td>\n",
       "      <td>22235</td>\n",
       "      <td>43151</td>\n",
       "      <td>reverbnation.com</td>\n",
       "      <td>com</td>\n",
       "      <td>1120</td>\n",
       "      <td>637</td>\n",
       "      <td>22259</td>\n",
       "      <td>43166</td>\n",
       "      <td>1</td>\n",
       "      <td>reputed</td>\n",
       "    </tr>\n",
       "    <tr>\n",
       "      <th>1115</th>\n",
       "      <td>1116</td>\n",
       "      <td>634</td>\n",
       "      <td>homestead.com</td>\n",
       "      <td>com</td>\n",
       "      <td>22232</td>\n",
       "      <td>40005</td>\n",
       "      <td>homestead.com</td>\n",
       "      <td>com</td>\n",
       "      <td>1111</td>\n",
       "      <td>629</td>\n",
       "      <td>22379</td>\n",
       "      <td>40150</td>\n",
       "      <td>1</td>\n",
       "      <td>reputed</td>\n",
       "    </tr>\n",
       "    <tr>\n",
       "      <th>1116</th>\n",
       "      <td>1117</td>\n",
       "      <td>635</td>\n",
       "      <td>thebalance.com</td>\n",
       "      <td>com</td>\n",
       "      <td>22221</td>\n",
       "      <td>44774</td>\n",
       "      <td>thebalance.com</td>\n",
       "      <td>com</td>\n",
       "      <td>1117</td>\n",
       "      <td>634</td>\n",
       "      <td>22314</td>\n",
       "      <td>45000</td>\n",
       "      <td>1</td>\n",
       "      <td>reputed</td>\n",
       "    </tr>\n",
       "    <tr>\n",
       "      <th>1117</th>\n",
       "      <td>1118</td>\n",
       "      <td>636</td>\n",
       "      <td>nationalpost.com</td>\n",
       "      <td>com</td>\n",
       "      <td>22211</td>\n",
       "      <td>42094</td>\n",
       "      <td>nationalpost.com</td>\n",
       "      <td>com</td>\n",
       "      <td>1122</td>\n",
       "      <td>639</td>\n",
       "      <td>22233</td>\n",
       "      <td>42159</td>\n",
       "      <td>1</td>\n",
       "      <td>reputed</td>\n",
       "    </tr>\n",
       "    <tr>\n",
       "      <th>1118</th>\n",
       "      <td>1119</td>\n",
       "      <td>1</td>\n",
       "      <td>page.link</td>\n",
       "      <td>link</td>\n",
       "      <td>22196</td>\n",
       "      <td>40810</td>\n",
       "      <td>page.link</td>\n",
       "      <td>link</td>\n",
       "      <td>1125</td>\n",
       "      <td>1</td>\n",
       "      <td>22203</td>\n",
       "      <td>40753</td>\n",
       "      <td>-1</td>\n",
       "      <td>link</td>\n",
       "    </tr>\n",
       "    <tr>\n",
       "      <th>1119</th>\n",
       "      <td>1120</td>\n",
       "      <td>637</td>\n",
       "      <td>thespruce.com</td>\n",
       "      <td>com</td>\n",
       "      <td>22184</td>\n",
       "      <td>46886</td>\n",
       "      <td>thespruce.com</td>\n",
       "      <td>com</td>\n",
       "      <td>1119</td>\n",
       "      <td>636</td>\n",
       "      <td>22266</td>\n",
       "      <td>46974</td>\n",
       "      <td>1</td>\n",
       "      <td>reputed</td>\n",
       "    </tr>\n",
       "    <tr>\n",
       "      <th>1120</th>\n",
       "      <td>1121</td>\n",
       "      <td>3</td>\n",
       "      <td>nzherald.co.nz</td>\n",
       "      <td>nz</td>\n",
       "      <td>22184</td>\n",
       "      <td>41844</td>\n",
       "      <td>nzherald.co.nz</td>\n",
       "      <td>nz</td>\n",
       "      <td>1123</td>\n",
       "      <td>3</td>\n",
       "      <td>22208</td>\n",
       "      <td>41840</td>\n",
       "      <td>-1</td>\n",
       "      <td>nz</td>\n",
       "    </tr>\n",
       "    <tr>\n",
       "      <th>1121</th>\n",
       "      <td>1122</td>\n",
       "      <td>136</td>\n",
       "      <td>doxygen.org</td>\n",
       "      <td>org</td>\n",
       "      <td>22184</td>\n",
       "      <td>32340</td>\n",
       "      <td>doxygen.org</td>\n",
       "      <td>org</td>\n",
       "      <td>1124</td>\n",
       "      <td>136</td>\n",
       "      <td>22205</td>\n",
       "      <td>32301</td>\n",
       "      <td>-1</td>\n",
       "      <td>reputed</td>\n",
       "    </tr>\n",
       "    <tr>\n",
       "      <th>1122</th>\n",
       "      <td>1123</td>\n",
       "      <td>137</td>\n",
       "      <td>libpng.org</td>\n",
       "      <td>org</td>\n",
       "      <td>22155</td>\n",
       "      <td>32293</td>\n",
       "      <td>libpng.org</td>\n",
       "      <td>org</td>\n",
       "      <td>1126</td>\n",
       "      <td>137</td>\n",
       "      <td>22161</td>\n",
       "      <td>32280</td>\n",
       "      <td>-1</td>\n",
       "      <td>reputed</td>\n",
       "    </tr>\n",
       "    <tr>\n",
       "      <th>1123</th>\n",
       "      <td>1124</td>\n",
       "      <td>638</td>\n",
       "      <td>filesusr.com</td>\n",
       "      <td>com</td>\n",
       "      <td>22143</td>\n",
       "      <td>35999</td>\n",
       "      <td>filesusr.com</td>\n",
       "      <td>com</td>\n",
       "      <td>1118</td>\n",
       "      <td>635</td>\n",
       "      <td>22311</td>\n",
       "      <td>36289</td>\n",
       "      <td>1</td>\n",
       "      <td>reputed</td>\n",
       "    </tr>\n",
       "    <tr>\n",
       "      <th>1124</th>\n",
       "      <td>1125</td>\n",
       "      <td>138</td>\n",
       "      <td>unhcr.org</td>\n",
       "      <td>org</td>\n",
       "      <td>22126</td>\n",
       "      <td>40144</td>\n",
       "      <td>unhcr.org</td>\n",
       "      <td>org</td>\n",
       "      <td>1127</td>\n",
       "      <td>138</td>\n",
       "      <td>22158</td>\n",
       "      <td>40215</td>\n",
       "      <td>-1</td>\n",
       "      <td>reputed</td>\n",
       "    </tr>\n",
       "    <tr>\n",
       "      <th>1125</th>\n",
       "      <td>1126</td>\n",
       "      <td>139</td>\n",
       "      <td>openoffice.org</td>\n",
       "      <td>org</td>\n",
       "      <td>22102</td>\n",
       "      <td>36121</td>\n",
       "      <td>openoffice.org</td>\n",
       "      <td>org</td>\n",
       "      <td>1129</td>\n",
       "      <td>139</td>\n",
       "      <td>22141</td>\n",
       "      <td>36112</td>\n",
       "      <td>-1</td>\n",
       "      <td>reputed</td>\n",
       "    </tr>\n",
       "    <tr>\n",
       "      <th>1126</th>\n",
       "      <td>1127</td>\n",
       "      <td>140</td>\n",
       "      <td>pcre.org</td>\n",
       "      <td>org</td>\n",
       "      <td>22069</td>\n",
       "      <td>32369</td>\n",
       "      <td>pcre.org</td>\n",
       "      <td>org</td>\n",
       "      <td>1135</td>\n",
       "      <td>140</td>\n",
       "      <td>22063</td>\n",
       "      <td>32341</td>\n",
       "      <td>-1</td>\n",
       "      <td>reputed</td>\n",
       "    </tr>\n",
       "    <tr>\n",
       "      <th>1127</th>\n",
       "      <td>1128</td>\n",
       "      <td>2</td>\n",
       "      <td>unam.mx</td>\n",
       "      <td>mx</td>\n",
       "      <td>22064</td>\n",
       "      <td>36289</td>\n",
       "      <td>unam.mx</td>\n",
       "      <td>mx</td>\n",
       "      <td>1134</td>\n",
       "      <td>2</td>\n",
       "      <td>22065</td>\n",
       "      <td>36258</td>\n",
       "      <td>-1</td>\n",
       "      <td>mx</td>\n",
       "    </tr>\n",
       "    <tr>\n",
       "      <th>1128</th>\n",
       "      <td>1129</td>\n",
       "      <td>639</td>\n",
       "      <td>timesofisrael.com</td>\n",
       "      <td>com</td>\n",
       "      <td>22057</td>\n",
       "      <td>43141</td>\n",
       "      <td>timesofisrael.com</td>\n",
       "      <td>com</td>\n",
       "      <td>1131</td>\n",
       "      <td>641</td>\n",
       "      <td>22087</td>\n",
       "      <td>43150</td>\n",
       "      <td>1</td>\n",
       "      <td>reputed</td>\n",
       "    </tr>\n",
       "    <tr>\n",
       "      <th>1129</th>\n",
       "      <td>1130</td>\n",
       "      <td>640</td>\n",
       "      <td>macrumors.com</td>\n",
       "      <td>com</td>\n",
       "      <td>22054</td>\n",
       "      <td>42672</td>\n",
       "      <td>macrumors.com</td>\n",
       "      <td>com</td>\n",
       "      <td>1128</td>\n",
       "      <td>640</td>\n",
       "      <td>22146</td>\n",
       "      <td>42728</td>\n",
       "      <td>1</td>\n",
       "      <td>reputed</td>\n",
       "    </tr>\n",
       "    <tr>\n",
       "      <th>1130</th>\n",
       "      <td>1131</td>\n",
       "      <td>7</td>\n",
       "      <td>ca.us</td>\n",
       "      <td>us</td>\n",
       "      <td>22043</td>\n",
       "      <td>39942</td>\n",
       "      <td>ca.us</td>\n",
       "      <td>us</td>\n",
       "      <td>1130</td>\n",
       "      <td>7</td>\n",
       "      <td>22103</td>\n",
       "      <td>40008</td>\n",
       "      <td>-1</td>\n",
       "      <td>us</td>\n",
       "    </tr>\n",
       "    <tr>\n",
       "      <th>1131</th>\n",
       "      <td>1132</td>\n",
       "      <td>641</td>\n",
       "      <td>ford.com</td>\n",
       "      <td>com</td>\n",
       "      <td>22041</td>\n",
       "      <td>40955</td>\n",
       "      <td>ford.com</td>\n",
       "      <td>com</td>\n",
       "      <td>1139</td>\n",
       "      <td>646</td>\n",
       "      <td>22030</td>\n",
       "      <td>41048</td>\n",
       "      <td>1</td>\n",
       "      <td>reputed</td>\n",
       "    </tr>\n",
       "    <tr>\n",
       "      <th>1132</th>\n",
       "      <td>1133</td>\n",
       "      <td>642</td>\n",
       "      <td>observer.com</td>\n",
       "      <td>com</td>\n",
       "      <td>22030</td>\n",
       "      <td>42854</td>\n",
       "      <td>observer.com</td>\n",
       "      <td>com</td>\n",
       "      <td>1132</td>\n",
       "      <td>642</td>\n",
       "      <td>22085</td>\n",
       "      <td>42989</td>\n",
       "      <td>1</td>\n",
       "      <td>reputed</td>\n",
       "    </tr>\n",
       "    <tr>\n",
       "      <th>1133</th>\n",
       "      <td>1134</td>\n",
       "      <td>58</td>\n",
       "      <td>gpo.gov</td>\n",
       "      <td>gov</td>\n",
       "      <td>22030</td>\n",
       "      <td>37520</td>\n",
       "      <td>gpo.gov</td>\n",
       "      <td>gov</td>\n",
       "      <td>1146</td>\n",
       "      <td>58</td>\n",
       "      <td>21970</td>\n",
       "      <td>37567</td>\n",
       "      <td>-1</td>\n",
       "      <td>reputed</td>\n",
       "    </tr>\n",
       "    <tr>\n",
       "      <th>1134</th>\n",
       "      <td>1135</td>\n",
       "      <td>643</td>\n",
       "      <td>inquirer.com</td>\n",
       "      <td>com</td>\n",
       "      <td>22028</td>\n",
       "      <td>44439</td>\n",
       "      <td>inquirer.com</td>\n",
       "      <td>com</td>\n",
       "      <td>1136</td>\n",
       "      <td>644</td>\n",
       "      <td>22056</td>\n",
       "      <td>44573</td>\n",
       "      <td>1</td>\n",
       "      <td>reputed</td>\n",
       "    </tr>\n",
       "    <tr>\n",
       "      <th>1135</th>\n",
       "      <td>1136</td>\n",
       "      <td>644</td>\n",
       "      <td>mac.com</td>\n",
       "      <td>com</td>\n",
       "      <td>22022</td>\n",
       "      <td>38598</td>\n",
       "      <td>mac.com</td>\n",
       "      <td>com</td>\n",
       "      <td>1133</td>\n",
       "      <td>643</td>\n",
       "      <td>22073</td>\n",
       "      <td>38661</td>\n",
       "      <td>1</td>\n",
       "      <td>reputed</td>\n",
       "    </tr>\n",
       "    <tr>\n",
       "      <th>1136</th>\n",
       "      <td>1137</td>\n",
       "      <td>141</td>\n",
       "      <td>memcached.org</td>\n",
       "      <td>org</td>\n",
       "      <td>22014</td>\n",
       "      <td>32484</td>\n",
       "      <td>memcached.org</td>\n",
       "      <td>org</td>\n",
       "      <td>1140</td>\n",
       "      <td>141</td>\n",
       "      <td>22011</td>\n",
       "      <td>32461</td>\n",
       "      <td>-1</td>\n",
       "      <td>reputed</td>\n",
       "    </tr>\n",
       "    <tr>\n",
       "      <th>1137</th>\n",
       "      <td>1138</td>\n",
       "      <td>142</td>\n",
       "      <td>ama-assn.org</td>\n",
       "      <td>org</td>\n",
       "      <td>22009</td>\n",
       "      <td>39209</td>\n",
       "      <td>ama-assn.org</td>\n",
       "      <td>org</td>\n",
       "      <td>1142</td>\n",
       "      <td>142</td>\n",
       "      <td>21994</td>\n",
       "      <td>39270</td>\n",
       "      <td>-1</td>\n",
       "      <td>reputed</td>\n",
       "    </tr>\n",
       "    <tr>\n",
       "      <th>1138</th>\n",
       "      <td>1139</td>\n",
       "      <td>645</td>\n",
       "      <td>sophos.com</td>\n",
       "      <td>com</td>\n",
       "      <td>21982</td>\n",
       "      <td>36434</td>\n",
       "      <td>sophos.com</td>\n",
       "      <td>com</td>\n",
       "      <td>1116</td>\n",
       "      <td>633</td>\n",
       "      <td>22346</td>\n",
       "      <td>37051</td>\n",
       "      <td>1</td>\n",
       "      <td>reputed</td>\n",
       "    </tr>\n",
       "    <tr>\n",
       "      <th>1139</th>\n",
       "      <td>1140</td>\n",
       "      <td>646</td>\n",
       "      <td>shutterfly.com</td>\n",
       "      <td>com</td>\n",
       "      <td>21980</td>\n",
       "      <td>44454</td>\n",
       "      <td>shutterfly.com</td>\n",
       "      <td>com</td>\n",
       "      <td>1137</td>\n",
       "      <td>645</td>\n",
       "      <td>22048</td>\n",
       "      <td>44414</td>\n",
       "      <td>1</td>\n",
       "      <td>reputed</td>\n",
       "    </tr>\n",
       "    <tr>\n",
       "      <th>1140</th>\n",
       "      <td>1141</td>\n",
       "      <td>10</td>\n",
       "      <td>heise.de</td>\n",
       "      <td>de</td>\n",
       "      <td>21977</td>\n",
       "      <td>47529</td>\n",
       "      <td>heise.de</td>\n",
       "      <td>de</td>\n",
       "      <td>1148</td>\n",
       "      <td>10</td>\n",
       "      <td>21951</td>\n",
       "      <td>47538</td>\n",
       "      <td>-1</td>\n",
       "      <td>de</td>\n",
       "    </tr>\n",
       "    <tr>\n",
       "      <th>1141</th>\n",
       "      <td>1142</td>\n",
       "      <td>647</td>\n",
       "      <td>000webhostapp.com</td>\n",
       "      <td>com</td>\n",
       "      <td>21976</td>\n",
       "      <td>41787</td>\n",
       "      <td>000webhostapp.com</td>\n",
       "      <td>com</td>\n",
       "      <td>1141</td>\n",
       "      <td>647</td>\n",
       "      <td>22007</td>\n",
       "      <td>41774</td>\n",
       "      <td>1</td>\n",
       "      <td>reputed</td>\n",
       "    </tr>\n",
       "    <tr>\n",
       "      <th>1142</th>\n",
       "      <td>1143</td>\n",
       "      <td>648</td>\n",
       "      <td>penguinrandomhouse.com</td>\n",
       "      <td>com</td>\n",
       "      <td>21970</td>\n",
       "      <td>42028</td>\n",
       "      <td>penguinrandomhouse.com</td>\n",
       "      <td>com</td>\n",
       "      <td>1147</td>\n",
       "      <td>649</td>\n",
       "      <td>21954</td>\n",
       "      <td>41916</td>\n",
       "      <td>1</td>\n",
       "      <td>reputed</td>\n",
       "    </tr>\n",
       "    <tr>\n",
       "      <th>1143</th>\n",
       "      <td>1144</td>\n",
       "      <td>3</td>\n",
       "      <td>webflow.io</td>\n",
       "      <td>io</td>\n",
       "      <td>21970</td>\n",
       "      <td>38943</td>\n",
       "      <td>webflow.io</td>\n",
       "      <td>io</td>\n",
       "      <td>1163</td>\n",
       "      <td>3</td>\n",
       "      <td>21723</td>\n",
       "      <td>38269</td>\n",
       "      <td>-1</td>\n",
       "      <td>io</td>\n",
       "    </tr>\n",
       "    <tr>\n",
       "      <th>1144</th>\n",
       "      <td>1145</td>\n",
       "      <td>1</td>\n",
       "      <td>home.blog</td>\n",
       "      <td>blog</td>\n",
       "      <td>21969</td>\n",
       "      <td>40818</td>\n",
       "      <td>home.blog</td>\n",
       "      <td>blog</td>\n",
       "      <td>1143</td>\n",
       "      <td>1</td>\n",
       "      <td>21992</td>\n",
       "      <td>40863</td>\n",
       "      <td>-1</td>\n",
       "      <td>blog</td>\n",
       "    </tr>\n",
       "    <tr>\n",
       "      <th>1145</th>\n",
       "      <td>1146</td>\n",
       "      <td>4</td>\n",
       "      <td>mega.nz</td>\n",
       "      <td>nz</td>\n",
       "      <td>21948</td>\n",
       "      <td>43981</td>\n",
       "      <td>mega.nz</td>\n",
       "      <td>nz</td>\n",
       "      <td>1144</td>\n",
       "      <td>4</td>\n",
       "      <td>21978</td>\n",
       "      <td>43859</td>\n",
       "      <td>-1</td>\n",
       "      <td>nz</td>\n",
       "    </tr>\n",
       "    <tr>\n",
       "      <th>1146</th>\n",
       "      <td>1147</td>\n",
       "      <td>4</td>\n",
       "      <td>amazon.in</td>\n",
       "      <td>in</td>\n",
       "      <td>21930</td>\n",
       "      <td>53112</td>\n",
       "      <td>amazon.in</td>\n",
       "      <td>in</td>\n",
       "      <td>1138</td>\n",
       "      <td>4</td>\n",
       "      <td>22038</td>\n",
       "      <td>53169</td>\n",
       "      <td>-1</td>\n",
       "      <td>reputed</td>\n",
       "    </tr>\n",
       "    <tr>\n",
       "      <th>1147</th>\n",
       "      <td>1148</td>\n",
       "      <td>4</td>\n",
       "      <td>iso.ch</td>\n",
       "      <td>ch</td>\n",
       "      <td>21881</td>\n",
       "      <td>31321</td>\n",
       "      <td>iso.ch</td>\n",
       "      <td>ch</td>\n",
       "      <td>1149</td>\n",
       "      <td>4</td>\n",
       "      <td>21898</td>\n",
       "      <td>31285</td>\n",
       "      <td>-1</td>\n",
       "      <td>ch</td>\n",
       "    </tr>\n",
       "    <tr>\n",
       "      <th>1148</th>\n",
       "      <td>1149</td>\n",
       "      <td>649</td>\n",
       "      <td>flipsnack.com</td>\n",
       "      <td>com</td>\n",
       "      <td>21865</td>\n",
       "      <td>34911</td>\n",
       "      <td>flipsnack.com</td>\n",
       "      <td>com</td>\n",
       "      <td>1152</td>\n",
       "      <td>652</td>\n",
       "      <td>21869</td>\n",
       "      <td>34982</td>\n",
       "      <td>1</td>\n",
       "      <td>reputed</td>\n",
       "    </tr>\n",
       "    <tr>\n",
       "      <th>1149</th>\n",
       "      <td>1150</td>\n",
       "      <td>650</td>\n",
       "      <td>hatenablog.com</td>\n",
       "      <td>com</td>\n",
       "      <td>21863</td>\n",
       "      <td>45237</td>\n",
       "      <td>hatenablog.com</td>\n",
       "      <td>com</td>\n",
       "      <td>1145</td>\n",
       "      <td>648</td>\n",
       "      <td>21972</td>\n",
       "      <td>45386</td>\n",
       "      <td>1</td>\n",
       "      <td>reputed</td>\n",
       "    </tr>\n",
       "  </tbody>\n",
       "</table>\n",
       "</div>"
      ],
      "text/plain": [
       "      GlobalRank  TldRank                  Domain   TLD  RefSubNets  RefIPs  \\\n",
       "1100        1101       73                 hbs.edu   edu       22446   40590   \n",
       "1101        1102      625                  ew.com   com       22444   45758   \n",
       "1102        1103      626                  xe.com   com       22436   37958   \n",
       "1103        1104      134            videolan.org   org       22427   38279   \n",
       "1104        1105      627                 mtv.com   com       22425   42142   \n",
       "1105        1106        8         liveinternet.ru    ru       22424   46474   \n",
       "1106        1107       21                zlib.net   net       22409   32676   \n",
       "1107        1108      628                 tmz.com   com       22379   47051   \n",
       "1108        1109      629                 upi.com   com       22374   42164   \n",
       "1109        1110      630        staticflickr.com   com       22365   40675   \n",
       "1110        1111       57            uscourts.gov   gov       22346   43903   \n",
       "1111        1112      631             discogs.com   com       22344   41887   \n",
       "1112        1113      632      verywellhealth.com   com       22308   45043   \n",
       "1113        1114      135            lifehack.org   org       22300   44286   \n",
       "1114        1115      633        reverbnation.com   com       22235   43151   \n",
       "1115        1116      634           homestead.com   com       22232   40005   \n",
       "1116        1117      635          thebalance.com   com       22221   44774   \n",
       "1117        1118      636        nationalpost.com   com       22211   42094   \n",
       "1118        1119        1               page.link  link       22196   40810   \n",
       "1119        1120      637           thespruce.com   com       22184   46886   \n",
       "1120        1121        3          nzherald.co.nz    nz       22184   41844   \n",
       "1121        1122      136             doxygen.org   org       22184   32340   \n",
       "1122        1123      137              libpng.org   org       22155   32293   \n",
       "1123        1124      638            filesusr.com   com       22143   35999   \n",
       "1124        1125      138               unhcr.org   org       22126   40144   \n",
       "1125        1126      139          openoffice.org   org       22102   36121   \n",
       "1126        1127      140                pcre.org   org       22069   32369   \n",
       "1127        1128        2                 unam.mx    mx       22064   36289   \n",
       "1128        1129      639       timesofisrael.com   com       22057   43141   \n",
       "1129        1130      640           macrumors.com   com       22054   42672   \n",
       "1130        1131        7                   ca.us    us       22043   39942   \n",
       "1131        1132      641                ford.com   com       22041   40955   \n",
       "1132        1133      642            observer.com   com       22030   42854   \n",
       "1133        1134       58                 gpo.gov   gov       22030   37520   \n",
       "1134        1135      643            inquirer.com   com       22028   44439   \n",
       "1135        1136      644                 mac.com   com       22022   38598   \n",
       "1136        1137      141           memcached.org   org       22014   32484   \n",
       "1137        1138      142            ama-assn.org   org       22009   39209   \n",
       "1138        1139      645              sophos.com   com       21982   36434   \n",
       "1139        1140      646          shutterfly.com   com       21980   44454   \n",
       "1140        1141       10                heise.de    de       21977   47529   \n",
       "1141        1142      647       000webhostapp.com   com       21976   41787   \n",
       "1142        1143      648  penguinrandomhouse.com   com       21970   42028   \n",
       "1143        1144        3              webflow.io    io       21970   38943   \n",
       "1144        1145        1               home.blog  blog       21969   40818   \n",
       "1145        1146        4                 mega.nz    nz       21948   43981   \n",
       "1146        1147        4               amazon.in    in       21930   53112   \n",
       "1147        1148        4                  iso.ch    ch       21881   31321   \n",
       "1148        1149      649           flipsnack.com   com       21865   34911   \n",
       "1149        1150      650          hatenablog.com   com       21863   45237   \n",
       "\n",
       "                  IDN_Domain IDN_TLD  PrevGlobalRank  PrevTldRank  \\\n",
       "1100                 hbs.edu     edu            1105           73   \n",
       "1101                  ew.com     com            1103          624   \n",
       "1102                  xe.com     com            1106          626   \n",
       "1103            videolan.org     org            1102          134   \n",
       "1104                 mtv.com     com            1104          625   \n",
       "1105         liveinternet.ru      ru            1101            8   \n",
       "1106                zlib.net     net            1109           21   \n",
       "1107                 tmz.com     com            1112          630   \n",
       "1108                 upi.com     com            1114          631   \n",
       "1109        staticflickr.com     com            1115          632   \n",
       "1110            uscourts.gov     gov            1113           57   \n",
       "1111             discogs.com     com            1108          628   \n",
       "1112      verywellhealth.com     com            1121          638   \n",
       "1113            lifehack.org     org            1110          135   \n",
       "1114        reverbnation.com     com            1120          637   \n",
       "1115           homestead.com     com            1111          629   \n",
       "1116          thebalance.com     com            1117          634   \n",
       "1117        nationalpost.com     com            1122          639   \n",
       "1118               page.link    link            1125            1   \n",
       "1119           thespruce.com     com            1119          636   \n",
       "1120          nzherald.co.nz      nz            1123            3   \n",
       "1121             doxygen.org     org            1124          136   \n",
       "1122              libpng.org     org            1126          137   \n",
       "1123            filesusr.com     com            1118          635   \n",
       "1124               unhcr.org     org            1127          138   \n",
       "1125          openoffice.org     org            1129          139   \n",
       "1126                pcre.org     org            1135          140   \n",
       "1127                 unam.mx      mx            1134            2   \n",
       "1128       timesofisrael.com     com            1131          641   \n",
       "1129           macrumors.com     com            1128          640   \n",
       "1130                   ca.us      us            1130            7   \n",
       "1131                ford.com     com            1139          646   \n",
       "1132            observer.com     com            1132          642   \n",
       "1133                 gpo.gov     gov            1146           58   \n",
       "1134            inquirer.com     com            1136          644   \n",
       "1135                 mac.com     com            1133          643   \n",
       "1136           memcached.org     org            1140          141   \n",
       "1137            ama-assn.org     org            1142          142   \n",
       "1138              sophos.com     com            1116          633   \n",
       "1139          shutterfly.com     com            1137          645   \n",
       "1140                heise.de      de            1148           10   \n",
       "1141       000webhostapp.com     com            1141          647   \n",
       "1142  penguinrandomhouse.com     com            1147          649   \n",
       "1143              webflow.io      io            1163            3   \n",
       "1144               home.blog    blog            1143            1   \n",
       "1145                 mega.nz      nz            1144            4   \n",
       "1146               amazon.in      in            1138            4   \n",
       "1147                  iso.ch      ch            1149            4   \n",
       "1148           flipsnack.com     com            1152          652   \n",
       "1149          hatenablog.com     com            1145          648   \n",
       "\n",
       "      PrevRefSubNets  PrevRefIPs  TLDDummy_col TLD_status  \n",
       "1100           22438       40541            -1    reputed  \n",
       "1101           22451       45682             1    reputed  \n",
       "1102           22438       37927             1    reputed  \n",
       "1103           22452       38345            -1    reputed  \n",
       "1104           22439       42192             1    reputed  \n",
       "1105           22465       46359            -1         ru  \n",
       "1106           22388       32612            -1    reputed  \n",
       "1107           22378       47042             1    reputed  \n",
       "1108           22352       42174             1    reputed  \n",
       "1109           22347       40678             1    reputed  \n",
       "1110           22369       43955            -1    reputed  \n",
       "1111           22407       41951             1    reputed  \n",
       "1112           22242       44967             1    reputed  \n",
       "1113           22385       44368            -1    reputed  \n",
       "1114           22259       43166             1    reputed  \n",
       "1115           22379       40150             1    reputed  \n",
       "1116           22314       45000             1    reputed  \n",
       "1117           22233       42159             1    reputed  \n",
       "1118           22203       40753            -1       link  \n",
       "1119           22266       46974             1    reputed  \n",
       "1120           22208       41840            -1         nz  \n",
       "1121           22205       32301            -1    reputed  \n",
       "1122           22161       32280            -1    reputed  \n",
       "1123           22311       36289             1    reputed  \n",
       "1124           22158       40215            -1    reputed  \n",
       "1125           22141       36112            -1    reputed  \n",
       "1126           22063       32341            -1    reputed  \n",
       "1127           22065       36258            -1         mx  \n",
       "1128           22087       43150             1    reputed  \n",
       "1129           22146       42728             1    reputed  \n",
       "1130           22103       40008            -1         us  \n",
       "1131           22030       41048             1    reputed  \n",
       "1132           22085       42989             1    reputed  \n",
       "1133           21970       37567            -1    reputed  \n",
       "1134           22056       44573             1    reputed  \n",
       "1135           22073       38661             1    reputed  \n",
       "1136           22011       32461            -1    reputed  \n",
       "1137           21994       39270            -1    reputed  \n",
       "1138           22346       37051             1    reputed  \n",
       "1139           22048       44414             1    reputed  \n",
       "1140           21951       47538            -1         de  \n",
       "1141           22007       41774             1    reputed  \n",
       "1142           21954       41916             1    reputed  \n",
       "1143           21723       38269            -1         io  \n",
       "1144           21992       40863            -1       blog  \n",
       "1145           21978       43859            -1         nz  \n",
       "1146           22038       53169            -1    reputed  \n",
       "1147           21898       31285            -1         ch  \n",
       "1148           21869       34982             1    reputed  \n",
       "1149           21972       45386             1    reputed  "
      ]
     },
     "execution_count": 114,
     "metadata": {},
     "output_type": "execute_result"
    }
   ],
   "source": [
    "# Given a scenario: Suppose there are some good and reputed TLDs that you want to group together from \n",
    "#the rest of the TLDs. The following approach will work:\n",
    "\n",
    "tld_categories = [\"com\",\"net\",\"org\",\"uk\",\"au\",\"in\", \"gov\", \"edu\", \"tool\"]\n",
    "status = [\"reputed\", \"reputed\", \"reputed\", \"reputed\", \"reputed\",\"reputed\", \"reputed\", \"reputed\", \"non-reputed\"]\n",
    "\n",
    "data['TLD_status'] = data['TLD'].replace(tld_categories, status)  # created a new variable \"TLD_status\"\n",
    "data[1100:1150]"
   ]
  },
  {
   "cell_type": "markdown",
   "id": "bcbfdabf",
   "metadata": {},
   "source": [
    "# Value Item Counts from a Column"
   ]
  },
  {
   "cell_type": "code",
   "execution_count": 254,
   "id": "a68ab0cf",
   "metadata": {
    "scrolled": true
   },
   "outputs": [
    {
     "data": {
      "text/plain": [
       "com         495696\n",
       "org          84078\n",
       "net          37227\n",
       "ru           34813\n",
       "de           29626\n",
       "             ...  \n",
       "trading          1\n",
       "gu               1\n",
       "shiksha          1\n",
       "ltda             1\n",
       "plumbing         1\n",
       "Name: TLD, Length: 838, dtype: int64"
      ]
     },
     "execution_count": 254,
     "metadata": {},
     "output_type": "execute_result"
    }
   ],
   "source": [
    "# Let's think of drawing a bar plot for the various TLD counts- We are interested in the top 5 TLDs\n",
    "data[\"TLD\"].value_counts()"
   ]
  },
  {
   "cell_type": "code",
   "execution_count": 255,
   "id": "5c02b537",
   "metadata": {},
   "outputs": [],
   "source": [
    "# Complex filtering #2, with a list\n",
    "\n",
    "tld_list = ['com','net', 'org', 'ru', 'de']\n",
    "top_5_tld_df = data[data['TLD'].isin(tld_list)]\n",
    "#three_tld_only_df = data[data['TLD'].isin(tld_list)]\n"
   ]
  },
  {
   "cell_type": "code",
   "execution_count": 256,
   "id": "1603bc6f",
   "metadata": {},
   "outputs": [
    {
     "data": {
      "text/plain": [
       "com          495696\n",
       "org           84078\n",
       "net           37227\n",
       "ru            34813\n",
       "de            29626\n",
       "              ...  \n",
       "furniture         0\n",
       "futbol            0\n",
       "fyi               0\n",
       "ga                0\n",
       "zw                0\n",
       "Name: TLD, Length: 838, dtype: int64"
      ]
     },
     "execution_count": 256,
     "metadata": {},
     "output_type": "execute_result"
    }
   ],
   "source": [
    "top_5_tld_df[\"TLD\"].value_counts() "
   ]
  },
  {
   "cell_type": "code",
   "execution_count": 257,
   "id": "fcafda0a",
   "metadata": {},
   "outputs": [
    {
     "data": {
      "text/plain": [
       "com          0.727424\n",
       "org          0.123383\n",
       "net          0.054630\n",
       "ru           0.051087\n",
       "de           0.043476\n",
       "               ...   \n",
       "furniture    0.000000\n",
       "futbol       0.000000\n",
       "fyi          0.000000\n",
       "ga           0.000000\n",
       "zw           0.000000\n",
       "Name: TLD, Length: 838, dtype: float64"
      ]
     },
     "execution_count": 257,
     "metadata": {},
     "output_type": "execute_result"
    }
   ],
   "source": [
    "top_5_tld_df[\"TLD\"].value_counts(normalize=True) #relative frequencies instead of normal frequencies"
   ]
  },
  {
   "cell_type": "code",
   "execution_count": 258,
   "id": "4337876d",
   "metadata": {},
   "outputs": [
    {
     "data": {
      "text/plain": [
       "com    495696\n",
       "org     84078\n",
       "net     37227\n",
       "ru      34813\n",
       "de      29626\n",
       "Name: TLD, dtype: int64"
      ]
     },
     "execution_count": 258,
     "metadata": {},
     "output_type": "execute_result"
    }
   ],
   "source": [
    "top_5_tld_df[\"TLD\"].value_counts()[0:5] "
   ]
  },
  {
   "cell_type": "code",
   "execution_count": 259,
   "id": "52aa1cca",
   "metadata": {},
   "outputs": [
    {
     "data": {
      "image/png": "[encoded data removed]",
      "text/plain": [
       "<Figure size 640x480 with 1 Axes>"
      ]
     },
     "metadata": {},
     "output_type": "display_data"
    }
   ],
   "source": [
    "top_5_tld_df['TLD'].value_counts()[0:5].plot(kind='bar');"
   ]
  },
  {
   "cell_type": "code",
   "execution_count": 260,
   "id": "80b4d7b0",
   "metadata": {},
   "outputs": [
    {
     "data": {
      "image/png": "[encoded data removed]",
      "text/plain": [
       "<Figure size 700x600 with 1 Axes>"
      ]
     },
     "metadata": {},
     "output_type": "display_data"
    }
   ],
   "source": [
    "# more design and information on the plots\n",
    "\n",
    "sns.set(font_scale=1.4)\n",
    "top_5_tld_df['TLD'].value_counts()[0:5].plot(kind='bar', figsize=(7, 6), rot=0)\n",
    "plt.xlabel(\"TLD\", labelpad=14)\n",
    "plt.ylabel(\"Count of Websites\", labelpad=14)\n",
    "plt.title(\"Frequency Count of Websites hosted under the top five TLD host\", y=1.02);"
   ]
  },
  {
   "cell_type": "code",
   "execution_count": 263,
   "id": "565b824c",
   "metadata": {},
   "outputs": [
    {
     "data": {
      "image/png": "[encoded data removed]",
      "text/plain": [
       "<Figure size 700x600 with 1 Axes>"
      ]
     },
     "metadata": {},
     "output_type": "display_data"
    }
   ],
   "source": [
    "# more design and information on the plots\n",
    "\n",
    "sns.set(font_scale=1.4)\n",
    "top_5_tld_df['TLD'].value_counts()[0:5].plot(kind='barh', figsize=(7, 6), rot=0)\n",
    "plt.xlabel(\"Count of Websites\", labelpad=14)\n",
    "plt.ylabel(\"TLDs\", labelpad=14)\n",
    "plt.title(\"Frequency Count of Websites hosted under the top five TLD host\", y=1.02);"
   ]
  },
  {
   "cell_type": "code",
   "execution_count": null,
   "id": "ca5cbcf4",
   "metadata": {},
   "outputs": [],
   "source": []
  }
 ],
 "metadata": {
  "kernelspec": {
   "display_name": "Python 3 (ipykernel)",
   "language": "python",
   "name": "python3"
  },
  "language_info": {
   "codemirror_mode": {
    "name": "ipython",
    "version": 3
   },
   "file_extension": ".py",
   "mimetype": "text/x-python",
   "name": "python",
   "nbconvert_exporter": "python",
   "pygments_lexer": "ipython3",
   "version": "3.9.13"
  }
 },
 "nbformat": 4,
 "nbformat_minor": 5
}
