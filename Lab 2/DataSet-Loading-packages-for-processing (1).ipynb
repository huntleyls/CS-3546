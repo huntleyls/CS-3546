{
 "cells": [
  {
   "cell_type": "code",
   "execution_count": 131,
   "id": "bff8ced4",
   "metadata": {},
   "outputs": [],
   "source": [
    "import pandas as pd"
   ]
  },
  {
   "cell_type": "code",
   "execution_count": 3,
   "id": "9e2eb263",
   "metadata": {},
   "outputs": [],
   "source": [
    "import urllib"
   ]
  },
  {
   "cell_type": "code",
   "execution_count": 24,
   "id": "74a2a60d",
   "metadata": {},
   "outputs": [],
   "source": [
    "import os.path\n",
    "import re"
   ]
  },
  {
   "cell_type": "code",
   "execution_count": 132,
   "id": "2f95b616",
   "metadata": {},
   "outputs": [
    {
     "name": "stdout",
     "output_type": "stream",
     "text": [
      "\u001b[31mERROR: Could not find a version that satisfies the requirement xelatex (from versions: none)\u001b[0m\u001b[31m\r\n",
      "\u001b[0m\u001b[31mERROR: No matching distribution found for xelatex\u001b[0m\u001b[31m\r\n",
      "\u001b[0m"
     ]
    }
   ],
   "source": []
  },
  {
   "cell_type": "code",
   "execution_count": 48,
   "id": "ed03deeb",
   "metadata": {},
   "outputs": [
    {
     "name": "stdout",
     "output_type": "stream",
     "text": [
      "Collecting tld\n",
      "  Downloading tld-0.12.7-py39-none-any.whl (263 kB)\n",
      "\u001b[2K     \u001b[90m━━━━━━━━━━━━━━━━━━━━━━━━━━━━━━━━━━━━━\u001b[0m \u001b[32m263.1/263.1 kB\u001b[0m \u001b[31m840.2 kB/s\u001b[0m eta \u001b[36m0:00:00\u001b[0ma \u001b[36m0:00:01\u001b[0m\n",
      "\u001b[?25hInstalling collected packages: tld\n",
      "Successfully installed tld-0.12.7\n"
     ]
    }
   ],
   "source": [
    "!pip install tld"
   ]
  },
  {
   "cell_type": "code",
   "execution_count": null,
   "id": "f3777a7b",
   "metadata": {},
   "outputs": [],
   "source": []
  },
  {
   "cell_type": "code",
   "execution_count": 49,
   "id": "acd03777",
   "metadata": {},
   "outputs": [],
   "source": [
    "from tld import get_tld"
   ]
  },
  {
   "cell_type": "code",
   "execution_count": 67,
   "id": "eae6bd0f",
   "metadata": {},
   "outputs": [],
   "source": [
    "import tldextract\n"
   ]
  },
  {
   "cell_type": "code",
   "execution_count": 102,
   "id": "0424018e",
   "metadata": {},
   "outputs": [
    {
     "name": "stdout",
     "output_type": "stream",
     "text": [
      "Collecting python-whois\n",
      "  Downloading python-whois-0.8.0.tar.gz (109 kB)\n",
      "\u001b[2K     \u001b[90m━━━━━━━━━━━━━━━━━━━━━━━━━━━━━━━━━━━━━━━\u001b[0m \u001b[32m109.6/109.6 kB\u001b[0m \u001b[31m2.0 MB/s\u001b[0m eta \u001b[36m0:00:00\u001b[0ma \u001b[36m0:00:01\u001b[0m\n",
      "\u001b[?25h  Preparing metadata (setup.py) ... \u001b[?25ldone\n",
      "\u001b[?25hRequirement already satisfied: future in /Users/ahsanpritommm/opt/anaconda3/lib/python3.9/site-packages (from python-whois) (0.18.2)\n",
      "Building wheels for collected packages: python-whois\n",
      "  Building wheel for python-whois (setup.py) ... \u001b[?25ldone\n",
      "\u001b[?25h  Created wheel for python-whois: filename=python_whois-0.8.0-py3-none-any.whl size=103247 sha256=664913ae595b82c84c1e30e49a8773310d3a902e86af17cfa63d6b32bd680d86\n",
      "  Stored in directory: /Users/ahsanpritommm/Library/Caches/pip/wheels/e6/e9/d3/1e41a6c95b398de12c5a332ff28805aa44e68aa317ea60266d\n",
      "Successfully built python-whois\n",
      "Installing collected packages: python-whois\n",
      "Successfully installed python-whois-0.8.0\n"
     ]
    }
   ],
   "source": [
    "import tldextract\n"
   ]
  },
  {
   "cell_type": "code",
   "execution_count": 103,
   "id": "2df6078c",
   "metadata": {},
   "outputs": [],
   "source": [
    "import whois"
   ]
  },
  {
   "cell_type": "code",
   "execution_count": 110,
   "id": "f832c116",
   "metadata": {},
   "outputs": [],
   "source": [
    "import datetime\n",
    "from datetime import datetime"
   ]
  },
  {
   "cell_type": "code",
   "execution_count": 7,
   "id": "1bf43aaa",
   "metadata": {},
   "outputs": [],
   "source": [
    "# loading dataset\n",
    "pt_phishing_df_irs = pd.read_csv(\"PhishTank-data-IRS-Feb7_2023.csv\")"
   ]
  },
  {
   "cell_type": "code",
   "execution_count": 72,
   "id": "e3e2c757",
   "metadata": {},
   "outputs": [
    {
     "data": {
      "text/plain": [
       "'edu'"
      ]
     },
     "execution_count": 72,
     "metadata": {},
     "output_type": "execute_result"
    }
   ],
   "source": [
    "# useful way to extract TLD information in a url/hostname\n",
    "get_tld(\"www.youtube.com\", fix_protocol=True)"
   ]
  },
  {
   "cell_type": "code",
   "execution_count": 76,
   "id": "f72f3d71",
   "metadata": {},
   "outputs": [
    {
     "data": {
      "text/plain": [
       "ExtractResult(subdomain='www', domain='google', suffix='com')"
      ]
     },
     "execution_count": 76,
     "metadata": {},
     "output_type": "execute_result"
    }
   ],
   "source": [
    "# tldextract: gives you the power to input any URL and extract subdomain part, domain part, \n",
    "#and suffix (TLD) information\n",
    "tldextract.extract(\"www.google.com\")"
   ]
  },
  {
   "cell_type": "code",
   "execution_count": 90,
   "id": "82cd08fe",
   "metadata": {},
   "outputs": [],
   "source": [
    "# checking if some url is an IP address\n",
    "def is_ip(address):\n",
    "    return address.replace('.', '').isnumeric()"
   ]
  },
  {
   "cell_type": "code",
   "execution_count": 94,
   "id": "bc4a8ba1",
   "metadata": {},
   "outputs": [
    {
     "data": {
      "text/plain": [
       "True"
      ]
     },
     "execution_count": 94,
     "metadata": {},
     "output_type": "execute_result"
    }
   ],
   "source": [
    "is_ip(\"255.0.0.1\")"
   ]
  },
  {
   "cell_type": "code",
   "execution_count": 96,
   "id": "15433237",
   "metadata": {},
   "outputs": [
    {
     "data": {
      "text/plain": [
       "<re.Match object; span=(21, 24), match='irs'>"
      ]
     },
     "execution_count": 96,
     "metadata": {},
     "output_type": "execute_result"
    }
   ],
   "source": [
    "# search specific keywords in a url stirng:\n",
    "# re is a package in python for regular expression, to search for patterns or \n",
    "    #substring in another string\n",
    "re.search(\"irs\",\"www.maliciousguy.com/irs/index.php/\")\n",
    "        "
   ]
  },
  {
   "cell_type": "code",
   "execution_count": null,
   "id": "90b6086b",
   "metadata": {},
   "outputs": [],
   "source": []
  },
  {
   "cell_type": "code",
   "execution_count": 108,
   "id": "aa994b36",
   "metadata": {},
   "outputs": [
    {
     "data": {
      "text/plain": [
       "{'domain_name': ['GOOGLE.COM', 'google.com'],\n",
       " 'registrar': 'MarkMonitor, Inc.',\n",
       " 'whois_server': 'whois.markmonitor.com',\n",
       " 'referral_url': None,\n",
       " 'updated_date': datetime.datetime(2019, 9, 9, 15, 39, 4),\n",
       " 'creation_date': [datetime.datetime(1997, 9, 15, 4, 0),\n",
       "  datetime.datetime(1997, 9, 15, 7, 0)],\n",
       " 'expiration_date': [datetime.datetime(2028, 9, 14, 4, 0),\n",
       "  datetime.datetime(2028, 9, 13, 7, 0)],\n",
       " 'name_servers': ['NS1.GOOGLE.COM',\n",
       "  'NS2.GOOGLE.COM',\n",
       "  'NS3.GOOGLE.COM',\n",
       "  'NS4.GOOGLE.COM',\n",
       "  'ns1.google.com',\n",
       "  'ns2.google.com',\n",
       "  'ns4.google.com',\n",
       "  'ns3.google.com'],\n",
       " 'status': ['clientDeleteProhibited https://icann.org/epp#clientDeleteProhibited',\n",
       "  'clientTransferProhibited https://icann.org/epp#clientTransferProhibited',\n",
       "  'clientUpdateProhibited https://icann.org/epp#clientUpdateProhibited',\n",
       "  'serverDeleteProhibited https://icann.org/epp#serverDeleteProhibited',\n",
       "  'serverTransferProhibited https://icann.org/epp#serverTransferProhibited',\n",
       "  'serverUpdateProhibited https://icann.org/epp#serverUpdateProhibited',\n",
       "  'clientUpdateProhibited (https://www.icann.org/epp#clientUpdateProhibited)',\n",
       "  'clientTransferProhibited (https://www.icann.org/epp#clientTransferProhibited)',\n",
       "  'clientDeleteProhibited (https://www.icann.org/epp#clientDeleteProhibited)',\n",
       "  'serverUpdateProhibited (https://www.icann.org/epp#serverUpdateProhibited)',\n",
       "  'serverTransferProhibited (https://www.icann.org/epp#serverTransferProhibited)',\n",
       "  'serverDeleteProhibited (https://www.icann.org/epp#serverDeleteProhibited)'],\n",
       " 'emails': ['abusecomplaints@markmonitor.com', 'whoisrequest@markmonitor.com'],\n",
       " 'dnssec': 'unsigned',\n",
       " 'name': None,\n",
       " 'org': 'Google LLC',\n",
       " 'address': None,\n",
       " 'city': None,\n",
       " 'state': 'CA',\n",
       " 'registrant_postal_code': None,\n",
       " 'country': 'US'}"
      ]
     },
     "execution_count": 108,
     "metadata": {},
     "output_type": "execute_result"
    }
   ],
   "source": [
    "#WHOIS information for a website/domain\n",
    "#Using python-whois package for extracting whois information!\n",
    "w = whois.whois('google.com')\n",
    "w"
   ]
  },
  {
   "cell_type": "code",
   "execution_count": 128,
   "id": "a2f09449",
   "metadata": {},
   "outputs": [
    {
     "name": "stdout",
     "output_type": "stream",
     "text": [
      "2\n"
     ]
    }
   ],
   "source": [
    "my_string = \"abc_radio.com\"\n",
    "print(my_string.count('o'))\n",
    "#vowels_count = [my_string.count(x) for x in \"aeiou\"]\n",
    "#sum(vowels_count)"
   ]
  },
  {
   "cell_type": "code",
   "execution_count": 124,
   "id": "ed69adf0",
   "metadata": {},
   "outputs": [
    {
     "data": {
      "text/plain": [
       "4"
      ]
     },
     "execution_count": 124,
     "metadata": {},
     "output_type": "execute_result"
    }
   ],
   "source": [
    "sum(vowels_count)"
   ]
  },
  {
   "cell_type": "code",
   "execution_count": 77,
   "id": "fbb5de3d",
   "metadata": {},
   "outputs": [
    {
     "data": {
      "text/html": [
       "<div>\n",
       "<style scoped>\n",
       "    .dataframe tbody tr th:only-of-type {\n",
       "        vertical-align: middle;\n",
       "    }\n",
       "\n",
       "    .dataframe tbody tr th {\n",
       "        vertical-align: top;\n",
       "    }\n",
       "\n",
       "    .dataframe thead th {\n",
       "        text-align: right;\n",
       "    }\n",
       "</style>\n",
       "<table border=\"1\" class=\"dataframe\">\n",
       "  <thead>\n",
       "    <tr style=\"text-align: right;\">\n",
       "      <th></th>\n",
       "      <th>Indicator type</th>\n",
       "      <th>Indicator</th>\n",
       "    </tr>\n",
       "  </thead>\n",
       "  <tbody>\n",
       "    <tr>\n",
       "      <th>0</th>\n",
       "      <td>URL</td>\n",
       "      <td>http://myfitness.com.sg/ver02/.s/</td>\n",
       "    </tr>\n",
       "    <tr>\n",
       "      <th>1</th>\n",
       "      <td>URL</td>\n",
       "      <td>http://www.cch.or.kr/board/data/member/index.html</td>\n",
       "    </tr>\n",
       "    <tr>\n",
       "      <th>2</th>\n",
       "      <td>URL</td>\n",
       "      <td>http://inmartek.gr/awwe/index.html</td>\n",
       "    </tr>\n",
       "    <tr>\n",
       "      <th>3</th>\n",
       "      <td>URL</td>\n",
       "      <td>http://blackrv.com/img/bim.htm</td>\n",
       "    </tr>\n",
       "    <tr>\n",
       "      <th>4</th>\n",
       "      <td>URL</td>\n",
       "      <td>http://www.intertechoman.com/wp-scheme.htm</td>\n",
       "    </tr>\n",
       "  </tbody>\n",
       "</table>\n",
       "</div>"
      ],
      "text/plain": [
       "  Indicator type                                          Indicator\n",
       "0            URL                  http://myfitness.com.sg/ver02/.s/\n",
       "1            URL  http://www.cch.or.kr/board/data/member/index.html\n",
       "2            URL                 http://inmartek.gr/awwe/index.html\n",
       "3            URL                     http://blackrv.com/img/bim.htm\n",
       "4            URL         http://www.intertechoman.com/wp-scheme.htm"
      ]
     },
     "execution_count": 77,
     "metadata": {},
     "output_type": "execute_result"
    }
   ],
   "source": [
    "pt_phishing_df_irs.head(5)"
   ]
  },
  {
   "cell_type": "code",
   "execution_count": 78,
   "id": "4d296110",
   "metadata": {},
   "outputs": [
    {
     "data": {
      "text/plain": [
       "(34, 2)"
      ]
     },
     "execution_count": 78,
     "metadata": {},
     "output_type": "execute_result"
    }
   ],
   "source": [
    "pt_phishing_df_irs.shape"
   ]
  },
  {
   "cell_type": "code",
   "execution_count": 17,
   "id": "f5316063",
   "metadata": {},
   "outputs": [],
   "source": [
    "pt_phishing_df_irs = pt_phishing_df_irs.drop(['Description'], axis=1)"
   ]
  },
  {
   "cell_type": "code",
   "execution_count": 129,
   "id": "083207a5",
   "metadata": {},
   "outputs": [],
   "source": [
    "# We want to remove the http or https protocol part from the given URLs. How to do it? \n",
    "hostname_list= []\n",
    "tld_list=[]\n",
    "subdomain_list=[]\n",
    "domain_len_list=[]\n",
    "subdomain_len_list=[]\n",
    "registrar_list= []\n",
    "creation_date_list = []\n",
    "expiration_date_list = []\n",
    "nameservers_list = []\n",
    "vowels_count_list=[]\n",
    "digit_count_list=[]\n",
    "\n",
    "for url in pt_phishing_df_irs['Indicator']:\n",
    "    hostname_with_path = url.split(\"//\")[1]  # split method split any string \n",
    "                                             #based on the character given as input\n",
    "    \n",
    "    #if re.search(\"irs\",hostname_with_path): # let's say you want to see which \n",
    "        #print(hostname_with_path)          # urls has irs keywords\n",
    "    hostname_only = hostname_with_path.split(\"/\")[0]\n",
    "    if not is_ip(hostname_only):\n",
    "        hostname_list.append(hostname_only)\n",
    "        tld = get_tld(hostname_only, fix_protocol=True)\n",
    "        tld_list.append(tld)\n",
    "        subdomain = tldextract.extract(hostname_only).subdomain\n",
    "        subdomain_list.append(subdomain)\n",
    "        domain = tldextract.extract(hostname_only).domain\n",
    "        domain_len_list.append(len(domain))\n",
    "        subdomain_len_list.append(len(subdomain))\n",
    "        vowels_count_domain = [domain.count(x) for x in \"aeiou\"]\n",
    "        vowels_count_list.append(sum(vowels_count_domain))\n",
    "        digits_count_domain = [domain.count(x) for x in \"1234567890\"]\n",
    "        digit_count_list.append(sum(digits_count_domain))\n",
    "        #w = whois.whois(hostname_only)\n",
    "        #registrar = w.registrar\n",
    "        #registrar_list.append(registrar)\n",
    "        #nameservers = w.name_servers\n",
    "        #nameservers_list.append(nameservers)\n",
    "        \n",
    "    \n",
    "data_df= pd.DataFrame(hostname_list, columns=['hostname'])\n",
    "data_df['TLD']= tld_list\n",
    "data_df['subdomain'] = subdomain_list\n",
    "data_df['domain_length'] = domain_len_list\n",
    "data_df['subdomain_length'] = subdomain_len_list\n",
    "data_df['vowel_count']= vowels_count_list\n",
    "data_df['digit_count']= digit_count_list\n",
    "\n",
    "#data_df['registrar']= registrar_list\n",
    "#data_df['creation_date'] = creation_date_list\n",
    "#data_df['expiration_date'] = expiration_date_list\n",
    "#data_df['nameservers'] = nameservers_list\n",
    "\n"
   ]
  },
  {
   "cell_type": "code",
   "execution_count": 130,
   "id": "bfa8d363",
   "metadata": {},
   "outputs": [
    {
     "data": {
      "text/html": [
       "<div>\n",
       "<style scoped>\n",
       "    .dataframe tbody tr th:only-of-type {\n",
       "        vertical-align: middle;\n",
       "    }\n",
       "\n",
       "    .dataframe tbody tr th {\n",
       "        vertical-align: top;\n",
       "    }\n",
       "\n",
       "    .dataframe thead th {\n",
       "        text-align: right;\n",
       "    }\n",
       "</style>\n",
       "<table border=\"1\" class=\"dataframe\">\n",
       "  <thead>\n",
       "    <tr style=\"text-align: right;\">\n",
       "      <th></th>\n",
       "      <th>hostname</th>\n",
       "      <th>TLD</th>\n",
       "      <th>subdomain</th>\n",
       "      <th>domain_length</th>\n",
       "      <th>subdomain_length</th>\n",
       "      <th>vowel_count</th>\n",
       "      <th>digit_count</th>\n",
       "    </tr>\n",
       "  </thead>\n",
       "  <tbody>\n",
       "    <tr>\n",
       "      <th>0</th>\n",
       "      <td>myfitness.com.sg</td>\n",
       "      <td>com.sg</td>\n",
       "      <td></td>\n",
       "      <td>9</td>\n",
       "      <td>0</td>\n",
       "      <td>2</td>\n",
       "      <td>0</td>\n",
       "    </tr>\n",
       "    <tr>\n",
       "      <th>1</th>\n",
       "      <td>www.cch.or.kr</td>\n",
       "      <td>or.kr</td>\n",
       "      <td>www</td>\n",
       "      <td>3</td>\n",
       "      <td>3</td>\n",
       "      <td>0</td>\n",
       "      <td>0</td>\n",
       "    </tr>\n",
       "    <tr>\n",
       "      <th>2</th>\n",
       "      <td>inmartek.gr</td>\n",
       "      <td>gr</td>\n",
       "      <td></td>\n",
       "      <td>8</td>\n",
       "      <td>0</td>\n",
       "      <td>3</td>\n",
       "      <td>0</td>\n",
       "    </tr>\n",
       "    <tr>\n",
       "      <th>3</th>\n",
       "      <td>blackrv.com</td>\n",
       "      <td>com</td>\n",
       "      <td></td>\n",
       "      <td>7</td>\n",
       "      <td>0</td>\n",
       "      <td>1</td>\n",
       "      <td>0</td>\n",
       "    </tr>\n",
       "    <tr>\n",
       "      <th>4</th>\n",
       "      <td>www.intertechoman.com</td>\n",
       "      <td>com</td>\n",
       "      <td>www</td>\n",
       "      <td>13</td>\n",
       "      <td>3</td>\n",
       "      <td>5</td>\n",
       "      <td>0</td>\n",
       "    </tr>\n",
       "    <tr>\n",
       "      <th>5</th>\n",
       "      <td>avestaautoprofile.com</td>\n",
       "      <td>com</td>\n",
       "      <td></td>\n",
       "      <td>17</td>\n",
       "      <td>0</td>\n",
       "      <td>9</td>\n",
       "      <td>0</td>\n",
       "    </tr>\n",
       "    <tr>\n",
       "      <th>6</th>\n",
       "      <td>submit.myjotform.com</td>\n",
       "      <td>com</td>\n",
       "      <td>submit</td>\n",
       "      <td>9</td>\n",
       "      <td>6</td>\n",
       "      <td>2</td>\n",
       "      <td>0</td>\n",
       "    </tr>\n",
       "    <tr>\n",
       "      <th>7</th>\n",
       "      <td>triada.kh.ua</td>\n",
       "      <td>kh.ua</td>\n",
       "      <td></td>\n",
       "      <td>6</td>\n",
       "      <td>0</td>\n",
       "      <td>3</td>\n",
       "      <td>0</td>\n",
       "    </tr>\n",
       "    <tr>\n",
       "      <th>8</th>\n",
       "      <td>exmouthchapel.com</td>\n",
       "      <td>com</td>\n",
       "      <td></td>\n",
       "      <td>13</td>\n",
       "      <td>0</td>\n",
       "      <td>5</td>\n",
       "      <td>0</td>\n",
       "    </tr>\n",
       "    <tr>\n",
       "      <th>9</th>\n",
       "      <td>exmouthchapel.com</td>\n",
       "      <td>com</td>\n",
       "      <td></td>\n",
       "      <td>13</td>\n",
       "      <td>0</td>\n",
       "      <td>5</td>\n",
       "      <td>0</td>\n",
       "    </tr>\n",
       "    <tr>\n",
       "      <th>10</th>\n",
       "      <td>www.cainc.cc</td>\n",
       "      <td>cc</td>\n",
       "      <td>www</td>\n",
       "      <td>5</td>\n",
       "      <td>3</td>\n",
       "      <td>2</td>\n",
       "      <td>0</td>\n",
       "    </tr>\n",
       "    <tr>\n",
       "      <th>11</th>\n",
       "      <td>fpsolutionsaust.com.au</td>\n",
       "      <td>com.au</td>\n",
       "      <td></td>\n",
       "      <td>15</td>\n",
       "      <td>0</td>\n",
       "      <td>6</td>\n",
       "      <td>0</td>\n",
       "    </tr>\n",
       "    <tr>\n",
       "      <th>12</th>\n",
       "      <td>powerhouseproject.ca</td>\n",
       "      <td>ca</td>\n",
       "      <td></td>\n",
       "      <td>17</td>\n",
       "      <td>0</td>\n",
       "      <td>7</td>\n",
       "      <td>0</td>\n",
       "    </tr>\n",
       "    <tr>\n",
       "      <th>13</th>\n",
       "      <td>shared-document.com</td>\n",
       "      <td>com</td>\n",
       "      <td></td>\n",
       "      <td>15</td>\n",
       "      <td>0</td>\n",
       "      <td>5</td>\n",
       "      <td>0</td>\n",
       "    </tr>\n",
       "    <tr>\n",
       "      <th>14</th>\n",
       "      <td>gaelleleberre.com</td>\n",
       "      <td>com</td>\n",
       "      <td></td>\n",
       "      <td>13</td>\n",
       "      <td>0</td>\n",
       "      <td>6</td>\n",
       "      <td>0</td>\n",
       "    </tr>\n",
       "    <tr>\n",
       "      <th>15</th>\n",
       "      <td>www.kaoduen.com.tw</td>\n",
       "      <td>com.tw</td>\n",
       "      <td>www</td>\n",
       "      <td>7</td>\n",
       "      <td>3</td>\n",
       "      <td>4</td>\n",
       "      <td>0</td>\n",
       "    </tr>\n",
       "    <tr>\n",
       "      <th>16</th>\n",
       "      <td>www.kaoduen.com.tw</td>\n",
       "      <td>com.tw</td>\n",
       "      <td>www</td>\n",
       "      <td>7</td>\n",
       "      <td>3</td>\n",
       "      <td>4</td>\n",
       "      <td>0</td>\n",
       "    </tr>\n",
       "    <tr>\n",
       "      <th>17</th>\n",
       "      <td>cpsshareddocument.sharefile.com</td>\n",
       "      <td>com</td>\n",
       "      <td>cpsshareddocument</td>\n",
       "      <td>9</td>\n",
       "      <td>17</td>\n",
       "      <td>4</td>\n",
       "      <td>0</td>\n",
       "    </tr>\n",
       "    <tr>\n",
       "      <th>18</th>\n",
       "      <td>groups.google.com</td>\n",
       "      <td>com</td>\n",
       "      <td>groups</td>\n",
       "      <td>6</td>\n",
       "      <td>6</td>\n",
       "      <td>3</td>\n",
       "      <td>0</td>\n",
       "    </tr>\n",
       "    <tr>\n",
       "      <th>19</th>\n",
       "      <td>shared-document.com</td>\n",
       "      <td>com</td>\n",
       "      <td></td>\n",
       "      <td>15</td>\n",
       "      <td>0</td>\n",
       "      <td>5</td>\n",
       "      <td>0</td>\n",
       "    </tr>\n",
       "    <tr>\n",
       "      <th>20</th>\n",
       "      <td>hendrich123hartwig.rocks</td>\n",
       "      <td>rocks</td>\n",
       "      <td></td>\n",
       "      <td>18</td>\n",
       "      <td>0</td>\n",
       "      <td>4</td>\n",
       "      <td>3</td>\n",
       "    </tr>\n",
       "    <tr>\n",
       "      <th>21</th>\n",
       "      <td>broeschcpapaulbroesch.sharefile.com</td>\n",
       "      <td>com</td>\n",
       "      <td>broeschcpapaulbroesch</td>\n",
       "      <td>9</td>\n",
       "      <td>21</td>\n",
       "      <td>4</td>\n",
       "      <td>0</td>\n",
       "    </tr>\n",
       "    <tr>\n",
       "      <th>22</th>\n",
       "      <td>shccpas.sharefile.com</td>\n",
       "      <td>com</td>\n",
       "      <td>shccpas</td>\n",
       "      <td>9</td>\n",
       "      <td>7</td>\n",
       "      <td>4</td>\n",
       "      <td>0</td>\n",
       "    </tr>\n",
       "    <tr>\n",
       "      <th>23</th>\n",
       "      <td>fmdcpas.sharefile.com</td>\n",
       "      <td>com</td>\n",
       "      <td>fmdcpas</td>\n",
       "      <td>9</td>\n",
       "      <td>7</td>\n",
       "      <td>4</td>\n",
       "      <td>0</td>\n",
       "    </tr>\n",
       "    <tr>\n",
       "      <th>24</th>\n",
       "      <td>my-partytime.com</td>\n",
       "      <td>com</td>\n",
       "      <td></td>\n",
       "      <td>12</td>\n",
       "      <td>0</td>\n",
       "      <td>3</td>\n",
       "      <td>0</td>\n",
       "    </tr>\n",
       "    <tr>\n",
       "      <th>25</th>\n",
       "      <td>robertsdvd.com</td>\n",
       "      <td>com</td>\n",
       "      <td></td>\n",
       "      <td>10</td>\n",
       "      <td>0</td>\n",
       "      <td>2</td>\n",
       "      <td>0</td>\n",
       "    </tr>\n",
       "    <tr>\n",
       "      <th>26</th>\n",
       "      <td>loja.emporiomanjericao.com.br</td>\n",
       "      <td>com.br</td>\n",
       "      <td>loja</td>\n",
       "      <td>17</td>\n",
       "      <td>4</td>\n",
       "      <td>9</td>\n",
       "      <td>0</td>\n",
       "    </tr>\n",
       "    <tr>\n",
       "      <th>27</th>\n",
       "      <td>cooltest.com.cn</td>\n",
       "      <td>com.cn</td>\n",
       "      <td></td>\n",
       "      <td>8</td>\n",
       "      <td>0</td>\n",
       "      <td>3</td>\n",
       "      <td>0</td>\n",
       "    </tr>\n",
       "    <tr>\n",
       "      <th>28</th>\n",
       "      <td>adpportalupdate.typeform.com</td>\n",
       "      <td>com</td>\n",
       "      <td>adpportalupdate</td>\n",
       "      <td>8</td>\n",
       "      <td>15</td>\n",
       "      <td>2</td>\n",
       "      <td>0</td>\n",
       "    </tr>\n",
       "    <tr>\n",
       "      <th>29</th>\n",
       "      <td>adppotral8.typeform.com</td>\n",
       "      <td>com</td>\n",
       "      <td>adppotral8</td>\n",
       "      <td>8</td>\n",
       "      <td>10</td>\n",
       "      <td>2</td>\n",
       "      <td>0</td>\n",
       "    </tr>\n",
       "    <tr>\n",
       "      <th>30</th>\n",
       "      <td>adpportal1.typeform.com</td>\n",
       "      <td>com</td>\n",
       "      <td>adpportal1</td>\n",
       "      <td>8</td>\n",
       "      <td>10</td>\n",
       "      <td>2</td>\n",
       "      <td>0</td>\n",
       "    </tr>\n",
       "    <tr>\n",
       "      <th>31</th>\n",
       "      <td>adp6.typeform.com</td>\n",
       "      <td>com</td>\n",
       "      <td>adp6</td>\n",
       "      <td>8</td>\n",
       "      <td>4</td>\n",
       "      <td>2</td>\n",
       "      <td>0</td>\n",
       "    </tr>\n",
       "    <tr>\n",
       "      <th>32</th>\n",
       "      <td>www.response-o-matic.com</td>\n",
       "      <td>com</td>\n",
       "      <td>www</td>\n",
       "      <td>16</td>\n",
       "      <td>3</td>\n",
       "      <td>6</td>\n",
       "      <td>0</td>\n",
       "    </tr>\n",
       "  </tbody>\n",
       "</table>\n",
       "</div>"
      ],
      "text/plain": [
       "                               hostname     TLD              subdomain  \\\n",
       "0                      myfitness.com.sg  com.sg                          \n",
       "1                         www.cch.or.kr   or.kr                    www   \n",
       "2                           inmartek.gr      gr                          \n",
       "3                           blackrv.com     com                          \n",
       "4                 www.intertechoman.com     com                    www   \n",
       "5                 avestaautoprofile.com     com                          \n",
       "6                  submit.myjotform.com     com                 submit   \n",
       "7                          triada.kh.ua   kh.ua                          \n",
       "8                     exmouthchapel.com     com                          \n",
       "9                     exmouthchapel.com     com                          \n",
       "10                         www.cainc.cc      cc                    www   \n",
       "11               fpsolutionsaust.com.au  com.au                          \n",
       "12                 powerhouseproject.ca      ca                          \n",
       "13                  shared-document.com     com                          \n",
       "14                    gaelleleberre.com     com                          \n",
       "15                   www.kaoduen.com.tw  com.tw                    www   \n",
       "16                   www.kaoduen.com.tw  com.tw                    www   \n",
       "17      cpsshareddocument.sharefile.com     com      cpsshareddocument   \n",
       "18                    groups.google.com     com                 groups   \n",
       "19                  shared-document.com     com                          \n",
       "20             hendrich123hartwig.rocks   rocks                          \n",
       "21  broeschcpapaulbroesch.sharefile.com     com  broeschcpapaulbroesch   \n",
       "22                shccpas.sharefile.com     com                shccpas   \n",
       "23                fmdcpas.sharefile.com     com                fmdcpas   \n",
       "24                     my-partytime.com     com                          \n",
       "25                       robertsdvd.com     com                          \n",
       "26        loja.emporiomanjericao.com.br  com.br                   loja   \n",
       "27                      cooltest.com.cn  com.cn                          \n",
       "28         adpportalupdate.typeform.com     com        adpportalupdate   \n",
       "29              adppotral8.typeform.com     com             adppotral8   \n",
       "30              adpportal1.typeform.com     com             adpportal1   \n",
       "31                    adp6.typeform.com     com                   adp6   \n",
       "32             www.response-o-matic.com     com                    www   \n",
       "\n",
       "    domain_length  subdomain_length  vowel_count  digit_count  \n",
       "0               9                 0            2            0  \n",
       "1               3                 3            0            0  \n",
       "2               8                 0            3            0  \n",
       "3               7                 0            1            0  \n",
       "4              13                 3            5            0  \n",
       "5              17                 0            9            0  \n",
       "6               9                 6            2            0  \n",
       "7               6                 0            3            0  \n",
       "8              13                 0            5            0  \n",
       "9              13                 0            5            0  \n",
       "10              5                 3            2            0  \n",
       "11             15                 0            6            0  \n",
       "12             17                 0            7            0  \n",
       "13             15                 0            5            0  \n",
       "14             13                 0            6            0  \n",
       "15              7                 3            4            0  \n",
       "16              7                 3            4            0  \n",
       "17              9                17            4            0  \n",
       "18              6                 6            3            0  \n",
       "19             15                 0            5            0  \n",
       "20             18                 0            4            3  \n",
       "21              9                21            4            0  \n",
       "22              9                 7            4            0  \n",
       "23              9                 7            4            0  \n",
       "24             12                 0            3            0  \n",
       "25             10                 0            2            0  \n",
       "26             17                 4            9            0  \n",
       "27              8                 0            3            0  \n",
       "28              8                15            2            0  \n",
       "29              8                10            2            0  \n",
       "30              8                10            2            0  \n",
       "31              8                 4            2            0  \n",
       "32             16                 3            6            0  "
      ]
     },
     "execution_count": 130,
     "metadata": {},
     "output_type": "execute_result"
    }
   ],
   "source": [
    "data_df"
   ]
  },
  {
   "cell_type": "code",
   "execution_count": 86,
   "id": "220dbba6",
   "metadata": {},
   "outputs": [
    {
     "data": {
      "text/plain": [
       "com       21\n",
       "com.tw     2\n",
       "com.sg     1\n",
       "or.kr      1\n",
       "gr         1\n",
       "kh.ua      1\n",
       "cc         1\n",
       "com.au     1\n",
       "ca         1\n",
       "rocks      1\n",
       "com.br     1\n",
       "com.cn     1\n",
       "Name: TLD, dtype: int64"
      ]
     },
     "execution_count": 86,
     "metadata": {},
     "output_type": "execute_result"
    }
   ],
   "source": [
    "data_df['TLD'].value_counts()"
   ]
  },
  {
   "cell_type": "code",
   "execution_count": 89,
   "id": "0e18ee75",
   "metadata": {},
   "outputs": [
    {
     "data": {
      "text/plain": [
       "exmouthchapel.com                      2\n",
       "shared-document.com                    2\n",
       "www.kaoduen.com.tw                     2\n",
       "myfitness.com.sg                       1\n",
       "hendrich123hartwig.rocks               1\n",
       "adp6.typeform.com                      1\n",
       "adpportal1.typeform.com                1\n",
       "adppotral8.typeform.com                1\n",
       "adpportalupdate.typeform.com           1\n",
       "cooltest.com.cn                        1\n",
       "loja.emporiomanjericao.com.br          1\n",
       "robertsdvd.com                         1\n",
       "my-partytime.com                       1\n",
       "fmdcpas.sharefile.com                  1\n",
       "shccpas.sharefile.com                  1\n",
       "broeschcpapaulbroesch.sharefile.com    1\n",
       "cpsshareddocument.sharefile.com        1\n",
       "groups.google.com                      1\n",
       "www.cch.or.kr                          1\n",
       "gaelleleberre.com                      1\n",
       "powerhouseproject.ca                   1\n",
       "fpsolutionsaust.com.au                 1\n",
       "www.cainc.cc                           1\n",
       "triada.kh.ua                           1\n",
       "submit.myjotform.com                   1\n",
       "avestaautoprofile.com                  1\n",
       "www.intertechoman.com                  1\n",
       "blackrv.com                            1\n",
       "inmartek.gr                            1\n",
       "www.response-o-matic.com               1\n",
       "Name: hostname, dtype: int64"
      ]
     },
     "execution_count": 89,
     "metadata": {},
     "output_type": "execute_result"
    }
   ],
   "source": [
    "data_df['hostname'].value_counts()"
   ]
  },
  {
   "cell_type": "code",
   "execution_count": 87,
   "id": "35461932",
   "metadata": {},
   "outputs": [
    {
     "data": {
      "text/plain": [
       "                         16\n",
       "www                       6\n",
       "submit                    1\n",
       "cpsshareddocument         1\n",
       "groups                    1\n",
       "broeschcpapaulbroesch     1\n",
       "shccpas                   1\n",
       "fmdcpas                   1\n",
       "loja                      1\n",
       "adpportalupdate           1\n",
       "adppotral8                1\n",
       "adpportal1                1\n",
       "adp6                      1\n",
       "Name: subdomain, dtype: int64"
      ]
     },
     "execution_count": 87,
     "metadata": {},
     "output_type": "execute_result"
    }
   ],
   "source": [
    "data_df['subdomain'].value_counts()"
   ]
  },
  {
   "cell_type": "code",
   "execution_count": null,
   "id": "3177b139",
   "metadata": {},
   "outputs": [],
   "source": []
  },
  {
   "cell_type": "code",
   "execution_count": null,
   "id": "54647c56",
   "metadata": {},
   "outputs": [],
   "source": []
  },
  {
   "cell_type": "code",
   "execution_count": null,
   "id": "3d3fa6bc",
   "metadata": {},
   "outputs": [],
   "source": []
  },
  {
   "cell_type": "code",
   "execution_count": null,
   "id": "9d265272",
   "metadata": {},
   "outputs": [],
   "source": []
  },
  {
   "cell_type": "code",
   "execution_count": null,
   "id": "cd6d68c2",
   "metadata": {},
   "outputs": [],
   "source": []
  }
 ],
 "metadata": {
  "kernelspec": {
   "display_name": "Python 3 (ipykernel)",
   "language": "python",
   "name": "python3"
  },
  "language_info": {
   "codemirror_mode": {
    "name": "ipython",
    "version": 3
   },
   "file_extension": ".py",
   "mimetype": "text/x-python",
   "name": "python",
   "nbconvert_exporter": "python",
   "pygments_lexer": "ipython3",
   "version": "3.9.13"
  }
 },
 "nbformat": 4,
 "nbformat_minor": 5
}
