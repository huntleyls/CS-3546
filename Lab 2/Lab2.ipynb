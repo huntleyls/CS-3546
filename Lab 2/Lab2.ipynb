{
 "cells": [
  {
   "cell_type": "code",
   "execution_count": 29,
   "id": "55864ec3",
   "metadata": {},
   "outputs": [],
   "source": [
    "# Task 0"
   ]
  },
  {
   "cell_type": "code",
   "execution_count": 28,
   "id": "d9f19ea7",
   "metadata": {},
   "outputs": [],
   "source": [
    "\n",
    "import pandas as pd\n",
    "import urllib\n",
    "import urllib.parse\n",
    "import os.path\n",
    "import re"
   ]
  },
  {
   "cell_type": "code",
   "execution_count": 3,
   "id": "72f9fe72",
   "metadata": {},
   "outputs": [
    {
     "name": "stdout",
     "output_type": "stream",
     "text": [
      "Requirement already satisfied: tld in c:\\users\\lucas\\anaconda3\\lib\\site-packages (0.12.7)\n"
     ]
    }
   ],
   "source": [
    "!pip install tld"
   ]
  },
  {
   "cell_type": "code",
   "execution_count": 4,
   "id": "f3665825",
   "metadata": {},
   "outputs": [],
   "source": [
    "from tld import get_tld"
   ]
  },
  {
   "cell_type": "code",
   "execution_count": 5,
   "id": "e40c6674",
   "metadata": {},
   "outputs": [],
   "source": [
    "import tldextract"
   ]
  },
  {
   "cell_type": "code",
   "execution_count": 6,
   "id": "49c6cbce",
   "metadata": {},
   "outputs": [],
   "source": [
    "import tldextract"
   ]
  },
  {
   "cell_type": "code",
   "execution_count": 7,
   "id": "3df09025",
   "metadata": {},
   "outputs": [],
   "source": [
    "import whois"
   ]
  },
  {
   "cell_type": "code",
   "execution_count": 8,
   "id": "19803e5b",
   "metadata": {},
   "outputs": [],
   "source": [
    "import datetime\n",
    "from datetime import datetime"
   ]
  },
  {
   "cell_type": "code",
   "execution_count": 30,
   "id": "5cd91a87",
   "metadata": {},
   "outputs": [],
   "source": [
    "data = pd.read_csv(\"PhishTank-online-banking-phishing-urls.csv\")   # read_csv is an object under pandas package\n",
    "data.shape\n",
    "def is_ip(address):\n",
    "    return address.replace('.', '').isnumeric()"
   ]
  },
  {
   "cell_type": "code",
   "execution_count": 10,
   "id": "f42ae637",
   "metadata": {},
   "outputs": [],
   "source": [
    "data = data.drop(['Description'], axis=1)"
   ]
  },
  {
   "cell_type": "code",
   "execution_count": null,
   "id": "6d094534",
   "metadata": {},
   "outputs": [],
   "source": [
    "# Task 1"
   ]
  },
  {
   "cell_type": "code",
   "execution_count": 11,
   "id": "d2795d17",
   "metadata": {
    "scrolled": true
   },
   "outputs": [
    {
     "data": {
      "text/html": [
       "<div>\n",
       "<style scoped>\n",
       "    .dataframe tbody tr th:only-of-type {\n",
       "        vertical-align: middle;\n",
       "    }\n",
       "\n",
       "    .dataframe tbody tr th {\n",
       "        vertical-align: top;\n",
       "    }\n",
       "\n",
       "    .dataframe thead th {\n",
       "        text-align: right;\n",
       "    }\n",
       "</style>\n",
       "<table border=\"1\" class=\"dataframe\">\n",
       "  <thead>\n",
       "    <tr style=\"text-align: right;\">\n",
       "      <th></th>\n",
       "      <th>Indicator type</th>\n",
       "      <th>Indicator</th>\n",
       "    </tr>\n",
       "  </thead>\n",
       "  <tbody>\n",
       "    <tr>\n",
       "      <th>0</th>\n",
       "      <td>URL</td>\n",
       "      <td>vysodagiva0.xhost.ro/cibc-online-banking/</td>\n",
       "    </tr>\n",
       "    <tr>\n",
       "      <th>1</th>\n",
       "      <td>URL</td>\n",
       "      <td>188.128.111.33/IPTV/TV1324/view.html</td>\n",
       "    </tr>\n",
       "    <tr>\n",
       "      <th>2</th>\n",
       "      <td>URL</td>\n",
       "      <td>115.28.157.120/Public/upload/file/20170419/201...</td>\n",
       "    </tr>\n",
       "    <tr>\n",
       "      <th>3</th>\n",
       "      <td>URL</td>\n",
       "      <td>woodfloorcreations.com/includes/js/tabs/kon/zo...</td>\n",
       "    </tr>\n",
       "    <tr>\n",
       "      <th>4</th>\n",
       "      <td>URL</td>\n",
       "      <td>115.28.157.120/Public/upload/file/20170419/201...</td>\n",
       "    </tr>\n",
       "    <tr>\n",
       "      <th>5</th>\n",
       "      <td>URL</td>\n",
       "      <td>115.28.157.120/Public/upload/file/20170420/201...</td>\n",
       "    </tr>\n",
       "    <tr>\n",
       "      <th>6</th>\n",
       "      <td>URL</td>\n",
       "      <td>ghsuppliers.com/blog/img/apps/homey/redirectio...</td>\n",
       "    </tr>\n",
       "    <tr>\n",
       "      <th>7</th>\n",
       "      <td>URL</td>\n",
       "      <td>marcaldeataide.com.br/website/model/Sichern/Si...</td>\n",
       "    </tr>\n",
       "    <tr>\n",
       "      <th>8</th>\n",
       "      <td>URL</td>\n",
       "      <td>citymarket.imperiavkusov.ru/Easyweb%20TD%20Ban...</td>\n",
       "    </tr>\n",
       "    <tr>\n",
       "      <th>9</th>\n",
       "      <td>URL</td>\n",
       "      <td>www.semazen.net/live/index.php</td>\n",
       "    </tr>\n",
       "  </tbody>\n",
       "</table>\n",
       "</div>"
      ],
      "text/plain": [
       "  Indicator type                                          Indicator\n",
       "0            URL          vysodagiva0.xhost.ro/cibc-online-banking/\n",
       "1            URL               188.128.111.33/IPTV/TV1324/view.html\n",
       "2            URL  115.28.157.120/Public/upload/file/20170419/201...\n",
       "3            URL  woodfloorcreations.com/includes/js/tabs/kon/zo...\n",
       "4            URL  115.28.157.120/Public/upload/file/20170419/201...\n",
       "5            URL  115.28.157.120/Public/upload/file/20170420/201...\n",
       "6            URL  ghsuppliers.com/blog/img/apps/homey/redirectio...\n",
       "7            URL  marcaldeataide.com.br/website/model/Sichern/Si...\n",
       "8            URL  citymarket.imperiavkusov.ru/Easyweb%20TD%20Ban...\n",
       "9            URL                     www.semazen.net/live/index.php"
      ]
     },
     "execution_count": 11,
     "metadata": {},
     "output_type": "execute_result"
    }
   ],
   "source": [
    "data['Indicator'] = data['Indicator'].map(lambda x: x.lstrip('http://').rstrip('aAbBcC'))\n",
    "data['Indicator'] = data['Indicator'].map(lambda x: x.lstrip('https://').rstrip('aAbBcC'))\n",
    "data['Indicator'] = data['Indicator'].map(lambda x: x.lstrip('ftp://').rstrip('aAbBcC'))\n",
    "data.head(10)"
   ]
  },
  {
   "cell_type": "code",
   "execution_count": null,
   "id": "33919d83",
   "metadata": {},
   "outputs": [],
   "source": [
    "# task 2"
   ]
  },
  {
   "cell_type": "code",
   "execution_count": 12,
   "id": "1bbf84ab",
   "metadata": {},
   "outputs": [],
   "source": [
    "def extract_domain (s):\n",
    "    return s.split(\"/\")[0]\n",
    "data['Domain'] = data['Indicator'].apply(extract_domain)"
   ]
  },
  {
   "cell_type": "code",
   "execution_count": 13,
   "id": "4ffe2e41",
   "metadata": {},
   "outputs": [
    {
     "name": "stdout",
     "output_type": "stream",
     "text": [
      "There are 8 IP addresses in the address_column.\n"
     ]
    }
   ],
   "source": [
    "ip_pattern = r'\\b\\d{1,3}\\.\\d{1,3}\\.\\d{1,3}\\.\\d{1,3}\\b'\n",
    "\n",
    "def count_ips(s):\n",
    "    ips = re.findall(ip_pattern, s)\n",
    "    return len(ips)\n",
    "ip_counts = data['Domain'].apply(count_ips)\n",
    "total_ips = ip_counts.sum()\n",
    "print(f\"There are {total_ips} IP addresses in the address_column.\")\n",
    "\n",
    "\n",
    "\n"
   ]
  },
  {
   "cell_type": "code",
   "execution_count": null,
   "id": "6637b87d",
   "metadata": {},
   "outputs": [],
   "source": [
    "# Task 3"
   ]
  },
  {
   "cell_type": "code",
   "execution_count": 14,
   "id": "00c622c5",
   "metadata": {
    "scrolled": true
   },
   "outputs": [
    {
     "name": "stdout",
     "output_type": "stream",
     "text": [
      "There are 302 unique domains\n",
      "                                              Indicator type  Indicator\n",
      "Domain                                                                 \n",
      "                                                           1          8\n",
      "4wholesaleusa.com                                          1          1\n",
      "abcbirding.com                                             1          1\n",
      "account-dashbord.world                                     1          1\n",
      "admininformationonline1322.000webhostapp.com               1          1\n",
      "...                                                      ...        ...\n",
      "xa.yimg.com                                                1          1\n",
      "xarabank.com.mt                                            1          2\n",
      "yoiksaver.ru                                               1          1\n",
      "yourwebupdates.com                                         1          1\n",
      "zavodtitan.ru                                              1          1\n",
      "\n",
      "[302 rows x 2 columns]\n"
     ]
    }
   ],
   "source": [
    "def remove_ip(url):\n",
    "    ip_pattern = re.compile(r'\\b(?:\\d{1,3}\\.){3}\\d{1,3}\\b')\n",
    "    return ip_pattern.sub('', url)\n",
    "data['Domain'] = data['Domain'].apply(remove_ip)\n",
    "uni = data.Domain.nunique();\n",
    "print(\"There are \"+str(uni)+\" unique domains\");\n",
    "df = data.groupby('Domain').nunique()\n",
    "print(df)"
   ]
  },
  {
   "cell_type": "code",
   "execution_count": null,
   "id": "0a96a3a7",
   "metadata": {},
   "outputs": [],
   "source": [
    "# Task 4-9"
   ]
  },
  {
   "cell_type": "code",
   "execution_count": 17,
   "id": "13ae103c",
   "metadata": {},
   "outputs": [],
   "source": [
    "datas = pd.read_csv(\"PhishTank-online-banking-phishing-urls.csv\") \n",
    "hostname_list= []\n",
    "tld_list=[]\n",
    "subdomain_list=[]\n",
    "domain_len_list=[]\n",
    "subdomain_len_list=[]\n",
    "registrar_list= []\n",
    "creation_date_list = []\n",
    "expiration_date_list = []\n",
    "nameservers_list = []\n",
    "vowels_count_list=[]\n",
    "digit_count_list=[]\n",
    "\n",
    "for url in datas['Indicator']:\n",
    "    hostname_with_path = url.split(\"//\")[1]\n",
    "    hostname_only = hostname_with_path.split(\"/\")[0]\n",
    "    if not is_ip(hostname_only):\n",
    "        hostname_list.append(hostname_only)\n",
    "        tld = get_tld(hostname_only, fix_protocol=True)\n",
    "        tld_list.append(tld)\n",
    "        subdomain = tldextract.extract(hostname_only).subdomain\n",
    "        subdomain_list.append(subdomain)\n",
    "        domain = tldextract.extract(hostname_only).domain\n",
    "        domain_len_list.append(len(domain))\n",
    "        subdomain_len_list.append(len(subdomain))\n",
    "        vowels_count_domain = [domain.count(x) for x in \"aeiou\"]\n",
    "        vowels_count_list.append(sum(vowels_count_domain))\n",
    "        digits_count_domain = [domain.count(x) for x in \"1234567890\"]\n",
    "        digit_count_list.append(sum(digits_count_domain))\n",
    "        \n",
    "        \n",
    "    \n",
    "data_df= pd.DataFrame(hostname_list, columns=['hostname'])\n",
    "data_df['TLD']= tld_list\n",
    "data_df['subdomain'] = subdomain_list\n",
    "data_df['domain_length'] = domain_len_list\n",
    "data_df['subdomain_length'] = subdomain_len_list\n",
    "data_df['vowel_count']= vowels_count_list\n",
    "data_df['digit_count']= digit_count_list\n"
   ]
  },
  {
   "cell_type": "code",
   "execution_count": null,
   "id": "3a87f059",
   "metadata": {},
   "outputs": [],
   "source": [
    "# Task 9"
   ]
  },
  {
   "cell_type": "code",
   "execution_count": 23,
   "id": "7006f234",
   "metadata": {
    "scrolled": true
   },
   "outputs": [
    {
     "name": "stdout",
     "output_type": "stream",
     "text": [
      "                                           239\n",
      "www                                        108\n",
      "merlyna                                      3\n",
      "ibank                                        3\n",
      "lloydsbankinggroup                           3\n",
      "registeredinvestmentadvisor                  2\n",
      "blog                                         2\n",
      "ip-173-201-135-29.ip                         2\n",
      "out                                          2\n",
      "dreamhomeloansindia                          2\n",
      "danberry.site                                1\n",
      "bbvacompasstheverify                         1\n",
      "dailynewsread                                1\n",
      "lebanon                                      1\n",
      "secure.bankofamerica.com.online-banking      1\n",
      "jc00pnc0home0                                1\n",
      "vysodagiva0                                  1\n",
      "uib-bank                                     1\n",
      "jpmorganchasesecurebank                      1\n",
      "donefb                                       1\n",
      "simis                                        1\n",
      "admininformationonline1322                   1\n",
      "getfbme                                      1\n",
      "astrology                                    1\n",
      "guiguipartenlive                             1\n",
      "r1.res                                       1\n",
      "volksbanken                                  1\n",
      "bankaustria                                  1\n",
      "ebanking-ch1.ubs.com                         1\n",
      "citymarket                                   1\n",
      "banking                                      1\n",
      "iam1                                         1\n",
      "drive                                        1\n",
      "ankara                                       1\n",
      "ip-23-229-248-164.ip                         1\n",
      "jajaaman                                     1\n",
      "crm                                          1\n",
      "xa                                           1\n",
      "l12411yz                                     1\n",
      "gallerywine                                  1\n",
      "standard                                     1\n",
      "documentflow                                 1\n",
      "fremontriverrock                             1\n",
      "news                                         1\n",
      "Name: subdomain, dtype: int64\n"
     ]
    }
   ],
   "source": [
    "counts = data_df['subdomain'].value_counts()\n",
    "print(counts)"
   ]
  },
  {
   "cell_type": "code",
   "execution_count": null,
   "id": "f10339f1",
   "metadata": {},
   "outputs": [],
   "source": [
    "# Task 10"
   ]
  },
  {
   "cell_type": "code",
   "execution_count": 19,
   "id": "e1c2a5d8",
   "metadata": {},
   "outputs": [
    {
     "name": "stdout",
     "output_type": "stream",
     "text": [
      "Number of unique keywords: 328\n"
     ]
    }
   ],
   "source": [
    "def get_keywords(url):\n",
    "    ext = tldextract.extract(url)\n",
    "    domain = ext.domain\n",
    "    subdomain = ext.subdomain\n",
    "    keywords = (subdomain + \".\" + domain).split(\".\")\n",
    "    keywords = [kw for kw in keywords if len(kw) > 1]\n",
    "    return keywords\n",
    "\n",
    "data_df['keywords'] = data_df['hostname'].apply(get_keywords)\n",
    "\n",
    "unique_keywords = pd.Series([kw for kw_list in data_df['keywords'] for kw in kw_list]).unique()\n",
    "num_keywords = len(unique_keywords)\n",
    "\n",
    "print(f\"Number of unique keywords: {num_keywords}\")"
   ]
  },
  {
   "cell_type": "code",
   "execution_count": null,
   "id": "181c6a87",
   "metadata": {},
   "outputs": [],
   "source": [
    "# Task 11"
   ]
  },
  {
   "cell_type": "code",
   "execution_count": 27,
   "id": "fc78a0fc",
   "metadata": {},
   "outputs": [
    {
     "data": {
      "text/html": [
       "<div>\n",
       "<style scoped>\n",
       "    .dataframe tbody tr th:only-of-type {\n",
       "        vertical-align: middle;\n",
       "    }\n",
       "\n",
       "    .dataframe tbody tr th {\n",
       "        vertical-align: top;\n",
       "    }\n",
       "\n",
       "    .dataframe thead th {\n",
       "        text-align: right;\n",
       "    }\n",
       "</style>\n",
       "<table border=\"1\" class=\"dataframe\">\n",
       "  <thead>\n",
       "    <tr style=\"text-align: right;\">\n",
       "      <th></th>\n",
       "      <th>hostname</th>\n",
       "      <th>TLD</th>\n",
       "      <th>subdomain</th>\n",
       "      <th>domain_length</th>\n",
       "      <th>subdomain_length</th>\n",
       "      <th>vowel_count</th>\n",
       "      <th>digit_count</th>\n",
       "      <th>keywords</th>\n",
       "    </tr>\n",
       "  </thead>\n",
       "  <tbody>\n",
       "    <tr>\n",
       "      <th>0</th>\n",
       "      <td>vysodagiva0.xhost.ro</td>\n",
       "      <td>ro</td>\n",
       "      <td>vysodagiva0</td>\n",
       "      <td>5</td>\n",
       "      <td>11</td>\n",
       "      <td>1</td>\n",
       "      <td>0</td>\n",
       "      <td>[vysodagiva0, xhost]</td>\n",
       "    </tr>\n",
       "    <tr>\n",
       "      <th>1</th>\n",
       "      <td>woodfloorcreations.com</td>\n",
       "      <td>com</td>\n",
       "      <td></td>\n",
       "      <td>18</td>\n",
       "      <td>0</td>\n",
       "      <td>8</td>\n",
       "      <td>0</td>\n",
       "      <td>[woodfloorcreations]</td>\n",
       "    </tr>\n",
       "    <tr>\n",
       "      <th>2</th>\n",
       "      <td>hghsuppliers.com</td>\n",
       "      <td>com</td>\n",
       "      <td></td>\n",
       "      <td>12</td>\n",
       "      <td>0</td>\n",
       "      <td>3</td>\n",
       "      <td>0</td>\n",
       "      <td>[hghsuppliers]</td>\n",
       "    </tr>\n",
       "    <tr>\n",
       "      <th>3</th>\n",
       "      <td>marcaldeataide.com.br</td>\n",
       "      <td>com.br</td>\n",
       "      <td></td>\n",
       "      <td>14</td>\n",
       "      <td>0</td>\n",
       "      <td>7</td>\n",
       "      <td>0</td>\n",
       "      <td>[marcaldeataide]</td>\n",
       "    </tr>\n",
       "    <tr>\n",
       "      <th>4</th>\n",
       "      <td>citymarket.imperiavkusov.ru</td>\n",
       "      <td>ru</td>\n",
       "      <td>citymarket</td>\n",
       "      <td>13</td>\n",
       "      <td>10</td>\n",
       "      <td>6</td>\n",
       "      <td>0</td>\n",
       "      <td>[citymarket, imperiavkusov]</td>\n",
       "    </tr>\n",
       "    <tr>\n",
       "      <th>5</th>\n",
       "      <td>www.semazen.net</td>\n",
       "      <td>net</td>\n",
       "      <td>www</td>\n",
       "      <td>7</td>\n",
       "      <td>3</td>\n",
       "      <td>3</td>\n",
       "      <td>0</td>\n",
       "      <td>[www, semazen]</td>\n",
       "    </tr>\n",
       "    <tr>\n",
       "      <th>6</th>\n",
       "      <td>vindetect.cz</td>\n",
       "      <td>cz</td>\n",
       "      <td></td>\n",
       "      <td>9</td>\n",
       "      <td>0</td>\n",
       "      <td>3</td>\n",
       "      <td>0</td>\n",
       "      <td>[vindetect]</td>\n",
       "    </tr>\n",
       "    <tr>\n",
       "      <th>7</th>\n",
       "      <td>merlyna.tecnologia7.com</td>\n",
       "      <td>com</td>\n",
       "      <td>merlyna</td>\n",
       "      <td>11</td>\n",
       "      <td>7</td>\n",
       "      <td>5</td>\n",
       "      <td>1</td>\n",
       "      <td>[merlyna, tecnologia7]</td>\n",
       "    </tr>\n",
       "    <tr>\n",
       "      <th>8</th>\n",
       "      <td>merlyna.tecnologia7.com</td>\n",
       "      <td>com</td>\n",
       "      <td>merlyna</td>\n",
       "      <td>11</td>\n",
       "      <td>7</td>\n",
       "      <td>5</td>\n",
       "      <td>1</td>\n",
       "      <td>[merlyna, tecnologia7]</td>\n",
       "    </tr>\n",
       "    <tr>\n",
       "      <th>9</th>\n",
       "      <td>merlyna.tecnologia7.com</td>\n",
       "      <td>com</td>\n",
       "      <td>merlyna</td>\n",
       "      <td>11</td>\n",
       "      <td>7</td>\n",
       "      <td>5</td>\n",
       "      <td>1</td>\n",
       "      <td>[merlyna, tecnologia7]</td>\n",
       "    </tr>\n",
       "  </tbody>\n",
       "</table>\n",
       "</div>"
      ],
      "text/plain": [
       "                      hostname     TLD    subdomain  domain_length  \\\n",
       "0         vysodagiva0.xhost.ro      ro  vysodagiva0              5   \n",
       "1       woodfloorcreations.com     com                          18   \n",
       "2             hghsuppliers.com     com                          12   \n",
       "3        marcaldeataide.com.br  com.br                          14   \n",
       "4  citymarket.imperiavkusov.ru      ru   citymarket             13   \n",
       "5              www.semazen.net     net          www              7   \n",
       "6                 vindetect.cz      cz                           9   \n",
       "7      merlyna.tecnologia7.com     com      merlyna             11   \n",
       "8      merlyna.tecnologia7.com     com      merlyna             11   \n",
       "9      merlyna.tecnologia7.com     com      merlyna             11   \n",
       "\n",
       "   subdomain_length  vowel_count  digit_count                     keywords  \n",
       "0                11            1            0         [vysodagiva0, xhost]  \n",
       "1                 0            8            0         [woodfloorcreations]  \n",
       "2                 0            3            0               [hghsuppliers]  \n",
       "3                 0            7            0             [marcaldeataide]  \n",
       "4                10            6            0  [citymarket, imperiavkusov]  \n",
       "5                 3            3            0               [www, semazen]  \n",
       "6                 0            3            0                  [vindetect]  \n",
       "7                 7            5            1       [merlyna, tecnologia7]  \n",
       "8                 7            5            1       [merlyna, tecnologia7]  \n",
       "9                 7            5            1       [merlyna, tecnologia7]  "
      ]
     },
     "execution_count": 27,
     "metadata": {},
     "output_type": "execute_result"
    }
   ],
   "source": [
    "data_df.head(10)"
   ]
  },
  {
   "cell_type": "code",
   "execution_count": 26,
   "id": "b0f0ed88",
   "metadata": {},
   "outputs": [
    {
     "data": {
      "text/plain": [
       "(400, 8)"
      ]
     },
     "execution_count": 26,
     "metadata": {},
     "output_type": "execute_result"
    }
   ],
   "source": [
    "data_df.shape"
   ]
  },
  {
   "cell_type": "code",
   "execution_count": null,
   "id": "f4b35217",
   "metadata": {},
   "outputs": [],
   "source": []
  }
 ],
 "metadata": {
  "kernelspec": {
   "display_name": "Python 3 (ipykernel)",
   "language": "python",
   "name": "python3"
  },
  "language_info": {
   "codemirror_mode": {
    "name": "ipython",
    "version": 3
   },
   "file_extension": ".py",
   "mimetype": "text/x-python",
   "name": "python",
   "nbconvert_exporter": "python",
   "pygments_lexer": "ipython3",
   "version": "3.9.13"
  }
 },
 "nbformat": 4,
 "nbformat_minor": 5
}
