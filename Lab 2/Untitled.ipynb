{
 "cells": [
  {
   "cell_type": "code",
   "execution_count": 12,
   "id": "b653ea15",
   "metadata": {},
   "outputs": [],
   "source": [
    "t"
   ]
  },
  {
   "cell_type": "code",
   "execution_count": 13,
   "id": "d46daf47",
   "metadata": {},
   "outputs": [
    {
     "name": "stdout",
     "output_type": "stream",
     "text": [
      "Requirement already satisfied: tld in c:\\users\\lucas\\anaconda3\\lib\\site-packages (0.12.7)\n"
     ]
    }
   ],
   "source": [
    "!pip install tld"
   ]
  },
  {
   "cell_type": "code",
   "execution_count": 14,
   "id": "f586f30c",
   "metadata": {},
   "outputs": [],
   "source": [
    "from tld import get_tld"
   ]
  },
  {
   "cell_type": "code",
   "execution_count": 15,
   "id": "0b320bce",
   "metadata": {},
   "outputs": [
    {
     "name": "stdout",
     "output_type": "stream",
     "text": [
      "Collecting python-whois\n",
      "  Downloading python-whois-0.8.0.tar.gz (109 kB)\n",
      "     -------------------------------------- 109.6/109.6 kB 2.1 MB/s eta 0:00:00\n",
      "  Preparing metadata (setup.py): started\n",
      "  Preparing metadata (setup.py): finished with status 'done'\n",
      "Requirement already satisfied: future in c:\\users\\lucas\\anaconda3\\lib\\site-packages (from python-whois) (0.18.2)\n",
      "Building wheels for collected packages: python-whois\n",
      "  Building wheel for python-whois (setup.py): started\n",
      "  Building wheel for python-whois (setup.py): finished with status 'done'\n",
      "  Created wheel for python-whois: filename=python_whois-0.8.0-py3-none-any.whl size=103247 sha256=3ced528b78a9c60605269f53d7b5f0b1d8b11f9800141a8811a6b46c336213a8\n",
      "  Stored in directory: c:\\users\\lucas\\appdata\\local\\pip\\cache\\wheels\\e6\\e9\\d3\\1e41a6c95b398de12c5a332ff28805aa44e68aa317ea60266d\n",
      "Successfully built python-whois\n",
      "Installing collected packages: python-whois\n",
      "Successfully installed python-whois-0.8.0\n"
     ]
    }
   ],
   "source": [
    "!pip install python-whois"
   ]
  },
  {
   "cell_type": "code",
   "execution_count": 2,
   "id": "fbfa951d",
   "metadata": {},
   "outputs": [
    {
     "data": {
      "text/plain": [
       "(408, 3)"
      ]
     },
     "execution_count": 2,
     "metadata": {},
     "output_type": "execute_result"
    }
   ],
   "source": [
    "\n",
    "import pandas as pd  \n",
    "data = pd.read_csv(\"PhishTank-online-banking-phishing-urls.csv\")   # read_csv is an object under pandas package\n",
    "data.shape"
   ]
  },
  {
   "cell_type": "code",
   "execution_count": null,
   "id": "c9448a9d",
   "metadata": {},
   "outputs": [],
   "source": []
  },
  {
   "cell_type": "code",
   "execution_count": 3,
   "id": "669b895a",
   "metadata": {},
   "outputs": [
    {
     "data": {
      "text/html": [
       "<div>\n",
       "<style scoped>\n",
       "    .dataframe tbody tr th:only-of-type {\n",
       "        vertical-align: middle;\n",
       "    }\n",
       "\n",
       "    .dataframe tbody tr th {\n",
       "        vertical-align: top;\n",
       "    }\n",
       "\n",
       "    .dataframe thead th {\n",
       "        text-align: right;\n",
       "    }\n",
       "</style>\n",
       "<table border=\"1\" class=\"dataframe\">\n",
       "  <thead>\n",
       "    <tr style=\"text-align: right;\">\n",
       "      <th></th>\n",
       "      <th>Indicator type</th>\n",
       "      <th>Indicator</th>\n",
       "      <th>Description</th>\n",
       "    </tr>\n",
       "  </thead>\n",
       "  <tbody>\n",
       "    <tr>\n",
       "      <th>0</th>\n",
       "      <td>URL</td>\n",
       "      <td>http://vysodagiva0.xhost.ro/cibc-online-banking/</td>\n",
       "      <td>NaN</td>\n",
       "    </tr>\n",
       "    <tr>\n",
       "      <th>1</th>\n",
       "      <td>URL</td>\n",
       "      <td>ftp://188.128.111.33/IPTV/TV1324/view.html</td>\n",
       "      <td>NaN</td>\n",
       "    </tr>\n",
       "    <tr>\n",
       "      <th>2</th>\n",
       "      <td>URL</td>\n",
       "      <td>http://115.28.157.120/Public/upload/file/20170...</td>\n",
       "      <td>NaN</td>\n",
       "    </tr>\n",
       "    <tr>\n",
       "      <th>3</th>\n",
       "      <td>URL</td>\n",
       "      <td>http://woodfloorcreations.com/includes/js/tabs...</td>\n",
       "      <td>NaN</td>\n",
       "    </tr>\n",
       "    <tr>\n",
       "      <th>4</th>\n",
       "      <td>URL</td>\n",
       "      <td>http://115.28.157.120/Public/upload/file/20170...</td>\n",
       "      <td>NaN</td>\n",
       "    </tr>\n",
       "    <tr>\n",
       "      <th>5</th>\n",
       "      <td>URL</td>\n",
       "      <td>http://115.28.157.120/Public/upload/file/20170...</td>\n",
       "      <td>NaN</td>\n",
       "    </tr>\n",
       "    <tr>\n",
       "      <th>6</th>\n",
       "      <td>URL</td>\n",
       "      <td>http://hghsuppliers.com/blog/img/apps/homey/re...</td>\n",
       "      <td>NaN</td>\n",
       "    </tr>\n",
       "    <tr>\n",
       "      <th>7</th>\n",
       "      <td>URL</td>\n",
       "      <td>http://marcaldeataide.com.br/website/model/Sic...</td>\n",
       "      <td>NaN</td>\n",
       "    </tr>\n",
       "    <tr>\n",
       "      <th>8</th>\n",
       "      <td>URL</td>\n",
       "      <td>http://citymarket.imperiavkusov.ru/Easyweb%20T...</td>\n",
       "      <td>NaN</td>\n",
       "    </tr>\n",
       "    <tr>\n",
       "      <th>9</th>\n",
       "      <td>URL</td>\n",
       "      <td>http://www.semazen.net/live/index.php</td>\n",
       "      <td>NaN</td>\n",
       "    </tr>\n",
       "  </tbody>\n",
       "</table>\n",
       "</div>"
      ],
      "text/plain": [
       "  Indicator type                                          Indicator  \\\n",
       "0            URL   http://vysodagiva0.xhost.ro/cibc-online-banking/   \n",
       "1            URL         ftp://188.128.111.33/IPTV/TV1324/view.html   \n",
       "2            URL  http://115.28.157.120/Public/upload/file/20170...   \n",
       "3            URL  http://woodfloorcreations.com/includes/js/tabs...   \n",
       "4            URL  http://115.28.157.120/Public/upload/file/20170...   \n",
       "5            URL  http://115.28.157.120/Public/upload/file/20170...   \n",
       "6            URL  http://hghsuppliers.com/blog/img/apps/homey/re...   \n",
       "7            URL  http://marcaldeataide.com.br/website/model/Sic...   \n",
       "8            URL  http://citymarket.imperiavkusov.ru/Easyweb%20T...   \n",
       "9            URL              http://www.semazen.net/live/index.php   \n",
       "\n",
       "   Description  \n",
       "0          NaN  \n",
       "1          NaN  \n",
       "2          NaN  \n",
       "3          NaN  \n",
       "4          NaN  \n",
       "5          NaN  \n",
       "6          NaN  \n",
       "7          NaN  \n",
       "8          NaN  \n",
       "9          NaN  "
      ]
     },
     "execution_count": 3,
     "metadata": {},
     "output_type": "execute_result"
    }
   ],
   "source": [
    "data.head(10)"
   ]
  },
  {
   "cell_type": "code",
   "execution_count": 7,
   "id": "cfb2e044",
   "metadata": {},
   "outputs": [],
   "source": [
    "data['Indicator'] = data['Indicator'].map(lambda x: x.lstrip('http://').rstrip('aAbBcC'))\n",
    "data['Indicator'] = data['Indicator'].map(lambda x: x.lstrip('https://').rstrip('aAbBcC'))\n",
    "data['Indicator'] = data['Indicator'].map(lambda x: x.lstrip('ftp://').rstrip('aAbBcC'))"
   ]
  },
  {
   "cell_type": "code",
   "execution_count": 8,
   "id": "b9c6917a",
   "metadata": {},
   "outputs": [
    {
     "data": {
      "text/html": [
       "<div>\n",
       "<style scoped>\n",
       "    .dataframe tbody tr th:only-of-type {\n",
       "        vertical-align: middle;\n",
       "    }\n",
       "\n",
       "    .dataframe tbody tr th {\n",
       "        vertical-align: top;\n",
       "    }\n",
       "\n",
       "    .dataframe thead th {\n",
       "        text-align: right;\n",
       "    }\n",
       "</style>\n",
       "<table border=\"1\" class=\"dataframe\">\n",
       "  <thead>\n",
       "    <tr style=\"text-align: right;\">\n",
       "      <th></th>\n",
       "      <th>Indicator type</th>\n",
       "      <th>Indicator</th>\n",
       "      <th>Description</th>\n",
       "    </tr>\n",
       "  </thead>\n",
       "  <tbody>\n",
       "    <tr>\n",
       "      <th>0</th>\n",
       "      <td>URL</td>\n",
       "      <td>vysodagiva0.xhost.ro/cibc-online-banking/</td>\n",
       "      <td>NaN</td>\n",
       "    </tr>\n",
       "    <tr>\n",
       "      <th>1</th>\n",
       "      <td>URL</td>\n",
       "      <td>188.128.111.33/IPTV/TV1324/view.html</td>\n",
       "      <td>NaN</td>\n",
       "    </tr>\n",
       "    <tr>\n",
       "      <th>2</th>\n",
       "      <td>URL</td>\n",
       "      <td>115.28.157.120/Public/upload/file/20170419/201...</td>\n",
       "      <td>NaN</td>\n",
       "    </tr>\n",
       "    <tr>\n",
       "      <th>3</th>\n",
       "      <td>URL</td>\n",
       "      <td>woodfloorcreations.com/includes/js/tabs/kon/zo...</td>\n",
       "      <td>NaN</td>\n",
       "    </tr>\n",
       "    <tr>\n",
       "      <th>4</th>\n",
       "      <td>URL</td>\n",
       "      <td>115.28.157.120/Public/upload/file/20170419/201...</td>\n",
       "      <td>NaN</td>\n",
       "    </tr>\n",
       "    <tr>\n",
       "      <th>...</th>\n",
       "      <td>...</td>\n",
       "      <td>...</td>\n",
       "      <td>...</td>\n",
       "    </tr>\n",
       "    <tr>\n",
       "      <th>95</th>\n",
       "      <td>URL</td>\n",
       "      <td>www.segurosandina.com/wp-content/upgrade/10g1ns/</td>\n",
       "      <td>NaN</td>\n",
       "    </tr>\n",
       "    <tr>\n",
       "      <th>96</th>\n",
       "      <td>URL</td>\n",
       "      <td>www.christmascartoons.org/wp-includes/reset/St...</td>\n",
       "      <td>NaN</td>\n",
       "    </tr>\n",
       "    <tr>\n",
       "      <th>97</th>\n",
       "      <td>URL</td>\n",
       "      <td>christmascartoons.org/wp-includes/reset/Step2-...</td>\n",
       "      <td>NaN</td>\n",
       "    </tr>\n",
       "    <tr>\n",
       "      <th>98</th>\n",
       "      <td>URL</td>\n",
       "      <td>www.mautam.org/blog/wp-content/gallery/stpadre...</td>\n",
       "      <td>NaN</td>\n",
       "    </tr>\n",
       "    <tr>\n",
       "      <th>99</th>\n",
       "      <td>URL</td>\n",
       "      <td>ehss.co.th/templates/protostar/js/us.html</td>\n",
       "      <td>NaN</td>\n",
       "    </tr>\n",
       "  </tbody>\n",
       "</table>\n",
       "<p>100 rows × 3 columns</p>\n",
       "</div>"
      ],
      "text/plain": [
       "   Indicator type                                          Indicator  \\\n",
       "0             URL          vysodagiva0.xhost.ro/cibc-online-banking/   \n",
       "1             URL               188.128.111.33/IPTV/TV1324/view.html   \n",
       "2             URL  115.28.157.120/Public/upload/file/20170419/201...   \n",
       "3             URL  woodfloorcreations.com/includes/js/tabs/kon/zo...   \n",
       "4             URL  115.28.157.120/Public/upload/file/20170419/201...   \n",
       "..            ...                                                ...   \n",
       "95            URL   www.segurosandina.com/wp-content/upgrade/10g1ns/   \n",
       "96            URL  www.christmascartoons.org/wp-includes/reset/St...   \n",
       "97            URL  christmascartoons.org/wp-includes/reset/Step2-...   \n",
       "98            URL  www.mautam.org/blog/wp-content/gallery/stpadre...   \n",
       "99            URL          ehss.co.th/templates/protostar/js/us.html   \n",
       "\n",
       "    Description  \n",
       "0           NaN  \n",
       "1           NaN  \n",
       "2           NaN  \n",
       "3           NaN  \n",
       "4           NaN  \n",
       "..          ...  \n",
       "95          NaN  \n",
       "96          NaN  \n",
       "97          NaN  \n",
       "98          NaN  \n",
       "99          NaN  \n",
       "\n",
       "[100 rows x 3 columns]"
      ]
     },
     "execution_count": 8,
     "metadata": {},
     "output_type": "execute_result"
    }
   ],
   "source": [
    "data.head(100)"
   ]
  }
 ],
 "metadata": {
  "kernelspec": {
   "display_name": "Python 3 (ipykernel)",
   "language": "python",
   "name": "python3"
  },
  "language_info": {
   "codemirror_mode": {
    "name": "ipython",
    "version": 3
   },
   "file_extension": ".py",
   "mimetype": "text/x-python",
   "name": "python",
   "nbconvert_exporter": "python",
   "pygments_lexer": "ipython3",
   "version": "3.9.13"
  }
 },
 "nbformat": 4,
 "nbformat_minor": 5
}
